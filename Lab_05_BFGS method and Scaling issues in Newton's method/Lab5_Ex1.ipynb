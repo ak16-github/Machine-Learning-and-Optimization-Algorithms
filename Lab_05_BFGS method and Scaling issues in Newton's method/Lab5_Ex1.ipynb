{
  "nbformat": 4,
  "nbformat_minor": 0,
  "metadata": {
    "colab": {
      "name": "20i190011_IE 684_Lab 5_Ex1.ipynb",
      "provenance": [],
      "collapsed_sections": []
    },
    "kernelspec": {
      "name": "python3",
      "display_name": "Python 3"
    }
  },
  "cells": [
    {
      "cell_type": "markdown",
      "metadata": {
        "id": "nVE0Xoa0Q5wE"
      },
      "source": [
        "$\\Large\\textbf{Lab 5.} \\large\\textbf{Exercise 1.}$\r\n",
        "\r\n"
      ]
    },
    {
      "cell_type": "markdown",
      "metadata": {
        "id": "YVkab74DJsRL"
      },
      "source": [
        "In the last few labs, we have been discussing about gradient descent and Newton's methods to solve problems of the form $\\min_{\\mathbf{x} \\in {\\mathbb{R}}^n} f(\\mathbf{x})$. We discussed the importance of scaling the direction along which the descent step is taken during the update. This scaling helped in better conditioning of the problem. Further we noticed that Newton's method might be fast in most cases when compared to gradient descent. This feature of Newton's method is attractive but is available only under certain assumptions. \r\n",
        "\r\n",
        "\r\n",
        "In the implementation of Newton's method, we noticed that the inverse of Hessian is required at each iteration. "
      ]
    },
    {
      "cell_type": "markdown",
      "metadata": {
        "id": "b-Meohokl4xP"
      },
      "source": [
        "Consider the problem $\\min_{\\mathbf{x} \\in {\\mathbb{R}}^n} f(\\mathbf{x}) = \\frac{1}{2} \\mathbf{x}^\\top \\mathbf{A} \\mathbf{x}$ where $A$ is a $n \\times n$ symmetric positive definite matrix. \r\n",
        "\r\n",
        "Note that $\\nabla^2 f(\\mathbf{x}) = \\mathbf{A}$.  We will now investigate the computational effort needed to compute the inverse of the Hessian matrix $A$ for large $n$ values. \r\n",
        "\r\n",
        "First let us create a useful candidate for $\\mathbf{A}$. Then we will check the time taken to compute the inverse of matrix $\\mathbf{A}$."
      ]
    },
    {
      "cell_type": "code",
      "metadata": {
        "colab": {
          "base_uri": "https://localhost:8080/"
        },
        "id": "3UrRlG7cjV05",
        "outputId": "0f7dfa16-b5c6-467e-bad7-b71346f0a6a0"
      },
      "source": [
        "#code for creating a random positive definite matrix \n",
        "#we will first import the numpy package and name it as np\n",
        " \n",
        "import numpy as np \n",
        "#create a random nxn matrix \n",
        "n = 100\n",
        "B = np.random.rand(n, n)\n",
        "A = np.matmul(B,B.T) #Note: This construction ensures that A is symmetric\n",
        "A = np.add(A, 0.001*np.identity(n)) #this diagonal perturbation helps to make the matrix positive definite \n",
        " \n",
        "#check if A is in fact symmetric positive definite \n",
        "print('Is A symmetric? Answer:', np.sum(np.sum(np.subtract(A,A.T))) == 0 )\n",
        "print('Is A positive definite? Answer:', np.amin(np.linalg.eigvalsh(A))>0 )"
      ],
      "execution_count": null,
      "outputs": [
        {
          "output_type": "stream",
          "text": [
            "Is A symmetric? Answer: True\n",
            "Is A positive definite? Answer: True\n"
          ],
          "name": "stdout"
        }
      ]
    },
    {
      "cell_type": "code",
      "metadata": {
        "colab": {
          "base_uri": "https://localhost:8080/"
        },
        "id": "5Tk6cydJla2m",
        "outputId": "0cacacfc-7e3a-43a5-abbd-2b67b1003687"
      },
      "source": [
        "#Let us now check the time taken for computing the inverse of matrix A\n",
        "from timeit import default_timer as timer\n",
        "start_time = timer()\n",
        "A_inv = np.linalg.inv(A)\n",
        "end_time = timer()\n",
        "print('Time taken to compute inverse of A:',end_time - start_time)"
      ],
      "execution_count": null,
      "outputs": [
        {
          "output_type": "stream",
          "text": [
            "Time taken to compute inverse of A: 0.007885345999994797\n"
          ],
          "name": "stdout"
        }
      ]
    },
    {
      "cell_type": "markdown",
      "metadata": {
        "id": "la65evmcnqS8"
      },
      "source": [
        "$\\large\\textbf{2. Question:}$ Choose $n \\in \\{500,1000,2500,5000,7500,10000\\}$ and find the time taken to compute the inverse of $\\mathbf{A}$ for each possible value of $n$. Comment on your observations. Do you observe similar trends in the time taken to test the positive definiteness of $\\mathbf{A}$ ? Comment and provide appropriate reasons for your observations. \r\n"
      ]
    },
    {
      "cell_type": "markdown",
      "metadata": {
        "id": "2j7gBZlT8TB5"
      },
      "source": [
        "$\\large\\textbf{Answer:}$"
      ]
    },
    {
      "cell_type": "code",
      "metadata": {
        "colab": {
          "base_uri": "https://localhost:8080/"
        },
        "id": "MhQtwq0n8McM",
        "outputId": "562367bc-2199-4f4a-e80b-3b24f8826542"
      },
      "source": [
        "n_list = [500,1000,2500,5000,7500,10000]  # list of different values of n.\n",
        "B_list = [np.random.rand(p, p) for p in n_list]\n",
        "A_list = [np.matmul(B,B.T) for B in B_list]       #list of symmetric matrices\n",
        "positive_def_list = [np.add(A, 0.001*np.identity(A.shape[0])) for A in A_list]\n",
        " \n",
        "for A in positive_def_list:\n",
        "  start_time = timer()\n",
        "  A_inv = np.linalg.inv(A)\n",
        "  end_time = timer()\n",
        "  print('For n = ', A.shape[0],',  time taken to compute the inverse of A: ',end_time - start_time)\n",
        "  \n",
        "  start_time = timer()\n",
        "  np.amin(np.linalg.eigvalsh(A))\n",
        "  end_time = timer()\n",
        "  print('For n = ', A.shape[0],',  time taken to test the positive definiteness of A: ',end_time - start_time)\n",
        "  print()"
      ],
      "execution_count": null,
      "outputs": [
        {
          "output_type": "stream",
          "text": [
            "For n =  500 ,  time taken to compute the inverse of A:  0.022161110000013196\n",
            "For n =  500 ,  time taken to test the positive definiteness of A:  0.026905629999987468\n",
            "\n",
            "For n =  1000 ,  time taken to compute the inverse of A:  0.12242733000002204\n",
            "For n =  1000 ,  time taken to test the positive definiteness of A:  0.16844822999999565\n",
            "\n",
            "For n =  2500 ,  time taken to compute the inverse of A:  1.3941281500000002\n",
            "For n =  2500 ,  time taken to test the positive definiteness of A:  3.2497779889999947\n",
            "\n",
            "For n =  5000 ,  time taken to compute the inverse of A:  10.356504237999985\n",
            "For n =  5000 ,  time taken to test the positive definiteness of A:  25.04987238800001\n",
            "\n",
            "For n =  7500 ,  time taken to compute the inverse of A:  33.87698304599999\n",
            "For n =  7500 ,  time taken to test the positive definiteness of A:  79.58071110200001\n",
            "\n",
            "For n =  10000 ,  time taken to compute the inverse of A:  81.54617376499999\n",
            "For n =  10000 ,  time taken to test the positive definiteness of A:  187.88416792800007\n",
            "\n"
          ],
          "name": "stdout"
        }
      ]
    },
    {
      "cell_type": "markdown",
      "metadata": {
        "id": "bMsZivoW9Y14"
      },
      "source": [
        "**COMMENTS ON OBSERVATIONS:** \\\r\n",
        "1. From the above output it is clear that the time taken to compute the Inverse of matrix $A$ is less in comparison to the time taken to test the positive definiteness of matrix $A$.\r\n",
        "2. For increasing values of $n$, the time taken to compute the inverse and the time taken to test the positive definiteness of matrix $A$ also increases."
      ]
    },
    {
      "cell_type": "markdown",
      "metadata": {
        "id": "ZvWjvAgnXxS3"
      },
      "source": [
        "However if we use Newton's method to solve $\\min_{\\mathbf{x} \\in {\\mathbb{R}}^n} 0.5 \\mathbf{x}^\\top \\mathbf{A}\\mathbf{x}$ then the inverse of the Hessian remains invariant to the iterates $\\mathbf{x}^k$ and hence can be computed once for all iterations. The situation becomes worse when the inverse of the Hessian needs to be computed afresh at every iteration. \r\n",
        "\r\n",
        "To demonstrate this fact, let us try to use Newton's method to solve the problem $\\min_{\\mathbf{x} \\in {\\mathbb{R}}^n} f(\\mathbf{x})$ where $f(\\mathbf{x})=f(x_1,x_2,\\ldots,x_n) = \\sum_{i=1}^{n-1} \\left [2(x_i^2 - x_{i+1})^2 + (x_i-1)^2) \\right ]$.\r\n",
        "\r\n"
      ]
    },
    {
      "cell_type": "markdown",
      "metadata": {
        "id": "P1TNnH0Drj88"
      },
      "source": [
        "$\\large\\textbf{4. Question:}$\r\n",
        "\r\n",
        "Implement Newton's method to solve the problem $\\min_{\\mathbf{x} \\in {\\mathbb{R}}^n} f(\\mathbf{x})$ where $f(\\mathbf{x})=f(x_1,x_2,\\ldots,x_n) = \\sum_{i=1}^{n-1} \\left [2(x_i^2 - x_{i+1})^2 + (x_i-1)^2) \\right ]$. Take $n \\in \\{1000, 2500, 5000, 7500, 10000\\}$ and compute the time taken by the Newton's method to find the minimizer for each value of $n$. Take the starting point to be $\\mathbf{x}^0 = (0,0,\\ldots,0)$. Choose $\\eta^k = 1, \\forall k $ in the implementation of Newton's method. Prepare a graph where you plot the time taken by Newton's method vs $n$.   "
      ]
    },
    {
      "cell_type": "markdown",
      "metadata": {
        "id": "caJz_192aA05"
      },
      "source": [
        "**SOLUTION:**"
      ]
    },
    {
      "cell_type": "code",
      "metadata": {
        "id": "fG0uccfbZNHd"
      },
      "source": [
        "#Now we will define a function which will compute and return the function value \r\n",
        "def evalf(x, n):  \r\n",
        "  #Input: x is a numpy array of size n \r\n",
        "  assert type(x) is np.ndarray  #do not allow arbitrary type arguments \r\n",
        "  assert len(x) == n #do not allow arbitrary size arguments \r\n",
        "  #after checking if the argument is valid, we can compute the objective function value\r\n",
        "  #compute the function value and return it \r\n",
        "  return sum([2*(x[i]**2-x[i+1])**2 + (x[i]-1)**2 for i in range(n-1)])"
      ],
      "execution_count": null,
      "outputs": []
    },
    {
      "cell_type": "code",
      "metadata": {
        "id": "g6vctywuZNHf"
      },
      "source": [
        "#Now we will define a function which will compute and return the gradient value as a numpy array\r\n",
        "#grad = [] #global variable\r\n",
        "def evalg(x, n):  \r\n",
        "  #Input: x is a numpy array of size n\r\n",
        "  assert type(x) is np.ndarray  #do not allow arbitrary type arguments \r\n",
        "  assert len(x) == n #do not allow arbitrary size arguments \r\n",
        "  #after checking if the argument is valid, we can compute the gradient value\r\n",
        "  #compute the gradient value and return it \r\n",
        "  grad = [] #local variable >> cannot be called outside the function directly.\r\n",
        "  for i in range(n):\r\n",
        "    if i==0:\r\n",
        "      grad.append(8*(x[i]**2-x[i+1])*x[i]+2*(x[i]-1))\r\n",
        "    elif 1<=i<=n-2:\r\n",
        "      grad.append(8*(x[i]**2-x[i+1])*x[i]+2*(x[i]-1)-4*(x[i-1]**2-x[i]))\r\n",
        "    else:\r\n",
        "      grad.append(-4*(x[i-1]**2-x[i]))\r\n",
        "  return np.array(grad)\r\n"
      ],
      "execution_count": null,
      "outputs": []
    },
    {
      "cell_type": "code",
      "metadata": {
        "id": "i-C3TElYZNHg"
      },
      "source": [
        "def evalh(x,n):\r\n",
        "  assert type(x) is np.ndarray  #do not allow arbitrary type arguments \r\n",
        "  assert len(x) == n #do not allow arbitrary size arguments \r\n",
        "  #hess = ??\r\n",
        "  hess = np.zeros([n,n])\r\n",
        "  for i in range(n):\r\n",
        "    if i==0:\r\n",
        "      hess[i][i] = 8*(x[i]**2-x[i+1]) + 16*x[i] + 2 ; hess[i][i+1] = -8*x[i]\r\n",
        "    elif 1<=i<=n-2:\r\n",
        "      hess[i][i] = 8*(x[i]**2-x[i+1]) + 16*x[i]**2 + 6\r\n",
        "      hess[i][i+1] = -8*x[i]\r\n",
        "      hess[i][i-1] = -8*x[i-1]\r\n",
        "    else:\r\n",
        "      hess[i][i] = 4 ; hess[i][i-1] = hess[i-1][i] # since hessian matrix is a symmetric matrix.\r\n",
        "\r\n",
        "  #check if Hessian is symmetric \r\n",
        "  #print('Is Hessian symmetric? Answer:', np.sum(np.sum(np.subtract(hess,hess.T))) == 0 )\r\n",
        "\r\n",
        "  #check if Hessian is positive definite\r\n",
        "  #print('Is Hessian positive definite? Answer:', np.amin(np.linalg.eigvalsh(hess))>0 )\r\n",
        "  return hess"
      ],
      "execution_count": null,
      "outputs": []
    },
    {
      "cell_type": "code",
      "metadata": {
        "id": "6AFLiAQfZNHh"
      },
      "source": [
        "#line search type \r\n",
        "CONSTANT_STEP_LENGTH = 3\r\n",
        "BACKTRACKING_LINE_SEARCH = 2\r\n",
        "EXACT_LINE_SEARCH = 1"
      ],
      "execution_count": null,
      "outputs": []
    },
    {
      "cell_type": "code",
      "metadata": {
        "id": "CFBblitZZNHi"
      },
      "source": [
        "def find_minimizer_Newtonmethod(start_x, n, tol, line_search_type, *args):\r\n",
        "  #Input: start_x is a numpy array of size n, tol denotes the tolerance and is a positive float value\r\n",
        "  assert type(start_x) is np.ndarray #do not allow arbitrary type arguments \r\n",
        "  assert len(start_x) == n #do not allow arbitrary size arguments \r\n",
        "  assert type(tol) is float and tol>=0 \r\n",
        "  \r\n",
        "  x = start_x \r\n",
        "  #h_x = evalh(x,n)\r\n",
        "\r\n",
        "  if line_search_type == BACKTRACKING_LINE_SEARCH:\r\n",
        "    if args is None:\r\n",
        "      err_msg = 'Line search type: BACKTRACKING_LINE_SEARCH, but did not receive any args. Please check!'\r\n",
        "      raise ValueError(err_msg)\r\n",
        "    elif len(args)<3 :\r\n",
        "      err_msg = 'Line search type: BACKTRACKING_LINE_SEARCH, but did not receive three args. Please check!'\r\n",
        "      raise ValueError(err_msg)\r\n",
        "    else:\r\n",
        "      alpha_start = float(args[0])\r\n",
        "      rho = float(args[1])\r\n",
        "      gamma = float(args[2])\r\n",
        "  k = 0\r\n",
        "  g_x = evalg(x,n)\r\n",
        "  #print(len(g_x))\r\n",
        "  #print('iter:',k,  ' f(x):', evalf(x,n), ' gradient norm:', np.linalg.norm(g_x))\r\n",
        "\r\n",
        "  while (np.linalg.norm(g_x) > tol): #continue as long as the norm of gradient is not close to zero upto a tolerance tol\r\n",
        "    D_k = np.linalg.inv(evalh(x,n))\r\n",
        "    #print(D_k.shape)\r\n",
        "    #print(len(g_x))\r\n",
        "    if line_search_type == CONSTANT_STEP_LENGTH: #do a gradient descent with constant step length\r\n",
        "      step_length = 1.0\r\n",
        "    else:  \r\n",
        "      raise ValueError('Line search type unknown. Please check!')\r\n",
        "    #implement the Newton's method here\r\n",
        "    x = np.subtract(x, np.multiply(step_length,np.matmul(D_k, g_x))) #update x = x - step_length*g_x\r\n",
        "    k += 1 #increment iteration\r\n",
        "    g_x = evalg(x,n) #compute gradient at new point\r\n",
        "  return x,  k"
      ],
      "execution_count": null,
      "outputs": []
    },
    {
      "cell_type": "markdown",
      "metadata": {
        "id": "BqQLFFLTPxZa"
      },
      "source": [
        "${\\Large\\text{Newton's Method with Constant Step Length}}$"
      ]
    },
    {
      "cell_type": "code",
      "metadata": {
        "colab": {
          "base_uri": "https://localhost:8080/"
        },
        "id": "MF97hIDtZNHn",
        "outputId": "0d7282a6-6d5d-474c-bca1-3ebd55f8e507"
      },
      "source": [
        "elapsed_time = []\r\n",
        "n = [1000, 2500, 5000, 7500, 10000]\r\n",
        "for ele in n:\r\n",
        "  my_start_x = np.zeros(ele)\r\n",
        "  my_tol= 1e-9\r\n",
        "  start = timer()\r\n",
        "  x_opt, k = find_minimizer_Newtonmethod(my_start_x, ele, my_tol, CONSTANT_STEP_LENGTH)\r\n",
        "  end = timer()  \r\n",
        "  print(\"For n = \",ele,\", Time taken by the Newton's method to find the minimizer is \", end-start,\",  Iterations: \",k)\r\n",
        "  elapsed_time.append(end-start)"
      ],
      "execution_count": null,
      "outputs": [
        {
          "output_type": "stream",
          "text": [
            "For n =  1000 , Time taken by the Newton's method to find the minimizer is  1.3562172860001738 ,  Iterations:  9\n",
            "For n =  2500 , Time taken by the Newton's method to find the minimizer is  14.675770878000094 ,  Iterations:  9\n",
            "For n =  5000 , Time taken by the Newton's method to find the minimizer is  100.88589235200016 ,  Iterations:  9\n",
            "For n =  7500 , Time taken by the Newton's method to find the minimizer is  348.44622390999984 ,  Iterations:  9\n",
            "For n =  10000 , Time taken by the Newton's method to find the minimizer is  803.0955233619998 ,  Iterations:  9\n"
          ],
          "name": "stdout"
        }
      ]
    },
    {
      "cell_type": "code",
      "metadata": {
        "colab": {
          "base_uri": "https://localhost:8080/"
        },
        "id": "2VWwhKIrMoRG",
        "outputId": "4b448724-4463-4111-a29d-3a63056ee48d"
      },
      "source": [
        "elapsed_time"
      ],
      "execution_count": null,
      "outputs": [
        {
          "output_type": "execute_result",
          "data": {
            "text/plain": [
              "[1.3562172860001738,\n",
              " 14.675770878000094,\n",
              " 100.88589235200016,\n",
              " 348.44622390999984,\n",
              " 803.0955233619998]"
            ]
          },
          "metadata": {
            "tags": []
          },
          "execution_count": 23
        }
      ]
    },
    {
      "cell_type": "code",
      "metadata": {
        "colab": {
          "base_uri": "https://localhost:8080/",
          "height": 409
        },
        "id": "V52hEyYcTgPN",
        "outputId": "371b3c04-5d27-4353-d8d5-e3d68b676af1"
      },
      "source": [
        "#plotting the Time taken by Newton's method against n-value. \r\n",
        "import matplotlib.pyplot as plt\r\n",
        "plt.figure(figsize=(7,6))\r\n",
        "plt.plot(elapsed_time, color='purple')\r\n",
        "plt.xlabel('n-values',color='b', fontsize = 14)\r\n",
        "plt.ylabel('Time taken',color='b', fontsize = 14)\r\n",
        "plt.title(\"Time taken by Newton's method Vs  n-values\", color='r', fontsize = 14)\r\n",
        "plt.show()"
      ],
      "execution_count": null,
      "outputs": [
        {
          "output_type": "display_data",
          "data": {
            "image/png": "[encoded data removed]",
            "text/plain": [
              "<Figure size 504x432 with 1 Axes>"
            ]
          },
          "metadata": {
            "tags": [],
            "needs_background": "light"
          }
        }
      ]
    },
    {
      "cell_type": "markdown",
      "metadata": {
        "id": "KkR3mu7yBTF2"
      },
      "source": [
        "**COMMENT:** \\\r\n",
        "From the above graph it is very clear that for increasing values of $n$, time taken by the $Newton's$ Method to find the minimizer also increases."
      ]
    }
  ]
}