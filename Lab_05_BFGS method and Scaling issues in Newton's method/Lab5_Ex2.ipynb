{
  "nbformat": 4,
  "nbformat_minor": 0,
  "metadata": {
    "colab": {
      "name": "20i190011_IE684_Lab5_Ex2.ipynb",
      "provenance": [],
      "collapsed_sections": []
    },
    "kernelspec": {
      "display_name": "Python 3",
      "name": "python3"
    }
  },
  "cells": [
    {
      "cell_type": "markdown",
      "metadata": {
        "id": "nVE0Xoa0Q5wE"
      },
      "source": [
        "$\\Large\\textbf{Lab 5.} \\large\\textbf{Exercise 2.}$\r\n",
        "\r\n"
      ]
    },
    {
      "cell_type": "markdown",
      "metadata": {
        "id": "YVkab74DJsRL"
      },
      "source": [
        "Recall that to solve problems of the form $\\min_{\\mathbf{x} \\in {\\mathbb{R}}^n} f(\\mathbf{x})$, the update rule involved in Newton's method is of the form: \r\n",
        "\\begin{align}\r\n",
        "\\mathbf{x}^{k+1} = \\mathbf{x}^{k} - \\eta^k (\\nabla^2 f(\\mathbf{x}^{k}))^{-1} \\nabla f(\\mathbf{x}^{k}).   \r\n",
        "\\end{align}\r\n",
        "\r\n",
        "We discussed in Exercise 1 of this lab about the difficulties involved in computing the exact inverse of Hessian matrix. Now we will discuss a method which avoids explicit computation of the inverse of Hessian matrix at each iteration, but is nearly efficient as the Newton's method. This method will be called BFGS named after the famous applied Mathematicians Broyden, Fletcher, Goldfarb and Shanno. \r\n",
        "\r\n",
        "The main idea of BFGS method is to replace the inverse of Hessian matrix $(\\nabla^2 f(\\mathbf{x}^{k}))^{-1}$ in the update rule of Newton's method with a surrogate term $B^k$. \r\n",
        "\r\n",
        "Therefore the update rule of BFGS looks as follows:\r\n",
        "\\begin{align}\r\n",
        "\\mathbf{x}^{k+1} = \\mathbf{x}^{k} - \\eta^k B^k \\nabla f(\\mathbf{x}^{k})   \r\n",
        "\\end{align}\r\n",
        "where $B^k$ is a surrogate for the inverse of Hessian matrix. \r\n",
        "\r\n",
        "To find a suitable candidate for $B^k$, we need to consider some favorable characteristics expected from $B^k$: \r\n",
        "\r\n",
        "\\begin{align}\r\n",
        "&B^k \\text{ is symmetric positive definite}.  \\\\\r\n",
        "&B^k \\text{ does not involve computing Hessian or its inverse and should be computable only from the gradients}.  \\\\\r\n",
        "&\\text{Replacing  } (\\nabla^2 f(\\mathbf{x}^{k}))^{-1} \\text{ with } B^k \\text{ should not slow down the algorithm too much}. \\\\ \r\n",
        "\\end{align}\r\n",
        "\r\n",
        "\r\n"
      ]
    },
    {
      "cell_type": "markdown",
      "metadata": {
        "id": "6L9tVzAnqyb-"
      },
      "source": [
        "To design a suitable $B^k$ we shall consider the quadratic approximation of $f$:\r\n",
        "\r\n",
        "\\begin{align}\r\n",
        "\\tilde{f}(\\mathbf{x}) = f(\\mathbf{x}^{k+1}) + \\left \\langle \\nabla f(\\mathbf{x}^{k+1}), \\mathbf{x}-\\mathbf{x}^{k+1}\\right \\rangle  + \\frac{1}{2} (\\mathbf{x}-\\mathbf{x}^{k+1})^\\top H^{k+1} (\\mathbf{x}-\\mathbf{x}^{k+1}). \r\n",
        "\\end{align}\r\n",
        "\r\n",
        "Note that using this quadratic approximation we have the gradient as:\r\n",
        "\\begin{align}\r\n",
        "\\nabla \\tilde{f}(\\mathbf{x}) = \\nabla f(\\mathbf{x}^{k+1}) + H^{k+1}(\\mathbf{x}-\\mathbf{x}^{k+1}). \r\n",
        "\\end{align}\r\n",
        "\r\n",
        "In order to assume $\\tilde{f}$ to behave similar to $f$, we expect the following. \r\n",
        "\r\n",
        "By plugging in $\\mathbf{x} = \\mathbf{x}^k$ and $\\mathbf{x}=\\mathbf{x}^{k+1}$, we expect the following from the previous gradient equation:\r\n",
        "\\begin{align}\r\n",
        "\\nabla \\tilde{f} (\\mathbf{x}^k) = \\nabla f(\\mathbf{x}^k) \\text{ and }\\\\ \r\n",
        "\\nabla \\tilde{f} (\\mathbf{x}^{k+1}) = \\nabla f(\\mathbf{x}^{k+1}). \r\n",
        "\\end{align}\r\n",
        "\r\n",
        "The relation $\\nabla \\tilde{f} (\\mathbf{x}^{k+1}) = \\nabla f(\\mathbf{x}^{k+1})$ directly follows from the gradient relation  $\\nabla \\tilde{f}(\\mathbf{x}) = \\nabla f(\\mathbf{x}^{k+1}) + H^{k+1}(\\mathbf{x}-\\mathbf{x}^{k+1})$.\r\n",
        "\r\n",
        "For the gradient relation to satisfy $\\nabla \\tilde{f} (\\mathbf{x}^k) = \\nabla f(\\mathbf{x}^k)$ we need:\r\n",
        "\\begin{align}\r\n",
        "\\nabla \\tilde{f} (\\mathbf{x}^k) &= \\nabla f(\\mathbf{x}^{k+1}) + H^{k+1}(\\mathbf{x}^{k}-\\mathbf{x}^{k+1}) = \\nabla f(\\mathbf{x}^k) \\\\\r\n",
        "\\implies H^{k+1}(\\mathbf{x}^{k}-\\mathbf{x}^{k+1}) &= (\\nabla f(\\mathbf{x}^{k})- \\nabla {f} (\\mathbf{x}^{k+1})) \\\\\r\n",
        "\\implies H^{k+1}(\\mathbf{x}^{k+1}-\\mathbf{x}^{k}) &= (\\nabla f(\\mathbf{x}^{k+1})- \\nabla {f} (\\mathbf{x}^k)).\r\n",
        "\\end{align}\r\n",
        "This previous equality is called the secant equation. From the secant equation we see that inverse of $H^{k+1}$ operates on the difference of gradients $(\\nabla f(\\mathbf{x}^{k+1})- \\nabla {f} (\\mathbf{x}^k))$  to yield the difference of iterates $(\\mathbf{x}^{k+1}-\\mathbf{x}^{k})$. \r\n",
        "\r\n",
        "The secant equation can be equivalently and compactly written as:\r\n",
        "\\begin{align}\r\n",
        "(H^{k+1})^{-1} \\mathbf{y}^k = \\mathbf{s}^k. \r\n",
        "\\end{align}\r\n",
        "where $\\mathbf{y}^k = (\\nabla f(\\mathbf{x}^{k+1})- \\nabla {f} (\\mathbf{x}^k))$ and $\\mathbf{s}^k = (\\mathbf{x}^{k+1}-\\mathbf{x}^{k})$. \r\n",
        "\r\n",
        "We shall be considering $(H^{k+1})^{-1}$ as a possible choice for $B^{k+1}$ in the BFGS update rule. \r\n",
        "\r\n",
        "Hence we make sure that $(H^{k+1})^{-1}$ is positive definite. This is equivalent to considering: \r\n",
        "\\begin{align}\r\n",
        "(\\mathbf{y}^{k})^\\top (H^{k+1})^{-1} \\mathbf{y}^k > 0 \r\n",
        "\\end{align}\r\n",
        "for any non-zero $\\mathbf{y}^k$ which implies that $(\\mathbf{y}^k)^\\top \\mathbf{s}^k > 0$. \r\n",
        "\r\n",
        "\r\n",
        "Generally solving the secant equation $(H^{k+1})^{-1} \\mathbf{y}^k = \\mathbf{s}^k$ leads to infinitely many solutions for the matrix $(H^{k+1})^{-1}$ since there are $n^2$ unknowns and $n$ equations. Hence to select a suitable $(H^{k+1})^{-1}$ we solve an optimization problem of the form: \r\n",
        "\r\n",
        "\\begin{align}\r\n",
        "\\min_H \\|H-(H^k)^{-1}\\| \\ s.t. \\ H=H^\\top, \\ H\\mathbf{y}^k=\\mathbf{s}^k.\r\n",
        "\\end{align}\r\n",
        "By using an appropriate norm in the optimization problem, we can get the following update rule for the matrix $(H^{k+1})^{-1} = (I-\\mu^k \\mathbf{s}^k (\\mathbf{y}^k)^\\top) (H^{k})^{-1} (I-\\mu^k \\mathbf{y}^k (\\mathbf{s}^k)^\\top) + \\mu^k \\mathbf{s}^k (\\mathbf{s}^k)^\\top$\r\n",
        "\r\n",
        "where $\\mu^k = \\frac{1}{(\\mathbf{y}^k)^\\top \\mathbf{s}^k}$.\r\n",
        "\r\n",
        "By taking $B^k = (H^k)^{-1}$, this update rule can now be written as:\r\n",
        "\r\n",
        "$B^{k+1} = (I-\\mu^k \\mathbf{s}^k (\\mathbf{y}^k)^\\top) B^{k} (I-\\mu^k \\mathbf{y}^k (\\mathbf{s}^k)^\\top) + \\mu^k \\mathbf{s}^k (\\mathbf{s}^k)^\\top$\r\n",
        "\r\n",
        "where $\\mu^k = \\frac{1}{(\\mathbf{y}^k)^\\top \\mathbf{s}^k}$.\r\n",
        "\r\n",
        "As long as $B^k$ is positive definite, the update rule guarantees that $B^{k+1}$ is also positive definite. "
      ]
    },
    {
      "cell_type": "markdown",
      "metadata": {
        "id": "b-Meohokl4xP"
      },
      "source": [
        "Hence in Exercise 2, we shall be implementing BFGS method to solve problems of the form $\\min_{\\mathbf{x}\\in{\\mathbb{R}}^n} f(\\mathbf{x})$, and check its  performance against Newton method. "
      ]
    },
    {
      "cell_type": "markdown",
      "metadata": {
        "id": "1K5dPf6FR1bV"
      },
      "source": [
        "**1.Question:**  $What \\ is \\ the \\ initial \\ choice \\ of \\ B \\ denoted \\ by \\ B^0 \\ ?$  \\\\"
      ]
    },
    {
      "cell_type": "markdown",
      "metadata": {
        "id": "ltICFh2Vv3Mb"
      },
      "source": [
        "**1. Answer:** "
      ]
    },
    {
      "cell_type": "markdown",
      "metadata": {
        "id": "kiaUEsjPTnod"
      },
      "source": [
        "$Here,\\ B \\ denoted \\ by \\ B^0 \\  is \\  initialized \\ with \\ B^0 = I, \\ $  **i.e. an Identity matrix**.  Idea behind initial choice of an Identity matrix is that: \\\r\n",
        "1. It is Symmetric.\r\n",
        "2. It is positive definite (i.e Its all eigenvalues are positive) \r\n",
        "3. Since, final Hessian approximate is very sensitive to the initial  guess. So we choose the most simplest matrix. "
      ]
    },
    {
      "cell_type": "code",
      "metadata": {
        "id": "FSkwLeztR0Ev"
      },
      "source": [
        "import numpy as np \r\n",
        "from timeit import default_timer as timer"
      ],
      "execution_count": 49,
      "outputs": []
    },
    {
      "cell_type": "code",
      "metadata": {
        "id": "GcsCIAntMNdb"
      },
      "source": [
        "def evalf(x, n):  \r\n",
        "  #Input: x is a numpy array of size n \r\n",
        "  assert type(x) is np.ndarray  #do not allow arbitrary type arguments \r\n",
        "  assert len(x) == n #do not allow arbitrary size arguments \r\n",
        "  return sum([2*(x[i]**2-x[i+1])**2 + (x[i]-1)**2 for i in range(n-1)])"
      ],
      "execution_count": 50,
      "outputs": []
    },
    {
      "cell_type": "code",
      "metadata": {
        "id": "SA1zWRO0xMd6"
      },
      "source": [
        "def evalg(x, n):  \r\n",
        "  #Input: x is a numpy array of size n\r\n",
        "  assert type(x) is np.ndarray  #do not allow arbitrary type arguments \r\n",
        "  assert len(x) == n #do not allow arbitrary size arguments \r\n",
        "  #after checking if the argument is valid, we can compute the gradient value\r\n",
        "  #compute the gradient value and return it \r\n",
        "  grad = np.zeros(n) #local variable >> cannot be called outside the function directly.\r\n",
        "  for i in range(n):\r\n",
        "    if i==0:\r\n",
        "      grad[i] = 8*(x[i]**2-x[i+1])*x[i]+2*(x[i]-1)\r\n",
        "    elif 1<=i<=n-2:\r\n",
        "      grad[i] = 8*(x[i]**2-x[i+1])*x[i] + 6*x[i]- 4*x[i-1]**2 - 2\r\n",
        "    else:\r\n",
        "      grad[i] = -4*(x[i-1]**2-x[i])\r\n",
        "  return np.array(grad)"
      ],
      "execution_count": 51,
      "outputs": []
    },
    {
      "cell_type": "code",
      "metadata": {
        "id": "8aZFEfKRUodA"
      },
      "source": [
        "def evalh(x,n):\r\n",
        "  assert type(x) is np.ndarray  #do not allow arbitrary type arguments \r\n",
        "  assert len(x) == n #do not allow arbitrary size arguments \r\n",
        "  #hess = ??\r\n",
        "  hess = np.zeros([n,n])\r\n",
        "  for i in range(n):\r\n",
        "    if i==0:\r\n",
        "      hess[i][i] = 8*(x[i]**2-x[i+1]) + 16*x[i] + 2 ; hess[i][i+1] = -8*x[i]\r\n",
        "    elif 1<=i<=n-2:\r\n",
        "      hess[i][i] = 24*x[i]**2 - 8*x[i+1] + 6\r\n",
        "      hess[i][i+1] = -8*x[i]\r\n",
        "      hess[i][i-1] = -8*x[i-1]\r\n",
        "    else:\r\n",
        "      hess[i][i] = 4 ; hess[i][i-1] = hess[i-1][i] # since hessian matrix is a symmetric matrix.\r\n",
        "\r\n",
        "  #check if Hessian is symmetric \r\n",
        "  #print('Is Hessian symmetric? Answer:', np.sum(np.sum(np.subtract(hess,hess.T))) == 0 )\r\n",
        "\r\n",
        "  #check if Hessian is positive definite\r\n",
        "  #print('Is Hessian positive definite? Answer:', np.amin(np.linalg.eigvalsh(hess))>0 )\r\n",
        "  return hess"
      ],
      "execution_count": 52,
      "outputs": []
    },
    {
      "cell_type": "code",
      "metadata": {
        "id": "T3GFDcbdjq5F"
      },
      "source": [
        "def compute_D_k(x,n):\r\n",
        "  assert type(x) is np.ndarray\r\n",
        "  assert len(x) == n\r\n",
        "  if np.linalg.det(evalh(x,n)) == 0:\r\n",
        "    raise ValueError('Determinant does not exist. Please check!!')\r\n",
        "  return np.linalg.inv(evalh(x,n))"
      ],
      "execution_count": 53,
      "outputs": []
    },
    {
      "cell_type": "code",
      "metadata": {
        "id": "9tqLIhbch7Ro"
      },
      "source": [
        "def compute_steplength_backtracking(x, n, gradf, alpha_start, rho, gamma): #add appropriate arguments to the function \r\n",
        "  assert type(x) is np.ndarray and len(gradf) == n\r\n",
        "  assert type(gradf) is np.ndarray and len(gradf) == n \r\n",
        "  #assert type(direction) is np.ndarray and len(direction) == n \r\n",
        "  assert type(alpha_start) is float and alpha_start>=0. \r\n",
        "  assert type(rho) is float and rho>=0.\r\n",
        "  assert type(gamma) is float and gamma>=0. \r\n",
        "  alpha = alpha_start\r\n",
        "  D_k = np.linalg.inv(evalh(x,n))\r\n",
        "  while evalf(x + alpha*np.matmul(D_k,-gradf), n) > evalf(x, n) + gamma*alpha*(np.matmul(np.matrix.transpose(gradf), np.matmul(D_k,-gradf)) ):\r\n",
        "    alpha = rho*alpha\r\n",
        "  return alpha"
      ],
      "execution_count": 54,
      "outputs": []
    },
    {
      "cell_type": "code",
      "metadata": {
        "id": "XJZjPAPdfbC_"
      },
      "source": [
        "#line search type \r\n",
        "CONSTANT_STEP_LENGTH = 1\r\n",
        "BACKTRACKING_LINE_SEARCH = 2"
      ],
      "execution_count": 55,
      "outputs": []
    },
    {
      "cell_type": "code",
      "metadata": {
        "id": "iCsDEuEOfu1J"
      },
      "source": [
        "def find_minimizer_BFGS_method(start_x, n, tol, line_search_type, *args):\r\n",
        "  #Input: start_x is a numpy array of size n, tol denotes the tolerance and is a positive float value\r\n",
        "  assert type(start_x) is np.ndarray and len(start_x) == n #do not allow arbitrary arguments \r\n",
        "  assert type(tol) is float and tol>=0 \r\n",
        "  x = start_x\r\n",
        "  g_x = evalg(x,n)\r\n",
        "  B_k = np.eye(n)\r\n",
        " \r\n",
        "  if line_search_type == BACKTRACKING_LINE_SEARCH:\r\n",
        "    if args is None:\r\n",
        "      err_msg = 'Line search type: BACKTRACKING_LINE_SEARCH, but did not receive any args. Please check!'\r\n",
        "      raise ValueError(err_msg)\r\n",
        "    elif len(args)<3 :\r\n",
        "      err_msg = 'Line search type: BACKTRACKING_LINE_SEARCH, but did not receive three args. Please check!'\r\n",
        "      raise ValueError(err_msg)\r\n",
        "    else:\r\n",
        "      alpha_start = float(args[0]) ; assert alpha_start>=0.\r\n",
        "      rho = float(args[1]) ; assert rho>=0.\r\n",
        "      gamma = float(args[2]) ; assert gamma>=0.\r\n",
        " \r\n",
        "  k = 0\r\n",
        "  while (np.linalg.norm(g_x) > tol): #continue as long as the norm of gradient is not close to zero upto a tolerance tol\r\n",
        "    x_0 = x\r\n",
        "    g_0 = evalg(x_0,n)\r\n",
        "    B_0 = B_k\r\n",
        "\r\n",
        "    if line_search_type == CONSTANT_STEP_LENGTH: #do a gradient descent with constant step length\r\n",
        "      step_length = 1.0\r\n",
        "    elif line_search_type == BACKTRACKING_LINE_SEARCH:   \r\n",
        "      alpha = alpha_start\r\n",
        "      gr_t = np.matrix.transpose(g_x)\r\n",
        "      #implement the backtracking line search\r\n",
        "      while evalf(np.add(x,-alpha*np.matmul(B_k, g_x)), n) > evalf(x, n)-gamma*alpha*np.matmul(gr_t, np.matmul(B_k, g_x)):\r\n",
        "        alpha = rho*alpha\r\n",
        "      #print('final step length:',alpha) \r\n",
        "      step_length = alpha \r\n",
        "    else:  \r\n",
        "      raise ValueError('Line search type unknown. Please check!')    \r\n",
        "    #implement the gradient descent steps here  \r\n",
        "    x = np.subtract(x, np.multiply(step_length,np.matmul(B_k, g_x))) #update x = x - step_length*g_x\r\n",
        "    g_x = evalg(x,n) #computing gradient at new point\r\n",
        "    s_k = x - x_0\r\n",
        "    y_k = np.subtract(g_x, g_0)\r\n",
        "    mu_k = 1/np.matmul(y_k, s_k)\r\n",
        "    A = np.subtract(np.eye(n), mu_k*np.outer(s_k, y_k))\r\n",
        "    C = np.subtract(np.eye(n), mu_k*np.outer(y_k, s_k))\r\n",
        "    #Implementing the update rule to update B_k+1\r\n",
        "    B_k = np.matmul(np.matmul(A, B_0), C) + mu_k*np.outer(s_k, s_k)\r\n",
        "    k += 1 #increment iteration     \r\n",
        "  return x, k, evalf(x,n)"
      ],
      "execution_count": 57,
      "outputs": []
    },
    {
      "cell_type": "code",
      "metadata": {
        "id": "Indov3dNmvFk"
      },
      "source": [
        "def find_minimizer_Newton_method(start_x, n, tol, line_search_type, *args):\r\n",
        "  #Input: start_x is a numpy array of size 2, tol denotes the tolerance and is a positive float value\r\n",
        "  assert type(start_x) is np.ndarray and len(start_x) == n #do not allow arbitrary arguments \r\n",
        "  assert type(tol) is float and tol>=0. \r\n",
        "  x = start_x\r\n",
        "  g_x = evalg(x, n)\r\n",
        " \r\n",
        "  #initialization for backtracking line search\r\n",
        "  if(line_search_type == BACKTRACKING_LINE_SEARCH):\r\n",
        "    alpha_start = args[0]\r\n",
        "    rho = args[1]\r\n",
        "    gamma = args[2]\r\n",
        "    #print('Params for Backtracking LS: alpha start:', alpha_start, 'rho:', rho,' gamma:', gamma)\r\n",
        " \r\n",
        "  k = 0\r\n",
        "  while (np.linalg.norm(g_x) > tol): #continue as long as the norm of gradient is not close to zero upto a tolerance tol\r\n",
        "    D_k = np.linalg.inv(evalh(x,n))\r\n",
        "    if line_search_type == CONSTANT_STEP_LENGTH: #do a gradient descent with constant step length\r\n",
        "      step_length = 1.0\r\n",
        "    elif line_search_type == BACKTRACKING_LINE_SEARCH:\r\n",
        "      step_length = compute_steplength_backtracking(x, n, g_x, alpha_start, rho, gamma) #call the new function you wrote to compute the steplength\r\n",
        "      #raise ValueError('BACKTRACKING LINE SEARCH NOT YET IMPLEMENTED') \r\n",
        "    else:  \r\n",
        "      raise ValueError('Line search type unknown. Please check!')    \r\n",
        "    #implement the gradient descent steps here  \r\n",
        "    x = np.subtract(x, np.multiply(step_length,np.matmul(D_k, g_x))) #update x = x - step_length*g_x\r\n",
        "    k += 1 #increment iteration\r\n",
        "    g_x = evalg(x, n) #compute gradient at new point\r\n",
        "  return x, k, evalf(x,n)"
      ],
      "execution_count": 58,
      "outputs": []
    },
    {
      "cell_type": "markdown",
      "metadata": {
        "id": "SiErlAiDvhTE"
      },
      "source": [
        "${\\Large\\text{2. SOLUTION:}}$"
      ]
    },
    {
      "cell_type": "markdown",
      "metadata": {
        "id": "sU7GseUcHTnl"
      },
      "source": [
        "${\\Large\\text{BFGS method with Constant Step Length}}$"
      ]
    },
    {
      "cell_type": "code",
      "metadata": {
        "colab": {
          "base_uri": "https://localhost:8080/"
        },
        "id": "5c79ymAjN06x",
        "outputId": "b5e1a1d3-0008-46a3-9e9d-a7252a7e4cc3"
      },
      "source": [
        "elapsed_time = []\r\n",
        "n = [1000, 2500, 5000, 7500, 10000]\r\n",
        "# n=[1,2,3,4,5]\r\n",
        "print(\"For BFGS method with CONSTANT_STEP_LENGTH\\n\")\r\n",
        "for ele in n:\r\n",
        "  my_start_x = np.zeros(ele)\r\n",
        "  my_tol= 1e-9\r\n",
        "  start = timer()\r\n",
        "  x_opt, num_iters, f_value = find_minimizer_BFGS_method(my_start_x, ele, my_tol, CONSTANT_STEP_LENGTH)\r\n",
        "  end = timer()  \r\n",
        "  print(\"For n = \",ele,\",  Time taken: \", end-start,\",  Iteration = \",num_iters,\", function Value: \", f_value)\r\n",
        "  elapsed_time.append(end-start)\r\n",
        "  print()"
      ],
      "execution_count": 59,
      "outputs": [
        {
          "output_type": "stream",
          "text": [
            "For BFGS method with CONSTANT_STEP_LENGTH\n",
            "\n"
          ],
          "name": "stdout"
        },
        {
          "output_type": "stream",
          "text": [
            "/usr/local/lib/python3.6/dist-packages/ipykernel_launcher.py:10: RuntimeWarning: overflow encountered in double_scalars\n",
            "  # Remove the CWD from sys.path while we load stuff.\n",
            "/usr/local/lib/python3.6/dist-packages/ipykernel_launcher.py:12: RuntimeWarning: overflow encountered in double_scalars\n",
            "  if sys.path[0] == '':\n",
            "/usr/local/lib/python3.6/dist-packages/numpy/core/numeric.py:909: RuntimeWarning: overflow encountered in multiply\n",
            "  return multiply(a.ravel()[:, newaxis], b.ravel()[newaxis, :], out)\n",
            "/usr/local/lib/python3.6/dist-packages/numpy/core/numeric.py:909: RuntimeWarning: invalid value encountered in multiply\n",
            "  return multiply(a.ravel()[:, newaxis], b.ravel()[newaxis, :], out)\n",
            "/usr/local/lib/python3.6/dist-packages/ipykernel_launcher.py:45: RuntimeWarning: invalid value encountered in multiply\n",
            "/usr/local/lib/python3.6/dist-packages/ipykernel_launcher.py:46: RuntimeWarning: invalid value encountered in multiply\n"
          ],
          "name": "stderr"
        },
        {
          "output_type": "stream",
          "text": [
            "For n =  1000 ,  Time taken:  2.385974602002534 ,  Iteration =  14 , function Value:  nan\n",
            "\n"
          ],
          "name": "stdout"
        },
        {
          "output_type": "stream",
          "text": [
            "/usr/local/lib/python3.6/dist-packages/ipykernel_launcher.py:12: RuntimeWarning: invalid value encountered in double_scalars\n",
            "  if sys.path[0] == '':\n",
            "/usr/local/lib/python3.6/dist-packages/ipykernel_launcher.py:14: RuntimeWarning: overflow encountered in double_scalars\n",
            "  \n",
            "/usr/local/lib/python3.6/dist-packages/ipykernel_launcher.py:5: RuntimeWarning: overflow encountered in double_scalars\n",
            "  \"\"\"\n"
          ],
          "name": "stderr"
        },
        {
          "output_type": "stream",
          "text": [
            "For n =  2500 ,  Time taken:  27.16478898799687 ,  Iteration =  13 , function Value:  inf\n",
            "\n"
          ],
          "name": "stdout"
        },
        {
          "output_type": "stream",
          "text": [
            "/usr/local/lib/python3.6/dist-packages/ipykernel_launcher.py:44: RuntimeWarning: invalid value encountered in matmul\n"
          ],
          "name": "stderr"
        },
        {
          "output_type": "stream",
          "text": [
            "For n =  5000 ,  Time taken:  198.55383840900322 ,  Iteration =  13 , function Value:  inf\n",
            "\n"
          ],
          "name": "stdout"
        },
        {
          "output_type": "stream",
          "text": [
            "/usr/local/lib/python3.6/dist-packages/ipykernel_launcher.py:44: RuntimeWarning: overflow encountered in matmul\n"
          ],
          "name": "stderr"
        },
        {
          "output_type": "stream",
          "text": [
            "For n =  7500 ,  Time taken:  692.3476013140025 ,  Iteration =  13 , function Value:  nan\n",
            "\n",
            "For n =  10000 ,  Time taken:  1590.9704535979981 ,  Iteration =  13 , function Value:  nan\n",
            "\n"
          ],
          "name": "stdout"
        }
      ]
    },
    {
      "cell_type": "code",
      "metadata": {
        "colab": {
          "base_uri": "https://localhost:8080/"
        },
        "id": "D2QJOqUBqDWT",
        "outputId": "488e926d-f938-4a55-952c-0cef60925582"
      },
      "source": [
        "elapsed_time1 = elapsed_time\r\n",
        "elapsed_time1"
      ],
      "execution_count": 64,
      "outputs": [
        {
          "output_type": "execute_result",
          "data": {
            "text/plain": [
              "[2.385974602002534,\n",
              " 27.16478898799687,\n",
              " 198.55383840900322,\n",
              " 692.3476013140025,\n",
              " 1590.9704535979981]"
            ]
          },
          "metadata": {
            "tags": []
          },
          "execution_count": 64
        }
      ]
    },
    {
      "cell_type": "markdown",
      "metadata": {
        "id": "t7MGpGqfOwfI"
      },
      "source": [
        "**COMMENTS ON OBSERVATIONS:** \\\r\n",
        "1. From the above outputs it is obvious that in the BFGS method for the constant step length, the function diverges to infinity for $n = 2500 \\ and \\ 5000$ from the given values of $n \\in [1000, 2500, 5000, 7500, 10000]$.\r\n",
        "2.For $n = 1000, \\ 7500, \\ and \\ 10000$ we encounter  either an $overflow$ or $Invalid \\ value$ **RuntimeWarning**. One of the possible reasons behind this event may be the large values of $n$ that we are considering. Also in python, If an array has a very small or very large determinant, then a call to determinant may return an overflow or underflow Runtime warning.\r\n",
        "3. Here, we have also found that, the $BFGS$ method for constant step length converges for $n \\leq 5$ "
      ]
    },
    {
      "cell_type": "markdown",
      "metadata": {
        "id": "BqQLFFLTPxZa"
      },
      "source": [
        "${\\Large\\text{Newton's Method with Constant Step Length}}$"
      ]
    },
    {
      "cell_type": "code",
      "metadata": {
        "colab": {
          "base_uri": "https://localhost:8080/"
        },
        "id": "MF97hIDtZNHn",
        "outputId": "0d7282a6-6d5d-474c-bca1-3ebd55f8e507"
      },
      "source": [
        "elapsed_time2 = []\r\n",
        "n = [1000, 2500, 5000, 7500, 10000]\r\n",
        "for ele in n:\r\n",
        "  my_start_x = np.zeros(ele)\r\n",
        "  my_tol= 1e-9\r\n",
        "  start = timer()\r\n",
        "  x_opt, k = find_minimizer_Newtonmethod(my_start_x, ele, my_tol, CONSTANT_STEP_LENGTH)\r\n",
        "  end = timer()  \r\n",
        "  print(\"For n = \",ele,\", Time taken by the Newton's method to find the minimizer is \", end-start,\",  Iterations: \",k)\r\n",
        "  elapsed_time2.append(end-start)"
      ],
      "execution_count": null,
      "outputs": [
        {
          "output_type": "stream",
          "text": [
            "For n =  1000 , Time taken by the Newton's method to find the minimizer is  1.3562172860001738 ,  Iterations:  9\n",
            "For n =  2500 , Time taken by the Newton's method to find the minimizer is  14.675770878000094 ,  Iterations:  9\n",
            "For n =  5000 , Time taken by the Newton's method to find the minimizer is  100.88589235200016 ,  Iterations:  9\n",
            "For n =  7500 , Time taken by the Newton's method to find the minimizer is  348.44622390999984 ,  Iterations:  9\n",
            "For n =  10000 , Time taken by the Newton's method to find the minimizer is  803.0955233619998 ,  Iterations:  9\n"
          ],
          "name": "stdout"
        }
      ]
    },
    {
      "cell_type": "code",
      "metadata": {
        "colab": {
          "base_uri": "https://localhost:8080/"
        },
        "id": "UE3JBhgguqLb",
        "outputId": "c84f1ab9-fbcd-47c2-ea85-e93a6da2dbfc"
      },
      "source": [
        "elapsed_time2"
      ],
      "execution_count": 68,
      "outputs": [
        {
          "output_type": "execute_result",
          "data": {
            "text/plain": [
              "[1.3562172860001738,\n",
              " 14.675770878000094,\n",
              " 100.88589235200016,\n",
              " 348.44622390999984,\n",
              " 803.0955233619998]"
            ]
          },
          "metadata": {
            "tags": []
          },
          "execution_count": 68
        }
      ]
    },
    {
      "cell_type": "code",
      "metadata": {
        "colab": {
          "base_uri": "https://localhost:8080/",
          "height": 409
        },
        "id": "brHA1-WGqk7f",
        "outputId": "7826a1a4-4dc1-4c96-d9eb-ee4a36fb176e"
      },
      "source": [
        "#Plotting Time taken against n-values.\r\n",
        "import matplotlib.pyplot as plt\r\n",
        "\r\n",
        "plt.figure(figsize=(7,6))\r\n",
        "plt.plot(elapsed_time1, label=r'$ $')\r\n",
        "plt.plot(elapsed_time2,label=r'$ $') \r\n",
        "plt.title('Time taken Vs  n-values', fontsize=14, color = 'r')\r\n",
        "plt.xlabel(r'n-Values', fontsize=14, color = 'b')\r\n",
        "plt.ylabel(r'Time taken', fontsize=14, color = 'b')\r\n",
        "plt.legend([\"BFGS_Time_constant_step_length\", \"Newton's_Time_constant_step_length\"],fontsize=12)\r\n",
        "plt.show()"
      ],
      "execution_count": 77,
      "outputs": [
        {
          "output_type": "display_data",
          "data": {
            "image/png": "[encoded data removed]",
            "text/plain": [
              "<Figure size 504x432 with 1 Axes>"
            ]
          },
          "metadata": {
            "tags": [],
            "needs_background": "light"
          }
        }
      ]
    },
    {
      "cell_type": "markdown",
      "metadata": {
        "id": "mjxe9g2oY8y6"
      },
      "source": [
        "**COMMENTS ON OBSERVATIONS:** \r\n",
        "1. For increasing values of $n$ the time taken to find the minimizer increases in case of  Newton's method (with Constant step length)\r\n",
        "2. Also it seems that Newton's method is efficient and converges at a much faster rate than the BFGS method (with Constant step length).\r\n",
        "3. Here the graph with blue color is actually indicating the time taken to diverge in case of $BFGS$ method.(Because we found that it was converging for $n \\leq 5 \\ only$ )"
      ]
    },
    {
      "cell_type": "markdown",
      "metadata": {
        "id": "S9BCZOabwFEG"
      },
      "source": [
        "${\\Large\\text{3. SOLUTION:}}$"
      ]
    },
    {
      "cell_type": "markdown",
      "metadata": {
        "id": "mZyRKhULAD0L"
      },
      "source": [
        "${\\Large\\text{BFGS method with Backtracking Line Search}}$"
      ]
    },
    {
      "cell_type": "code",
      "metadata": {
        "colab": {
          "base_uri": "https://localhost:8080/"
        },
        "id": "aILwGbUcWCI0",
        "outputId": "c6fe5e32-7085-41d9-ce0e-447937bfffe3"
      },
      "source": [
        "n = [1000, 2500, 5000, 7500, 10000]\r\n",
        "print(\" For BFGS method with backtracking line search\\n\")\r\n",
        "elapsed_time3 = []\r\n",
        "for ele in n:\r\n",
        "  my_start_x = np.zeros(ele)\r\n",
        "  my_tol= 1e-9\r\n",
        "  start = timer()\r\n",
        "  x_opt, num_iters, f_value = find_minimizer_BFGS_method(my_start_x, ele, my_tol, BACKTRACKING_LINE_SEARCH, 0.9, 0.5, 0.5)\r\n",
        "  end = timer()  \r\n",
        "  print(\"For n = \",ele,\",  Time taken: \", end-start,\",  Function value: \",f_value,\",  Iteration = \",num_iters )\r\n",
        "  elapsed_time3.append(end-start)"
      ],
      "execution_count": null,
      "outputs": [
        {
          "output_type": "stream",
          "text": [
            " For BFGS method with backtracking line search\n",
            "\n",
            "For n =  1000 ,  Time taken:  21.72766324500003 ,  Function value:  1.3036066075361508e-20 ,  Iteration =  100\n",
            "For n =  2500 ,  Time taken:  221.54948016499998 ,  Function value:  1.609050054496448e-20 ,  Iteration =  101\n",
            "For n =  5000 ,  Time taken:  1633.846557672 ,  Function value:  1.11552682493536e-20 ,  Iteration =  105\n",
            "For n =  7500 ,  Time taken:  5528.236946733 ,  Function value:  1.0753086925763163e-20 ,  Iteration =  108\n",
            "For n =  10000 ,  Time taken:  13200.435852655 ,  Function value:  1.7829628562261265e-20 ,  Iteration =  108\n"
          ],
          "name": "stdout"
        }
      ]
    },
    {
      "cell_type": "code",
      "metadata": {
        "colab": {
          "base_uri": "https://localhost:8080/"
        },
        "id": "BaUdwL7Dwj8j",
        "outputId": "5bded9c9-2c87-424c-ac9c-fb3c99b3c1f9"
      },
      "source": [
        "elapsed_time3"
      ],
      "execution_count": 72,
      "outputs": [
        {
          "output_type": "execute_result",
          "data": {
            "text/plain": [
              "[21.72766324500003,\n",
              " 221.54948016499998,\n",
              " 1633.846557672,\n",
              " 5528.236946733,\n",
              " 13200.435852655]"
            ]
          },
          "metadata": {
            "tags": []
          },
          "execution_count": 72
        }
      ]
    },
    {
      "cell_type": "markdown",
      "metadata": {
        "id": "_xaDW7QyHfc3"
      },
      "source": [
        "${\\Large\\text{Newton's Method with Backtracking Line Search}}$"
      ]
    },
    {
      "cell_type": "code",
      "metadata": {
        "colab": {
          "base_uri": "https://localhost:8080/"
        },
        "id": "BxQj4RcrCnga",
        "outputId": "c1ce9226-99e6-48be-a43e-972d7ec365d0"
      },
      "source": [
        "print(\"\\nFor Newton's Method with BACKTRACKING_LINE_SEARCH: \")\r\n",
        "N = [1000, 2500, 5000, 7500, 10000]\r\n",
        "elapsed_time4 = []\r\n",
        "for n in N:\r\n",
        "  my_start_x = np.zeros(n)\r\n",
        "  my_tol= 1e-9\r\n",
        "  start = timer()\r\n",
        "  x_opt, num_iters, f_value = find_minimizer_Newton_method(my_start_x, n, my_tol, BACKTRACKING_LINE_SEARCH, 0.9, 0.5,0.5)\r\n",
        "  end = timer()  \r\n",
        "  print(\"For n = \", n,\",  Time taken: \", end-start,\",  function value = \", f_value,\",  Iteration = \", num_iters)\r\n",
        "  elapsed_time4.append(end-start)"
      ],
      "execution_count": 48,
      "outputs": [
        {
          "output_type": "stream",
          "text": [
            "\n",
            "For Newton's Method with BACKTRACKING_LINE_SEARCH: \n",
            "For n =  1000 ,  Time taken:  3.7259522790009214 ,  function value =  2.4630941399218953e-21 ,  Iteration =  14\n",
            "For n =  2500 ,  Time taken:  41.95575666399964 ,  function value =  2.50812212933966e-21 ,  Iteration =  14\n",
            "For n =  5000 ,  Time taken:  307.843468572999 ,  function value =  2.5831687783692683e-21 ,  Iteration =  14\n",
            "For n =  7500 ,  Time taken:  1010.9277274259985 ,  function value =  2.6582154273988764e-21 ,  Iteration =  14\n",
            "For n =  10000 ,  Time taken:  2402.901962690001 ,  function value =  2.7332620764284845e-21 ,  Iteration =  14\n"
          ],
          "name": "stdout"
        }
      ]
    },
    {
      "cell_type": "code",
      "metadata": {
        "colab": {
          "base_uri": "https://localhost:8080/"
        },
        "id": "MbhsAouBxN3x",
        "outputId": "4bcf9d2d-ae36-4a7d-9d97-d2836796d285"
      },
      "source": [
        "elapsed_time4"
      ],
      "execution_count": 74,
      "outputs": [
        {
          "output_type": "execute_result",
          "data": {
            "text/plain": [
              "[3.7259522790009214,\n",
              " 41.95575666399964,\n",
              " 307.843468572999,\n",
              " 1010.9277274259985,\n",
              " 2402.901962690001]"
            ]
          },
          "metadata": {
            "tags": []
          },
          "execution_count": 74
        }
      ]
    },
    {
      "cell_type": "markdown",
      "metadata": {
        "id": "H3wzEq7X4qI4"
      },
      "source": [
        "**comparison:** \\\\\r\n",
        "From the above result we can clearly say that **In case of backtracking line search also, for different values of $n$, the BFGS method takes much more time to converge in comparison to Newton's method** \\"
      ]
    },
    {
      "cell_type": "code",
      "metadata": {
        "colab": {
          "base_uri": "https://localhost:8080/",
          "height": 409
        },
        "id": "8SqDDu9VxT0o",
        "outputId": "8c9c070f-da8d-495b-9170-d64ebaa6a6ff"
      },
      "source": [
        "#Plotting Time taken against n-values (For Backtracking Line Search).\r\n",
        "import matplotlib.pyplot as plt\r\n",
        "\r\n",
        "plt.figure(figsize=(7,6))\r\n",
        "plt.plot(elapsed_time3, label=r'$ $')\r\n",
        "plt.plot(elapsed_time4,label=r'$ $') \r\n",
        "plt.title('Time taken Vs  n-values', fontsize=14, color = 'r')\r\n",
        "plt.xlabel(r'n-Values', fontsize=14, color = 'b')\r\n",
        "plt.ylabel(r'Time taken', fontsize=14, color = 'b')\r\n",
        "plt.legend([\"BFGS_Time_Backtracking\", \"Newton's_Time_Backtracking\"],fontsize=12)\r\n",
        "plt.show()"
      ],
      "execution_count": 76,
      "outputs": [
        {
          "output_type": "display_data",
          "data": {
            "image/png": "[encoded data removed]",
            "text/plain": [
              "<Figure size 504x432 with 1 Axes>"
            ]
          },
          "metadata": {
            "tags": [],
            "needs_background": "light"
          }
        }
      ]
    },
    {
      "cell_type": "markdown",
      "metadata": {
        "id": "Xwp0xuEd4CER"
      },
      "source": [
        "**4. COMMENTS:** \\\r\n",
        "1. From the above graph also we can certainly say that For different values of n $BFGS \\ method$ takes more time in comparison to $Newton's \\ Method$. \r\n",
        "2. Also it is obvious from the graph that for very small values of $n$ Both $BFGS$ and $Newton's$ Method takes similar time but for very large values of $n$, $BFGS$ method takes very large time to converge in comparison to $Newton's$ method and this $time-gap$ increases with increasing value of $n$.\r\n",
        "3. Also for increasing values of $n$, time taken by both the $BFGS$ and the $Newton's$ method increases."
      ]
    },
    {
      "cell_type": "code",
      "metadata": {
        "id": "KmbhgK2DMhO1"
      },
      "source": [
        ""
      ],
      "execution_count": null,
      "outputs": []
    }
  ]
}