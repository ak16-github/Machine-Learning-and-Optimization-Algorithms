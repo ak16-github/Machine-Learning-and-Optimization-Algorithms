{
  "nbformat": 4,
  "nbformat_minor": 0,
  "metadata": {
    "colab": {
      "name": "20i190011_IE684_Lab 3_Ex2.ipynb",
      "provenance": []
    },
    "kernelspec": {
      "name": "python3",
      "display_name": "Python 3"
    }
  },
  "cells": [
    {
      "cell_type": "markdown",
      "metadata": {
        "id": "_Elr8Ljf9yeb"
      },
      "source": [
        "**Given function is:** \\\\\r\n",
        "\\begin{align}\r\n",
        "q(x) = 1000(x_2 - x_1^2)^2 + (2 - x_1)^2\r\n",
        "\\end{align}"
      ]
    },
    {
      "cell_type": "markdown",
      "metadata": {
        "id": "jtuReCtIxzSv"
      },
      "source": [
        "**1. ANSWER :** \\\\\r\n",
        "**Yes, we can take a suitable diagonal matrix $\\mathbf{D}^k$ for gradient descent algorithm with scaling to solve $min_x \\ q(x)$.** \\\r\n",
        "Here, $\\  \\mathbf{D^k} =\r\n",
        "\\begin{bmatrix}\r\n",
        "  \\frac{1}{12000x_1^2 - 4000x_2 + 2 } & 0 \\\\ 0 & \\frac{1}{2000} \r\n",
        "\\end{bmatrix} \\Rightarrow \\ \\mathbf{D}^k \\ is \\ a \\ diagonal  \\ matrix \\ with \\ the \\ inverse \\ second \\ partial \\ derivatives \\ \\Big(\\frac{\\partial^2f(\\mathbf{x_k})}{(\\partial x_i)^2}\\Big)^{-1} \\ as \\ the \\ diagonal \\ elements.$"
      ]
    },
    {
      "cell_type": "code",
      "metadata": {
        "id": "TkqHGFvx7qLk"
      },
      "source": [
        "import numpy as np \r\n",
        "\r\n",
        "#method to find Hessian matrix\r\n",
        "def evalh(x): \r\n",
        "  assert type(x) is np.ndarray \r\n",
        "  assert len(x) == 2 \r\n",
        "  return np.array([[12000*x[0]**2-4000*x[1]+2, -4000*x[0]], [-4000*x[0], 2000]])\r\n",
        "\r\n",
        "#method to find the condition number of any square matrix\r\n",
        "def find_condition_number(A):\r\n",
        "  assert type(A) is np.ndarray\r\n",
        "  assert A.shape[0] == A.shape[1]\r\n",
        "  min_eigenval = min(np.linalg.eig(A)[0])\r\n",
        "  max_eigenval = max(np.linalg.eig(A)[0])\r\n",
        "  return max_eigenval/min_eigenval"
      ],
      "execution_count": 1,
      "outputs": []
    },
    {
      "cell_type": "code",
      "metadata": {
        "id": "qZjvsDgr_MSX"
      },
      "source": [
        "#The method defines a way to construct D_k matrix used in scaling the gradient in the modified gradient descent scheme\r\n",
        "def compute_D_k_diagonal(x):\r\n",
        "  assert type(x) is np.ndarray\r\n",
        "  assert len(x) == 2\r\n",
        "  #compute and return D_k\r\n",
        "  return np.array([[1/(12000*x[0]**2-4000*x[1]+2), 0], [0, 1/2000]])"
      ],
      "execution_count": 2,
      "outputs": []
    },
    {
      "cell_type": "code",
      "metadata": {
        "id": "_iBdWU--_U71"
      },
      "source": [
        "def evalf(x):  \r\n",
        "  #Input: x is a numpy array of size 2 \r\n",
        "  assert type(x) is np.ndarray and len(x) == 2 #do not allow arbitrary arguments \r\n",
        "  #after checking if the argument is valid, we can compute the objective function value\r\n",
        "  #compute the function value and return it \r\n",
        "  return 1000*(x[1]-(x[0])**2)**2 + (2-x[0])**2"
      ],
      "execution_count": 3,
      "outputs": []
    },
    {
      "cell_type": "code",
      "metadata": {
        "id": "6EznEfW4_iFL"
      },
      "source": [
        "def evalg(x):  \r\n",
        "  #Input: x is a numpy array of size 2 \r\n",
        "  assert type(x) is np.ndarray and len(x) == 2 #do not allow arbitrary arguments \r\n",
        "  #after checking if the argument is valid, we can compute the gradient value\r\n",
        "  #compute the gradient value and return it \r\n",
        "  return np.array([-4000*x[0]*x[1]+4000*x[0]**3+2*x[0]-4, 2000*(x[1]-x[0]**2)])"
      ],
      "execution_count": 4,
      "outputs": []
    },
    {
      "cell_type": "code",
      "metadata": {
        "id": "QFiYXMNX_xJj"
      },
      "source": [
        "#Complete the module to compute the steplength by using the closed-form expression\r\n",
        "def compute_steplength_backtracking(x, gradf, alpha_start, rho, gamma): #add appropriate arguments to the function \r\n",
        "  assert type(x) is np.ndarray and len(x) == 2 \r\n",
        "  assert type(gradf) is np.ndarray and len(gradf) == 2 \r\n",
        "  assert type(alpha_start) is float and alpha_start>=0. \r\n",
        "  assert type(rho) is float and rho>=0.\r\n",
        "  assert type(gamma) is float and gamma>=0. \r\n",
        "  alpha = alpha_start\r\n",
        "  gr_t = np.matrix.transpose(gradf)\r\n",
        "  #implement the backtracking line search\r\n",
        "  while evalf(np.add(x,-alpha*gradf)) > evalf(x)-gamma*alpha*np.matmul(gr_t, gradf):\r\n",
        "    alpha = rho*alpha\r\n",
        "  #print('final step length:',alpha)\r\n",
        "  return alpha"
      ],
      "execution_count": 5,
      "outputs": []
    },
    {
      "cell_type": "code",
      "metadata": {
        "id": "JIxHlQgI_1H7"
      },
      "source": [
        "def compute_steplength_backtracking_scaled_direction(x, gradf, direction, alpha_start, rho, gamma): #add appropriate arguments to the function \r\n",
        "  assert type(x) is np.ndarray and len(gradf) == 2 \r\n",
        "  assert type(gradf) is np.ndarray and len(gradf) == 2 \r\n",
        "  assert type(direction) is np.ndarray and len(direction) == 2 \r\n",
        "  assert type(alpha_start) is float and alpha_start>=0. \r\n",
        "  assert type(rho) is float and rho>=0.\r\n",
        "  assert type(gamma) is float and gamma>=0. \r\n",
        "  alpha = alpha_start\r\n",
        "  gr_t = np.matrix.transpose(gradf)\r\n",
        "  #direction = -(D_k)*gradf\r\n",
        "  #implement the backtracking line search\r\n",
        "  while evalf(np.add(x,alpha*direction)) > evalf(x)+gamma*alpha*np.matmul(gr_t, direction):\r\n",
        "    alpha = rho*alpha\r\n",
        "  #print('final step length:',alpha)\r\n",
        "  return alpha"
      ],
      "execution_count": 6,
      "outputs": []
    },
    {
      "cell_type": "code",
      "metadata": {
        "id": "KuWvpVAcAb-z"
      },
      "source": [
        "#line search type \r\n",
        "BACKTRACKING_LINE_SEARCH = 1\r\n",
        "BACKTRACKING_LINE_SEARCH_SCALING = 2"
      ],
      "execution_count": 7,
      "outputs": []
    },
    {
      "cell_type": "code",
      "metadata": {
        "id": "RalR-xJ-Aieh"
      },
      "source": [
        "#complete the code for gradient descent to find the minimizer\r\n",
        "condition_num_list_1 = []\r\n",
        "def find_minimizer_gd(start_x, tol, line_search_type, *args):\r\n",
        "  #Input: start_x is a numpy array of size 2, tol denotes the tolerance and is a positive float value\r\n",
        "  assert type(start_x) is np.ndarray and len(start_x) == 2 #do not allow arbitrary arguments \r\n",
        "  assert type(tol) is float and tol>=0 \r\n",
        "  # construct a suitable A matrix for the quadratic function \r\n",
        "  x = start_x\r\n",
        "  g_x = evalg(x) \r\n",
        "\r\n",
        "  #initialization for backtracking line search\r\n",
        "  if(line_search_type == BACKTRACKING_LINE_SEARCH):\r\n",
        "    alpha_start = args[0]\r\n",
        "    rho = args[1]\r\n",
        "    gamma = args[2]\r\n",
        "    #print('Params for Backtracking LS: alpha start:', alpha_start, 'rho:', rho,' gamma:', gamma)\r\n",
        "\r\n",
        "  k = 0\r\n",
        "  #print('iter:',k, ' x:', x, ' f(x):', evalf(x), ' grad at x:', g_x, ' gradient norm:', np.linalg.norm(g_x))\r\n",
        "\r\n",
        "  while (np.linalg.norm(g_x) > tol): #continue as long as the norm of gradient is not close to zero upto a tolerance tol\r\n",
        "  \r\n",
        "    if line_search_type == BACKTRACKING_LINE_SEARCH:\r\n",
        "      step_length = compute_steplength_backtracking(x,g_x, alpha_start,rho, gamma) #call the new function you wrote to compute the steplength\r\n",
        "      #raise ValueError('BACKTRACKING LINE SEARCH NOT YET IMPLEMENTED')\r\n",
        "    else:  \r\n",
        "      raise ValueError('Line search type unknown. Please check!')\r\n",
        "    \r\n",
        "    #implement the gradient descent steps here\r\n",
        "    Hessian = evalh(x)\r\n",
        "    cond_num1 = find_condition_number(Hessian)\r\n",
        "    condition_num_list_1.append(cond_num1)  \r\n",
        "    x = np.subtract(x, np.multiply(step_length,g_x)) #update x = x - step_length*g_x\r\n",
        "    k += 1 #increment iteration\r\n",
        "    g_x = evalg(x) #compute gradient at new point\r\n",
        "         \r\n",
        "    #print('iter:',k, ' x:', x, ' f(x):', evalf(x), ' grad at x:', g_x, ' gradient norm:', np.linalg.norm(g_x))\r\n",
        "\r\n",
        "  return x , k , evalf(x)"
      ],
      "execution_count": 8,
      "outputs": []
    },
    {
      "cell_type": "code",
      "metadata": {
        "id": "cukBNZiYA8IT"
      },
      "source": [
        "#complete the code for gradient descent with scaling to find the minimizer\r\n",
        "condition_num_list_2 = []\r\n",
        "def find_minimizer_gdscaling(start_x, tol, line_search_type, *args):\r\n",
        "  #Input: start_x is a numpy array of size 2, tol denotes the tolerance and is a positive float value\r\n",
        "  assert type(start_x) is np.ndarray and len(start_x) == 2 #do not allow arbitrary arguments \r\n",
        "  assert type(tol) is float and tol>=0 \r\n",
        "  x = start_x\r\n",
        "  #A = evalh(x) \r\n",
        "  g_x = evalg(x)\r\n",
        "   \r\n",
        "  #initialization for backtracking line search\r\n",
        "  if(line_search_type == BACKTRACKING_LINE_SEARCH_SCALING):\r\n",
        "    alpha_start = args[0]\r\n",
        "    rho = args[1]\r\n",
        "    gamma = args[2]\r\n",
        "\r\n",
        "  k = 0\r\n",
        "  while (np.linalg.norm(g_x) > tol):\r\n",
        "    D_k = compute_D_k_diagonal(x)\r\n",
        "    direction = -np.matmul(D_k, g_x)\r\n",
        "    if line_search_type == BACKTRACKING_LINE_SEARCH_SCALING:\r\n",
        "      step_length = compute_steplength_backtracking_scaled_direction(x, g_x, direction, alpha_start, rho, gamma)\r\n",
        "    else:  \r\n",
        "      raise ValueError('Line search type unknown. Please check!')\r\n",
        "    #implement the gradient descent steps here\r\n",
        "    Hessian = evalh(x)\r\n",
        "    cond_num2 = find_condition_number(Hessian)\r\n",
        "    condition_num_list_2.append(cond_num2)   \r\n",
        "    x = np.add(x, np.multiply(step_length,direction)) #update x = x + step_length*direction\r\n",
        "    k += 1 #increment iteration\r\n",
        "    g_x = evalg(x) #compute gradient at new point\r\n",
        "    \r\n",
        "  return x , k , evalf(x)  "
      ],
      "execution_count": 9,
      "outputs": []
    },
    {
      "cell_type": "code",
      "metadata": {
        "id": "vpQ9qPb4VdtC"
      },
      "source": [
        "my_start_x = np.array([5.0, 5.0])\r\n",
        "my_tol= 1e-9"
      ],
      "execution_count": 10,
      "outputs": []
    },
    {
      "cell_type": "markdown",
      "metadata": {
        "id": "1tLyAbpXTx_5"
      },
      "source": [
        ""
      ]
    },
    {
      "cell_type": "code",
      "metadata": {
        "colab": {
          "base_uri": "https://localhost:8080/"
        },
        "id": "PaubesSPWkA0",
        "outputId": "f58da054-a240-4a06-d081-22ae7b89e535"
      },
      "source": [
        "#check gradient descent with scaling and backtracking line search \r\n",
        "\r\n",
        "print(\"For BACKTRACKING_LINE_SEARCH_WITH_SCALING:\")\r\n",
        "x_opt_bls, k, f_value = find_minimizer_gdscaling(my_start_x, my_tol, BACKTRACKING_LINE_SEARCH_SCALING, 1.0, 0.5,0.5)\r\n",
        "print(\"Minimizer = \",x_opt_bls,\",Iteration = \", k , \", Minimum function value = \",f_value)\r\n",
        "\r\n",
        "#check gradient descent without scaling and with backtracking line search \r\n",
        "\r\n",
        "print(\"\\nFor BACKTRACKING_LINE_SEARCH WITHOUT SCALING :\")\r\n",
        "x_opt_bls, k, f_value = find_minimizer_gd(my_start_x, my_tol, BACKTRACKING_LINE_SEARCH, 1.0, 0.5,0.5)\r\n",
        "print(\"Minimizer = \",x_opt_bls,\",Iteration = \", k , \", Minimum function value = \",f_value)"
      ],
      "execution_count": 11,
      "outputs": [
        {
          "output_type": "stream",
          "text": [
            "For BACKTRACKING_LINE_SEARCH_WITH_SCALING:\n",
            "Minimizer =  [2. 4.] ,Iteration =  764552 , Minimum function value =  1.538167124588546e-18\n",
            "\n",
            "For BACKTRACKING_LINE_SEARCH WITHOUT SCALING :\n",
            "Minimizer =  [2.         4.00000001] ,Iteration =  428277 , Minimum function value =  4.2042719010748794e-18\n"
          ],
          "name": "stdout"
        }
      ]
    },
    {
      "cell_type": "markdown",
      "metadata": {
        "id": "NYDNzMC_R2ZZ"
      },
      "source": [
        "**Comments :** \\\\\r\n",
        "Here, from the above out-put it is obvious that the number of iterations in case of Backtracking line search with scaling is larger than the number of iterations in without scaling. Which means that gradient descent algorithm with backtracking without scaling is more efficient, that is, works faster than the backtracking with scaling.   "
      ]
    },
    {
      "cell_type": "markdown",
      "metadata": {
        "id": "R66jH5vFGd5M"
      },
      "source": [
        "**3. SOLUTION** \\\\\r\n",
        "Here, the matrix $\\mathbf{Q}$ whose condition number needs to be analyzed in the\r\n",
        "new gradient scheme with scaling with $\\mathbf{D}^k = (\\nabla^2f(x^k))^{-1}$ is taken as $\\mathbf{D}^{\\frac{1}{2}}H(f)\\mathbf{D}^{\\frac{1}{2}}$, where $H(f)$ is the Hessian of the given function $f$ under consideration.  \\\r\n",
        "So, for different iterations (in particular for $k^{\\text{th}}$ iteration) we have $\\mathbf{Q} = \\mathbf{(D^k)}^{\\frac{1}{2}}H^k\\mathbf{(D^k)}^{\\frac{1}{2}} .$  \\\\\r\n",
        "   \\\\\r\n",
        "**Now, we will proceed with assuming the scaling matrix $\\mathbf{D}^k$ to be non-diagonal $\\Rightarrow$ $\\mathbf{D}^k = (\\nabla^2f(x^k))^{-1}$**  i.e. Inverse of the Hessian."
      ]
    },
    {
      "cell_type": "code",
      "metadata": {
        "id": "ttBQFSnyZjtI"
      },
      "source": [
        "def compute_D_k(x):\r\n",
        "  assert type(x) is np.ndarray\r\n",
        "  assert len(x) == 2\r\n",
        "  if np.linalg.det(evalh(x)) == 0:\r\n",
        "    raise ValueError('Determinant does not exist. Please check!!')\r\n",
        "  return np.linalg.inv(evalh(x))  #computing inverse of Hessian."
      ],
      "execution_count": 12,
      "outputs": []
    },
    {
      "cell_type": "code",
      "metadata": {
        "id": "9RU9e-qzZpty"
      },
      "source": [
        "def compute_steplength_backtracking_scaled_direction_non_diagonal(x, gradf, alpha_start, rho, gamma): #add appropriate arguments to the function \r\n",
        "  assert type(x) is np.ndarray and len(gradf) == 2 \r\n",
        "  assert type(gradf) is np.ndarray and len(gradf) == 2 \r\n",
        "  #assert type(direction) is np.ndarray and len(direction) == 2 \r\n",
        "  assert type(alpha_start) is float and alpha_start>=0. \r\n",
        "  assert type(rho) is float and rho>=0.\r\n",
        "  assert type(gamma) is float and gamma>=0. \r\n",
        "  alpha = alpha_start\r\n",
        "  D_k = compute_D_k(x)\r\n",
        "  while evalf(x + alpha*np.matmul(D_k,-gradf)) > evalf(x) + gamma*alpha*(np.matmul(np.matrix.transpose(gradf), np.matmul(D_k,-gradf)) ):\r\n",
        "    alpha = rho*alpha\r\n",
        "  return alpha  "
      ],
      "execution_count": 13,
      "outputs": []
    },
    {
      "cell_type": "code",
      "metadata": {
        "id": "jtKix4s9rgfL"
      },
      "source": [
        "EXACT_LINE_SEARCH = 3"
      ],
      "execution_count": 14,
      "outputs": []
    },
    {
      "cell_type": "code",
      "metadata": {
        "id": "-4f0uWtUaHog"
      },
      "source": [
        "#complete the code for gradient descent with scaling to find the minimizer\r\n",
        "\r\n",
        "def find_minimizer_gdscaling_non_diagonal(start_x, tol, line_search_type, *args):\r\n",
        "  #Input: start_x is a numpy array of size 2, tol denotes the tolerance and is a positive float value\r\n",
        "  assert type(start_x) is np.ndarray and len(start_x) == 2 #do not allow arbitrary arguments \r\n",
        "  assert type(tol) is float and tol>=0 \r\n",
        "  x = start_x\r\n",
        "  g_x = evalg(x)\r\n",
        "  condition_number_scaling = []\r\n",
        "  #initialization for backtracking line search\r\n",
        "  if(line_search_type == BACKTRACKING_LINE_SEARCH):\r\n",
        "    alpha_start = args[0]\r\n",
        "    rho = args[1]\r\n",
        "    gamma = args[2]\r\n",
        "    #print('Params for Backtracking LS: alpha start:', alpha_start, 'rho:', rho,' gamma:', gamma)\r\n",
        "\r\n",
        "  k = 0\r\n",
        "  while (np.linalg.norm(g_x) > tol): #continue as long as the norm of gradient is not close to zero upto a tolerance tol\r\n",
        "    D_k = compute_D_k(x)\r\n",
        "    import scipy\r\n",
        "    from scipy.linalg import sqrtm\r\n",
        "    d = scipy.linalg.sqrtm(D_k)\r\n",
        "    C1 = np.matmul(np.matmul(d,evalh(x)),d)\r\n",
        "    condition_number_scaling.append(find_condition_number(C1))\r\n",
        "    print(\"Iteration\", k, \", Condition Number:\", find_condition_number(C1), \", x:\", x)\r\n",
        "    if line_search_type == EXACT_LINE_SEARCH:\r\n",
        "      step_length = compute_steplength_exact(g_x, A) #call the new function you wrote to compute the steplength\r\n",
        "      #raise ValueError('EXACT LINE SEARCH NOT YET IMPLEMENTED')\r\n",
        "    elif line_search_type == BACKTRACKING_LINE_SEARCH:\r\n",
        "      step_length = compute_steplength_backtracking_scaled_direction_non_diagonal(x, g_x, alpha_start, rho, gamma) #call the new function you wrote to compute the steplength\r\n",
        "      #raise ValueError('BACKTRACKING LINE SEARCH NOT YET IMPLEMENTED') \r\n",
        "    else:  \r\n",
        "      raise ValueError('Line search type unknown. Please check!')\r\n",
        "    \r\n",
        "    #implement the gradient descent steps here  \r\n",
        "    x = np.subtract(x, np.multiply(step_length,np.matmul(D_k, g_x))) #update x = x - step_length*g_x\r\n",
        "    k += 1 #increment iteration\r\n",
        "    g_x = evalg(x) #compute gradient at new point\r\n",
        "  return x, k, condition_number_scaling\r\n",
        "  #Complete the code   "
      ],
      "execution_count": 15,
      "outputs": []
    },
    {
      "cell_type": "code",
      "metadata": {
        "id": "WAnlLN73aSV8"
      },
      "source": [
        "my_start_x = np.array([5.0,5.0])\r\n",
        "my_tol= 1e-9"
      ],
      "execution_count": 22,
      "outputs": []
    },
    {
      "cell_type": "code",
      "metadata": {
        "colab": {
          "base_uri": "https://localhost:8080/"
        },
        "id": "MJ552TiulDHF",
        "outputId": "fcf641e9-d9c6-4f11-8ae5-eec18856b9a1"
      },
      "source": [
        "#Compute gradient descent with scaling and with backtracking line search \r\n",
        "\r\n",
        "print(\"Computing Gradient descent with scaling and with Backtracking Line Search\\n:\")\r\n",
        "#check what happens when you call find_minimzer using backtracking line search\r\n",
        "x_opt_bls, k, condition_num_arr_scaling = find_minimizer_gdscaling_non_diagonal(my_start_x, my_tol, BACKTRACKING_LINE_SEARCH, 1.0, 0.5, 0.5)\r\n",
        "print(\"\\n\\nMinimizer: {}, \\nMinimum function value: {}\".format((x_opt_bls[0], x_opt_bls[1]), evalf(x_opt_bls)),\"\\nNo. of Iterations:\", k)"
      ],
      "execution_count": 23,
      "outputs": [
        {
          "output_type": "stream",
          "text": [
            "Computing Gradient descent with scaling and with Backtracking Line Search\n",
            ":\n",
            "Iteration 0 , Condition Number: 1.0000000000000417 , x: [5. 5.]\n",
            "Iteration 1 , Condition Number: 1.0000000009519379 , x: [ 4.999925   24.99925002]\n",
            "Iteration 2 , Condition Number: 1.0000000000285387 , x: [ 4.9061784  24.06179806]\n",
            "Iteration 3 , Condition Number: 1.0000000000382654 , x: [ 4.82795802 23.29866599]\n",
            "Iteration 4 , Condition Number: 1.0000000000109375 , x: [ 4.69956205 22.06939795]\n",
            "Iteration 5 , Condition Number: 1.0000000000210825 , x: [ 4.6200955  21.33896751]\n",
            "Iteration 6 , Condition Number: 1.0000000000140459 , x: [ 4.52397953 20.45399503]\n",
            "Iteration 7 , Condition Number: 1.0000000000158027 , x: [ 4.4261186  19.58094907]\n",
            "Iteration 8 , Condition Number: 1.0000000000126676 , x: [ 4.30573674 18.52487711]\n",
            "Iteration 9 , Condition Number: 1.0000000000180675 , x: [ 4.22883677 17.87714678]\n",
            "Iteration 10 , Condition Number: 1.0000000000130869 , x: [ 4.14195754 17.14530742]\n",
            "Iteration 11 , Condition Number: 1.0000000000016795 , x: [ 4.04463833 16.34962819]\n",
            "Iteration 12 , Condition Number: 1.0000000000073774 , x: [ 3.94210936 15.52971405]\n",
            "Iteration 13 , Condition Number: 1.0000000000299818 , x: [ 3.85392938 14.84499593]\n",
            "Iteration 14 , Condition Number: 1.000000000002927 , x: [ 3.74191909 13.98941216]\n",
            "Iteration 15 , Condition Number: 1.0000000000512215 , x: [ 3.67515999 13.50234417]\n",
            "Iteration 16 , Condition Number: 1.0000000000049023 , x: [ 3.59067163 12.88355606]\n",
            "Iteration 17 , Condition Number: 1.0000000000123048 , x: [ 3.51006331 12.31404675]\n",
            "Iteration 18 , Condition Number: 1.0000000000018179 , x: [ 3.4021662  11.56309309]\n",
            "Iteration 19 , Condition Number: 1.0000000000251352 , x: [ 3.34442485 11.18184354]\n",
            "Iteration 20 , Condition Number: 1.0000000000037244 , x: [ 3.25676167 10.5971447 ]\n",
            "Iteration 21 , Condition Number: 1.0000000000148244 , x: [ 3.19297874 10.19104498]\n",
            "Iteration 22 , Condition Number: 1.0000000000020237 , x: [3.12769249 9.77616388]\n",
            "Iteration 23 , Condition Number: 1.0000000000044118 , x: [3.04473031 9.26349997]\n",
            "Iteration 24 , Condition Number: 1.000000000002168 , x: [2.97397523 8.83952238]\n",
            "Iteration 25 , Condition Number: 1.0000000000037577 , x: [2.88553305 8.31847894]\n",
            "Iteration 26 , Condition Number: 1.0000000000072364 , x: [2.83232883 8.01925592]\n",
            "Iteration 27 , Condition Number: 1.000000000001322 , x: [2.7698546  7.66677613]\n",
            "Iteration 28 , Condition Number: 1.0000000000139864 , x: [2.7036974  7.30560288]\n",
            "Iteration 29 , Condition Number: 1.0000000000125338 , x: [2.63154957 6.91984785]\n",
            "Iteration 30 , Condition Number: 1.0000000000052953 , x: [2.57620204 6.63375362]\n",
            "Iteration 31 , Condition Number: 1.000000000003374 , x: [2.53577645 6.42699629]\n",
            "Iteration 32 , Condition Number: 1.0000000000015496 , x: [2.46270081 6.05955523]\n",
            "Iteration 33 , Condition Number: 1.0000000000177611 , x: [2.42308635 5.86977813]\n",
            "Iteration 34 , Condition Number: 1.000000000000813 , x: [2.37197182 5.62285296]\n",
            "Iteration 35 , Condition Number: 1.0000000000004161 , x: [2.32425067 5.39986387]\n",
            "Iteration 36 , Condition Number: 1.0000000000032068 , x: [2.26587567 5.13078493]\n",
            "Iteration 37 , Condition Number: 1.0000000000009586 , x: [2.2318557  4.98002249]\n",
            "Iteration 38 , Condition Number: 1.0000000000180047 , x: [2.19688203 4.8244888 ]\n",
            "Iteration 39 , Condition Number: 1.0000000000106941 , x: [2.15411574 4.63838568]\n",
            "Iteration 40 , Condition Number: 1.0000000000073146 , x: [2.12102886 4.49766866]\n",
            "Iteration 41 , Condition Number: 1.0000000000027023 , x: [2.08308264 4.33779338]\n",
            "Iteration 42 , Condition Number: 1.0000000000076776 , x: [2.06166865 4.25001908]\n",
            "Iteration 43 , Condition Number: 1.0000000000241334 , x: [2.04558496 4.18392988]\n",
            "Iteration 44 , Condition Number: 1.000000000007994 , x: [2.02251482 4.09003397]\n",
            "Iteration 45 , Condition Number: 1.0000000000179612 , x: [2.01160892 4.04645152]\n",
            "Iteration 46 , Condition Number: 1.0000000000166502 , x: [2.00223083 4.00884036]\n",
            "Iteration 47 , Condition Number: 1.000000000007332 , x: [2.0003337  4.00133131]\n",
            "Iteration 48 , Condition Number: 1.0000000000019371 , x: [2.00000238 4.00000943]\n",
            "Iteration 49 , Condition Number: 1.0000000000239893 , x: [2. 4.]\n",
            "Iteration 50 , Condition Number: 1.0000000000185274 , x: [2. 4.]\n",
            "Iteration 51 , Condition Number: 1.0000000000452547 , x: [2. 4.]\n",
            "\n",
            "\n",
            "Minimizer: (2.0, 4.0), \n",
            "Minimum function value: 0.0 \n",
            "No. of Iterations: 52\n"
          ],
          "name": "stdout"
        }
      ]
    },
    {
      "cell_type": "markdown",
      "metadata": {
        "id": "0QIgcGeZLDXH"
      },
      "source": [
        "**Comment:** \\\\\r\n",
        "**As we can clearly see from the above out-put that in the last 3 results out of 52 iterations, we have the same minimizer. So we can confidently say that we require only 50 iterations to achieve our minimizer.**"
      ]
    },
    {
      "cell_type": "markdown",
      "metadata": {
        "id": "LkJhKrwW50xF"
      },
      "source": [
        "**4. SOLUTION :** "
      ]
    },
    {
      "cell_type": "code",
      "metadata": {
        "colab": {
          "base_uri": "https://localhost:8080/",
          "height": 422
        },
        "id": "MUB3wXqobOiZ",
        "outputId": "6edd5f7a-c646-49ed-a908-b25c65fe6a0e"
      },
      "source": [
        "# plot depicting the behavior of condition numbers in both - with and without scaling backtracking against iterations. \r\n",
        "import matplotlib.pyplot as plt\r\n",
        "\r\n",
        "plt.figure(figsize=(7,6))\r\n",
        "plt.plot(condition_num_list_1,label=r'$ $')\r\n",
        "plt.plot(condition_num_arr_scaling,label= r'$ $') \r\n",
        "plt.title('Graph of condition number of the Hessian matrix with and without scaling\\n',fontsize=12)\r\n",
        "plt.xlabel(r'Iterations',fontsize=12)\r\n",
        "plt.ylabel(r'Condition Number',fontsize=12)\r\n",
        "plt.legend([\"Without scaling\", \"With scaling\"],fontsize=12)\r\n",
        "plt.show()"
      ],
      "execution_count": 37,
      "outputs": [
        {
          "output_type": "display_data",
          "data": {
            "image/png": "[encoded data removed]",
            "text/plain": [
              "<Figure size 504x432 with 1 Axes>"
            ]
          },
          "metadata": {
            "tags": [],
            "needs_background": "light"
          }
        }
      ]
    },
    {
      "cell_type": "markdown",
      "metadata": {
        "id": "ftY6bEuvcWLk"
      },
      "source": [
        "**Here, We it is clear that the graph of conditional number with scaling is not visible in the above plot because it took only  52  iterations and it's conditional number is just near  1.0 . By the scaling of graph, we can not see it clearly. So we plotted both graphs seperately to make them more clearly visible.**"
      ]
    },
    {
      "cell_type": "code",
      "metadata": {
        "colab": {
          "base_uri": "https://localhost:8080/",
          "height": 404
        },
        "id": "suUXYW1lPRzB",
        "outputId": "7366ec7a-ff15-4b13-f0b2-17501efa530c"
      },
      "source": [
        "#plotting the condition number of the hessian matrix without scaling against the  iterations \r\n",
        "import matplotlib.pyplot as plt\r\n",
        "plt.figure(figsize=(7,6))\r\n",
        "plt.plot(condition_num_list_1,color = 'b')\r\n",
        "plt.xlabel('ITERATION',color='b')\r\n",
        "plt.ylabel('CONDITION NUMBERS',color='purple')\r\n",
        "plt.title('Graph of Condition Number of Hessian matrix without scaling',color='r')\r\n",
        "plt.show()"
      ],
      "execution_count": 38,
      "outputs": [
        {
          "output_type": "display_data",
          "data": {
            "image/png": "[encoded data removed]",
            "text/plain": [
              "<Figure size 504x432 with 1 Axes>"
            ]
          },
          "metadata": {
            "tags": [],
            "needs_background": "light"
          }
        }
      ]
    },
    {
      "cell_type": "code",
      "metadata": {
        "colab": {
          "base_uri": "https://localhost:8080/",
          "height": 404
        },
        "id": "OidGuq3NTh_W",
        "outputId": "5679e371-2e12-469a-df03-966809f3c79b"
      },
      "source": [
        "#plotting the condition number of the Hessian matrix with scaling against the  iterations \r\n",
        "import matplotlib.pyplot as plt\r\n",
        "plt.figure(figsize=(7,6))\r\n",
        "plt.plot(condition_num_arr_scaling,color='orange')\r\n",
        "plt.xlabel('ITERATION',color='b')\r\n",
        "plt.ylabel('CONDITION NUMBERS',color='b')\r\n",
        "plt.title('Graph of Condition No. of the Hessian matrix with scaling',color='r')\r\n",
        "plt.show()"
      ],
      "execution_count": 39,
      "outputs": [
        {
          "output_type": "display_data",
          "data": {
            "image/png": "[encoded data removed]",
            "text/plain": [
              "<Figure size 504x432 with 1 Axes>"
            ]
          },
          "metadata": {
            "tags": [],
            "needs_background": "light"
          }
        }
      ]
    },
    {
      "cell_type": "markdown",
      "metadata": {
        "id": "ie6Rrel2dAZc"
      },
      "source": [
        "**Comment :** \\\\\r\n",
        "1. From the above graph of bactracking line search with scaling, we see that the conditional number is converging to 1.0 but in the line search without scaling, the graph is reaching somewhere nearby 300000.\r\n",
        "2. Condition number is converging for scaling method but not in the case of without scaling method.\r\n",
        "\r\n",
        "3. Due to scaling, conditional number is converging to  1 thats why algorithm is converging quickly. This is not seen in non-scaling method. Without scaling, algorithm is taking  428277  iterations because conditional number of Hessian is Large."
      ]
    },
    {
      "cell_type": "code",
      "metadata": {
        "id": "RL092VeGZh66"
      },
      "source": [
        ""
      ],
      "execution_count": 21,
      "outputs": []
    }
  ]
}