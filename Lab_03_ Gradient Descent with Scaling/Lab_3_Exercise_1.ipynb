{
  "nbformat": 4,
  "nbformat_minor": 0,
  "metadata": {
    "colab": {
      "name": "20i190011_IE684_Lab 3_Ex1.ipynb",
      "provenance": [],
      "collapsed_sections": []
    },
    "kernelspec": {
      "name": "python3",
      "display_name": "Python 3"
    }
  },
  "cells": [
    {
      "cell_type": "markdown",
      "metadata": {
        "id": "nVE0Xoa0Q5wE"
      },
      "source": [
        "$\\Large\\textbf{Lab 3.}$ $\\large\\textbf{Exercise 1.}$\r\n",
        "\r\n"
      ]
    },
    {
      "cell_type": "markdown",
      "metadata": {
        "id": "YVkab74DJsRL"
      },
      "source": [
        "In the last lab, when we tried to solve certain problems of the form $\\min_{\\mathbf{x} \\in {\\mathbb{R}}^n} f(\\mathbf{x})$ using gradient descent algorithm, we noticed that the algorithm needed a large number of iterations to find the minimizer. Today we will discuss some remedy measures for this issue.  "
      ]
    },
    {
      "cell_type": "markdown",
      "metadata": {
        "id": "b-Meohokl4xP"
      },
      "source": [
        "Consider the problem $\\min_{\\mathbf{x}} f(\\mathbf{x}) = 1000x_1^2 + 40x_1 x_2 +  x_2^2$. "
      ]
    },
    {
      "cell_type": "markdown",
      "metadata": {
        "id": "ZvWjvAgnXxS3"
      },
      "source": [
        "Note that the function $f(\\mathbf{x})$ is twice continuously differentiable. First let us investigate the Hessian $\\nabla^2 f(\\mathbf{x})$ of the function. \r\n",
        "\r\n",
        "We shall find the condition number of the Hessian given by $\\kappa\\left (\\nabla^2 f(\\mathbf{x}) \\right ) = \\frac{\\lambda_{\\max} \\left (\\nabla^2 f(\\mathbf{x}) \\right )}{\\lambda_{\\min} \\left (\\nabla^2 f(\\mathbf{x}) \\right )}$, where $\\lambda_{\\max}(\\mathbf{A})$ denotes the maximum eigen value of matrix $\\mathbf{A}$ and $\\lambda_{\\min}(\\mathbf{A})$ denotes the minimum eigen value of matrix $\\mathbf{A}$.  \r\n",
        "\r\n",
        "\r\n"
      ]
    },
    {
      "cell_type": "markdown",
      "metadata": {
        "id": "fLfdgrmxANif"
      },
      "source": [
        "$\\textbf{Question_2:}$ Write code to find the Hessian matrix of the function $f(\\mathbf{x}) = 1000x_1^2 + 40x_1 x_2 +  x_2^2$ and its condition number. \\\\\r\n",
        "\r\n",
        "Here, the function under consideration is \\\\\r\n",
        " $f(\\mathbf{x}) = 1000x_1^2 + 40x_1 x_2 +  x_2^2$\r\n",
        "\r\n",
        "\r\n",
        "$\\Rightarrow f_{x_1}(\\mathbf{x}) = 2000x_1 + 40x_2$ \r\n",
        "\r\n",
        "\r\n",
        "$\\Rightarrow f_{x_1^2}(\\mathbf{x}) = 2000$ \r\n",
        "\r\n",
        "\r\n",
        "$\\Rightarrow f_{x_1x_2}(\\mathbf{x}) = 40$ \r\n",
        "\r\n",
        "\r\n",
        "$\\Rightarrow f_{x_2}(\\mathbf{x}) = 40x_1 + 2x_2$ \r\n",
        "\r\n",
        "\r\n",
        "$\\Rightarrow f_{x_2^2}(\\mathbf{x}) = 2$ \r\n",
        "\r\n",
        "\r\n",
        "$\\Rightarrow f_{x_2x_1}(\\mathbf{x}) = 40$ \r\n",
        "\r\n",
        "$\\Rightarrow\\nabla^2 f(\\mathbf{x}) =\r\n",
        "\\begin{bmatrix}\r\n",
        "  f_{x_1^2}(\\mathbf{x}) & \r\n",
        "    f_{x_1x_2}(\\mathbf{x})  \\\\\r\n",
        "  f_{x_2x_1}(\\mathbf{x}) & \r\n",
        "    f_{x_2^2}(\\mathbf{x})\r\n",
        "\\end{bmatrix}\r\n",
        "=\r\n",
        "\\begin{bmatrix}\r\n",
        "  2000 & 40 \\\\ 40 & 2\r\n",
        "\\end{bmatrix} = Hessian$\r\n"
      ]
    },
    {
      "cell_type": "code",
      "metadata": {
        "id": "72qwiJ0CDtOX",
        "colab": {
          "base_uri": "https://localhost:8080/"
        },
        "outputId": "e11e99f8-5ffa-4eda-c957-639d025a91ff"
      },
      "source": [
        "import numpy as np \r\n",
        "\r\n",
        "#method to find Hessian matrix\r\n",
        "def evalh(x): \r\n",
        "  assert type(x) is np.ndarray \r\n",
        "  assert len(x) == 2 \r\n",
        "  return np.array([[2000, 40], [40, 2]])\r\n",
        "\r\n",
        "#method to find the condition number of any square matrix\r\n",
        "def find_condition_number(A):\r\n",
        "  assert type(A) is np.ndarray\r\n",
        "  assert A.shape[0] == A.shape[1]\r\n",
        "  min_eigenval = min(np.linalg.eig(A)[0])\r\n",
        "  max_eigenval = max(np.linalg.eig(A)[0])\r\n",
        "  return max_eigenval/min_eigenval\r\n",
        "\r\n",
        "# In particular, for A = hessian = evalh(x) = np.array([[2000, 40], [40, 2]])\r\n",
        "print(\"Condition Number of the Hessian matrix for the given question is =  \",find_condition_number(np.array([[2000, 40], [40, 2]])))"
      ],
      "execution_count": 1,
      "outputs": [
        {
          "output_type": "stream",
          "text": [
            "Condition Number of the Hessian matrix for the given question is =   1668.0010671466666\n"
          ],
          "name": "stdout"
        }
      ]
    },
    {
      "cell_type": "markdown",
      "metadata": {
        "id": "g7ivDCuJRP9b"
      },
      "source": [
        "The condition number of the Hessian plays a major role in the progress of the iterates of gradient descent towards the optimal solution point. Typically a large value of the condition number indicates that the problem is $\\textbf{ill-conditioned}$ and hence leads to slow progress of the iterates towards the optimal solution point. Now we shall discuss a method which would help in better $\\textbf{conditioning}$ of the problem and hence would help in speeding up the progress of the iterates towards the optimal solution point. \r\n",
        "\r\n",
        "Let us first illustrate an equivalent transformation of the problem $\\min_{\\mathbf{x} \\in {\\mathbb{R}}^n} f(\\mathbf{x})$. Consider the transformation $\\mathbf{x}=\\mathbf{My}$ where $\\mathbf{M}\\in {\\mathbb{R}}^{n \\times n}$ is an invertible matrix and $\\mathbf{y} \\in {\\mathbb{R}}^n$ and consider the equivalent problem $\\min_{\\mathbf{y} \\in {\\mathbb{R}}^n} g(\\mathbf{y}) \\equiv \\min_{\\mathbf{y} \\in {\\mathbb{R}}^n} f(\\mathbf{My})$. \r\n",
        "\r\n",
        "Note that the gradient $\\nabla g(\\mathbf{y}) = \\mathbf{M}^\\top \\nabla f(\\mathbf{My})$ and the Hessian is $\\nabla^2 g(\\mathbf{y}) = \\mathbf{M}^\\top \\nabla^2 f(\\mathbf{My}) \\mathbf{M}$. \r\n",
        "\r\n",
        "Hence the gradient descent update to solve $\\min_{\\mathbf{y} \\in {\\mathbb{R}}^n} g(\\mathbf{y})$ becomes: \r\n",
        "\\begin{align}\r\n",
        "{\\mathbf{y}}^{k+1} &= {\\mathbf{y}}^{k} - \\eta \\nabla g(\\mathbf{y}^{k}) \\\\\r\n",
        "&= {\\mathbf{y}}^{k} - \\eta {\\mathbf{M}}^\\top \\nabla f(\\mathbf{M}\\mathbf{y}^{k}) \\\\\r\n",
        "\\end{align}\r\n",
        "Pre-multiplying by $\\mathbf{M}$, we have:\r\n",
        "\\begin{align}\r\n",
        "{\\mathbf{M}\\mathbf{y}}^{k+1} &= {\\mathbf{M}\\mathbf{y}}^{k} -  \\eta \\mathbf{MM}^\\top \\nabla f(\\mathbf{M}\\mathbf{y}^{k})  \\\\\r\n",
        "\\implies \\mathbf{x}^{k+1} &= \\mathbf{x}^{k} - \\eta \\mathbf{MM}^\\top \\nabla f({\\mathbf{x}}^{k}) \r\n",
        "\\end{align}\r\n",
        "\r\n",
        "Letting $\\mathbf{D} = \\mathbf{MM}^\\top$, we see that the update is of the form:\r\n",
        "\\begin{align}\r\n",
        "\\mathbf{x}^{k+1} &= \\mathbf{x}^{k} - \\eta \\mathbf{D} \\nabla f({\\mathbf{x}}^{k}) \r\n",
        "\\end{align}\r\n",
        "\r\n",
        "Note that the matrix $\\mathbf{D}$ is symmetric and positive definite and hence can be written as $\\mathbf{D} = \\mathbf{B}^2$, where $\\mathbf{B}$ is also symmetric and positive definite. Denoting $\\mathbf{B}= \\mathbf{D}^{\\frac{1}{2}}$, we see that a useful choice for the matrix $\\mathbf{M}$ is $\\mathbf{M} = \\mathbf{B} = \\mathbf{D}^{\\frac{1}{2}}$. \r\n",
        "\r\n",
        "The matrix $\\mathbf{D}$ is called a $\\textbf{scaling}$ matrix and helps in scaling the Hessian. We will consider $\\mathbf{D}$ to be a diagonal matrix. Thus it would be useful to find a useful candidate of the scaling matrix at each iteration which could help in significant progress of the iterates towards the optimal solution. \r\n",
        "\r\n",
        "\r\n"
      ]
    },
    {
      "cell_type": "markdown",
      "metadata": {
        "id": "ZgHGXcTYNXuw"
      },
      "source": [
        "This discussion leads to the following algorithm:\r\n",
        "\\begin{align}\r\n",
        "& \\textbf{Input:} \\text{ Starting point $x^0$, Stopping tolerance $\\tau$}  \\\\\r\n",
        "& \\textbf{Initialize } k=0 \\\\ \r\n",
        "& \\mathbf{p}^k =-\\nabla f(\\mathbf{x}^k) \\\\ \r\n",
        "&\\textbf{While } \\| \\mathbf{p}^k \\|_2 > \\tau \\text{ do:}  \\\\   \r\n",
        "&\\quad \\quad \\text{ Choose a suitable scaling matrix }\\mathbf{D}^k. \\\\ \r\n",
        "&\\quad \\quad \\eta^k = \\arg\\min_{\\eta\\geq 0} f(\\mathbf{x}^k + \\eta  \\mathbf{D}^k \\mathbf{p}^k) = \\arg\\min_{\\eta\\geq 0} f(\\mathbf{x}^k - \\eta  \\mathbf{D}^k \\nabla f(\\mathbf{x}^k)) \\\\\r\n",
        "&\\quad \\quad \\mathbf{x}^{k+1} = \\mathbf{x}^k + \\eta^k \\mathbf{D}^k \\mathbf{p}^k = \\mathbf{x}^k - \\eta^k \\nabla \\mathbf{D}^k \\nabla f(\\mathbf{x}^k)  \\\\ \r\n",
        "&\\quad \\quad k = {k+1} \\\\ \r\n",
        "&\\textbf{End While} \\\\\r\n",
        "&\\textbf{Output: } \\mathbf{x}^k\r\n",
        "\\end{align}"
      ]
    },
    {
      "cell_type": "markdown",
      "metadata": {
        "id": "3XvbzQ5LeJ_N"
      },
      "source": [
        "Note that the update step in the modified gradient descent scheme uses a scaled gradient. Thus it becomes important to set up some criteria for choosing the $\\mathbf{D}^k$ matrix in every iteration. In this exercise, we will assume $\\mathbf{D}^k$ to be a diagonal matrix. The following questions will help in designing a suitable $\\mathbf{D}^k$."
      ]
    },
    {
      "cell_type": "markdown",
      "metadata": {
        "id": "kC5h9vGOfLcr"
      },
      "source": [
        "$\\textbf{Question_4:}$ Based on our discussion on condition number and the derivation of the gradient descent scheme with scaling, can you identify and write down the matrix $\\mathbf{Q}$ whose condition number needs to be analyzed in the new gradient scheme with scaling? "
      ]
    },
    {
      "cell_type": "markdown",
      "metadata": {
        "id": "ZL8skZZIf8yd"
      },
      "source": [
        "$\\textbf{Your Answer:}$ \\\\\r\n",
        "Here, the matrix $\\mathbf{Q}$ whose condition number needs to be analyzed in the\r\n",
        "new gradient scheme with scaling is taken as: \\\\\r\n",
        "$\\mathbf{Q}$  = $(\\mathbf{D}^k)^{\\frac{1}{2}} \\mathbf{H}^k (\\mathbf{D}^k)^{\\frac{1}{2}}$ , where $\\mathbf{H^\\it k}$ is the Hessian for $\\ k^{th}$ iteration."
      ]
    },
    {
      "cell_type": "markdown",
      "metadata": {
        "id": "qrbWd2XigB2N"
      },
      "source": [
        "$\\textbf{Question_5:}$ Based on the matrix $\\mathbf{Q}$, can you come up with a useful choice for $\\mathbf{D}^k$ (assuming $\\mathbf{D}^k$ to be diagonal)?"
      ]
    },
    {
      "cell_type": "markdown",
      "metadata": {
        "id": "BTIH3LnUgRh6"
      },
      "source": [
        "$\\textbf{Your Answer:}$ \\\\\r\n",
        "The required diagonal matrix is: \\\\\r\n",
        "\\begin{equation} \\ \\mathbf{D}^k =\r\n",
        "\\begin{bmatrix}\r\n",
        "\\frac{1}{2000} & 0 \\\\ 0 & \\frac{1}{2}\r\n",
        "\\end{bmatrix}\r\n",
        "\\end{equation}\r\n",
        "which is actually the diagonal approximation to the Hessian Matrix $\\nabla^2 f(\\mathbf{x})$, \\\\\r\n",
        "**i.e.**  $\\mathbf{D}^k \\ is \\ a \\ diagonal  \\ matrix \\ with \\ the \\ inverse \\ second \\ partial \\ derivatives \\ \\Big(\\frac{\\partial^2f(\\mathbf{x_k})}{(\\partial x_i)^2}\\Big)^{-1} \\ as \\ the \\ diagonal \\ elements.$"
      ]
    },
    {
      "cell_type": "markdown",
      "metadata": {
        "id": "YDNH0zgxgaPR"
      },
      "source": [
        "Write code to find the matrix $\\mathbf{D}^k$. "
      ]
    },
    {
      "cell_type": "code",
      "metadata": {
        "id": "KJq7tIgIRroP"
      },
      "source": [
        "#The method defines a way to construct D_k matrix used in scaling the gradient in the modified gradient descent scheme\r\n",
        "def compute_D_k(x):\r\n",
        "  assert type(x) is np.ndarray\r\n",
        "  assert len(x) == 2\r\n",
        "  #compute and return D_k\r\n",
        "  return np.array([[1/2000, 0],[0, 1/2]])"
      ],
      "execution_count": 2,
      "outputs": []
    },
    {
      "cell_type": "code",
      "metadata": {
        "id": "GZjX2IwOR8_X"
      },
      "source": [
        "#Now we will define a function which will compute and return the function value \r\n",
        "def evalf(x):  \r\n",
        "  #Input: x is a numpy array of size 2 \r\n",
        "  assert type(x) is np.ndarray and len(x) == 2 #do not allow arbitrary arguments \r\n",
        "  #after checking if the argument is valid, we can compute the objective function value\r\n",
        "  #compute the function value and return it \r\n",
        "  return 1000*x[0]**2 + 40*x[0]*x[1] + x[1]**2 "
      ],
      "execution_count": 3,
      "outputs": []
    },
    {
      "cell_type": "code",
      "metadata": {
        "id": "6klpwtDra_I8"
      },
      "source": [
        "#Now we will define a function which will compute and return the gradient value as a numpy array \r\n",
        "def evalg(x):  \r\n",
        "  #Input: x is a numpy array of size 2 \r\n",
        "  assert type(x) is np.ndarray and len(x) == 2 #do not allow arbitrary arguments \r\n",
        "  #after checking if the argument is valid, we can compute the gradient value\r\n",
        "  #compute the gradient value and return it \r\n",
        "  return np.array([2000*x[0] + 40*x[1], 40*x[0] + 2*x[1]])\r\n",
        "  "
      ],
      "execution_count": 4,
      "outputs": []
    },
    {
      "cell_type": "code",
      "metadata": {
        "id": "f3blM08V0HOl"
      },
      "source": [
        "#Complete the module to compute the steplength by using the closed-form expression\r\n",
        "def compute_steplength_exact(gradf, A): #add appropriate arguments to the function \r\n",
        "  assert type(gradf) is np.ndarray and len(gradf) == 2 \r\n",
        "  assert type(A) is np.ndarray and A.shape[0] == 2 and  A.shape[1] == 2 #allow only a 2x2 array\r\n",
        "  gr_t = np.matrix.transpose(gradf)\r\n",
        "  step_length = np.matmul(gr_t, gradf)/(2*np.matmul(np.matmul(gr_t, A), gradf))\r\n",
        "  return step_length\r\n",
        "  "
      ],
      "execution_count": 5,
      "outputs": []
    },
    {
      "cell_type": "code",
      "metadata": {
        "id": "PGunDYy6Q21S"
      },
      "source": [
        "#Complete the module to compute the steplength by using the closed-form expression\r\n",
        "def compute_steplength_backtracking(x, gradf, alpha_start, rho, gamma): #add appropriate arguments to the function \r\n",
        "  assert type(x) is np.ndarray and len(x) == 2 \r\n",
        "  assert type(gradf) is np.ndarray and len(gradf) == 2 \r\n",
        "  assert type(alpha_start) is float and alpha_start>=0. \r\n",
        "  assert type(rho) is float and rho>=0.\r\n",
        "  assert type(gamma) is float and gamma>=0. \r\n",
        "  alpha = alpha_start\r\n",
        "  gr_t = np.matrix.transpose(gradf)\r\n",
        "  #implement the backtracking line search\r\n",
        "  while evalf(np.add(x,-alpha*gradf)) > evalf(x)-gamma*alpha*np.matmul(gr_t, gradf):\r\n",
        "    alpha = rho*alpha\r\n",
        "  #print('final step length:',alpha)\r\n",
        "  return alpha"
      ],
      "execution_count": 6,
      "outputs": []
    },
    {
      "cell_type": "code",
      "metadata": {
        "id": "wqjdHM3eaHYf"
      },
      "source": [
        "def compute_steplength_backtracking_scaled_direction(x, gradf, direction, alpha_start, rho, gamma): #add appropriate arguments to the function \r\n",
        "  assert type(x) is np.ndarray and len(gradf) == 2 \r\n",
        "  assert type(gradf) is np.ndarray and len(gradf) == 2 \r\n",
        "  assert type(direction) is np.ndarray and len(direction) == 2 \r\n",
        "  assert type(alpha_start) is float and alpha_start>=0. \r\n",
        "  assert type(rho) is float and rho>=0.\r\n",
        "  assert type(gamma) is float and gamma>=0. \r\n",
        "  alpha = alpha_start\r\n",
        "  gr_t = np.matrix.transpose(gradf)\r\n",
        "  #direction = -(D_k)*gradf\r\n",
        "  #implement the backtracking line search\r\n",
        "  while evalf(np.add(x,alpha*direction)) > evalf(x)+gamma*alpha*np.matmul(gr_t, direction):\r\n",
        "    alpha = rho*alpha\r\n",
        "  #print('final step length:',alpha)\r\n",
        "  return alpha"
      ],
      "execution_count": 7,
      "outputs": []
    },
    {
      "cell_type": "code",
      "metadata": {
        "id": "GvLRu5s635ph"
      },
      "source": [
        "#line search type \r\n",
        "EXACT_LINE_SEARCH = 1\r\n",
        "BACKTRACKING_LINE_SEARCH = 2\r\n",
        "CONSTANT_STEP_LENGTH = 3\r\n",
        "BACKTRACKING_LINE_SEARCH_SCALING = 4"
      ],
      "execution_count": 8,
      "outputs": []
    },
    {
      "cell_type": "code",
      "metadata": {
        "id": "kdYW5nldqZU-"
      },
      "source": [
        "#complete the code for gradient descent to find the minimizer\r\n",
        "def find_minimizer_gd(start_x, tol, line_search_type, *args):\r\n",
        "  #Input: start_x is a numpy array of size 2, tol denotes the tolerance and is a positive float value\r\n",
        "  assert type(start_x) is np.ndarray and len(start_x) == 2 #do not allow arbitrary arguments \r\n",
        "  assert type(tol) is float and tol>=0 \r\n",
        "  # construct a suitable A matrix for the quadratic function \r\n",
        "  x = start_x\r\n",
        "  A = (1/2)*evalh(x)\r\n",
        "  g_x = evalg(x)\r\n",
        "\r\n",
        "  #initialization for backtracking line search\r\n",
        "  if(line_search_type == BACKTRACKING_LINE_SEARCH):\r\n",
        "    alpha_start = args[0]\r\n",
        "    rho = args[1]\r\n",
        "    gamma = args[2]\r\n",
        "    #print('Params for Backtracking LS: alpha start:', alpha_start, 'rho:', rho,' gamma:', gamma)\r\n",
        "\r\n",
        "  k = 0\r\n",
        "  #print('iter:',k, ' x:', x, ' f(x):', evalf(x), ' grad at x:', g_x, ' gradient norm:', np.linalg.norm(g_x))\r\n",
        "\r\n",
        "  while (np.linalg.norm(g_x) > tol): #continue as long as the norm of gradient is not close to zero upto a tolerance tol\r\n",
        "  \r\n",
        "    if line_search_type == EXACT_LINE_SEARCH:\r\n",
        "      step_length = compute_steplength_exact(g_x, A) #call the new function you wrote to compute the steplength\r\n",
        "      #raise ValueError('EXACT LINE SEARCH NOT YET IMPLEMENTED')\r\n",
        "    elif line_search_type == BACKTRACKING_LINE_SEARCH:\r\n",
        "      step_length = compute_steplength_backtracking(x,g_x, alpha_start,rho, gamma) #call the new function you wrote to compute the steplength\r\n",
        "      #raise ValueError('BACKTRACKING LINE SEARCH NOT YET IMPLEMENTED')\r\n",
        "    elif line_search_type == CONSTANT_STEP_LENGTH: #do a gradient descent with constant step length\r\n",
        "      step_length = 0.1\r\n",
        "    else:  \r\n",
        "      raise ValueError('Line search type unknown. Please check!')\r\n",
        "    \r\n",
        "    #implement the gradient descent steps here   \r\n",
        "    x = np.subtract(x, np.multiply(step_length,g_x)) #update x = x - step_length*g_x\r\n",
        "    k += 1 #increment iteration\r\n",
        "    g_x = evalg(x) #compute gradient at new point\r\n",
        "\r\n",
        "    #print('iter:',k, ' x:', x, ' f(x):', evalf(x), ' grad at x:', g_x, ' gradient norm:', np.linalg.norm(g_x))\r\n",
        "  return x , k , evalf(x)"
      ],
      "execution_count": 9,
      "outputs": []
    },
    {
      "cell_type": "code",
      "metadata": {
        "id": "3SCJdqivdpxx"
      },
      "source": [
        "#complete the code for gradient descent with scaling to find the minimizer\r\n",
        "\r\n",
        "def find_minimizer_gdscaling(start_x, tol, line_search_type, *args):\r\n",
        "  #Input: start_x is a numpy array of size 2, tol denotes the tolerance and is a positive float value\r\n",
        "  assert type(start_x) is np.ndarray and len(start_x) == 2 #do not allow arbitrary arguments \r\n",
        "  assert type(tol) is float and tol>=0 \r\n",
        "  x = start_x\r\n",
        "  #A = evalh(x) \r\n",
        "  g_x = evalg(x)\r\n",
        "  D_k = compute_D_k(x)\r\n",
        "  \r\n",
        "  #initialization for backtracking line search\r\n",
        "  if(line_search_type == BACKTRACKING_LINE_SEARCH_SCALING):\r\n",
        "    alpha_start = args[0]\r\n",
        "    rho = args[1]\r\n",
        "    gamma = args[2]\r\n",
        "\r\n",
        "  k = 0\r\n",
        "  while (np.linalg.norm(g_x) > tol):\r\n",
        "    direction = -np.matmul(D_k, g_x)\r\n",
        "    if line_search_type == BACKTRACKING_LINE_SEARCH_SCALING:\r\n",
        "      step_length = compute_steplength_backtracking_scaled_direction(x, g_x, direction, alpha_start, rho, gamma)\r\n",
        "    else:  \r\n",
        "      raise ValueError('Line search type unknown. Please check!')\r\n",
        "\r\n",
        "    #implement the gradient descent steps here   \r\n",
        "    x = np.add(x, np.multiply(step_length,direction)) #update x = x + step_length*direction\r\n",
        "    k += 1 #increment iteration\r\n",
        "    g_x = evalg(x) #compute gradient at new point\r\n",
        "  return x , k , evalf(x)  "
      ],
      "execution_count": 10,
      "outputs": []
    },
    {
      "cell_type": "markdown",
      "metadata": {
        "id": "k_Gp41BHjUIt"
      },
      "source": [
        "**Q 7 and 8. SOLUTION:** \\\\\r\n",
        "here, for question number 7 we were not provided with the starting point and tolerance so we took the data of these two from question number 8 and evaluated the minimizer and the function value at these points. So, we have common answer for 7th and 8th qestion. "
      ]
    },
    {
      "cell_type": "code",
      "metadata": {
        "id": "3hoak3jnHkXd"
      },
      "source": [
        "my_start_x = np.array([1.,2000.])\r\n",
        "my_tol= 1e-9"
      ],
      "execution_count": 11,
      "outputs": []
    },
    {
      "cell_type": "code",
      "metadata": {
        "id": "vgu4yasdJEKo",
        "colab": {
          "base_uri": "https://localhost:8080/"
        },
        "outputId": "ff1baca7-30df-4d57-939b-2f00e53fbeb6"
      },
      "source": [
        "#check gradient descent with exact line search \r\n",
        "print(\"For EXACT_LINE_SEARCH procedure :\")\r\n",
        "x_opt_els, k, f_value = find_minimizer_gd(my_start_x, my_tol, EXACT_LINE_SEARCH)\r\n",
        "print(\"Minimizer = \",x_opt_els,\",Iteration = \", k,\", Minimum function value = \", f_value)\r\n",
        "\r\n",
        "#check gradient descent with backtracking line search \r\n",
        "print(\"\\nFor BACKTRACKING_LINE_SEARCH WITHOUT SCALING :\")\r\n",
        "x_opt_bls, k, f_value = find_minimizer_gd(my_start_x, my_tol, BACKTRACKING_LINE_SEARCH, 1.0, 0.5,0.5)\r\n",
        "print(\"Minimizer = \",x_opt_bls,\",Iteration = \", k , \", Minimum function value = \",f_value)\r\n",
        "\r\n",
        "#check gradient descent with scaling and backtracking line search \r\n",
        "print(\"\\nFor BACKTRACKING_LINE_SEARCH_WITH_SCALING:\")\r\n",
        "x_opt_bls, k, f_value = find_minimizer_gdscaling(my_start_x, my_tol, BACKTRACKING_LINE_SEARCH_SCALING, 1.0, 0.5,0.5)\r\n",
        "print(\"Minimizer = \",x_opt_bls,\",Iteration = \", k , \", Minimum function value = \",f_value)"
      ],
      "execution_count": 12,
      "outputs": [
        {
          "output_type": "stream",
          "text": [
            "For EXACT_LINE_SEARCH procedure :\n",
            "Minimizer =  [-1.27317611e-11  6.35649461e-10] ,Iteration =  109 , Minimum function value =  2.424304945700804e-19\n",
            "\n",
            "For BACKTRACKING_LINE_SEARCH WITHOUT SCALING :\n",
            "Minimizer =  [-1.28341493e-11  6.33239185e-10] ,Iteration =  540 , Minimum function value =  2.4062380391510793e-19\n",
            "\n",
            "For BACKTRACKING_LINE_SEARCH_WITH_SCALING:\n",
            "Minimizer =  [-1.44991408e-12  5.09130136e-11] ,Iteration =  68 , Minimum function value =  1.7416059877853944e-21\n"
          ],
          "name": "stdout"
        }
      ]
    },
    {
      "cell_type": "markdown",
      "metadata": {
        "id": "SefPT4K2kevn"
      },
      "source": [
        "**Comments:** \\\\\r\n",
        "1. From the above results it is obvious that the number of Iterations required to converge to the miminmum value is very small in case of Backtracking line search with scaling (which is 68) than the number of iterations in the Backtracking line search without scaling (which is 540).\r\n",
        "2. Also the number of iterations in case of exact line search is 109 which is  little bit greater than the iterations in the Backtracking line search with scaling(68) and less than the number of iterations in backtracking line search without scaling(540). This is due to the fact that the function is quadractic and for quadratic functions Exact line search converge quickly."
      ]
    },
    {
      "cell_type": "markdown",
      "metadata": {
        "id": "horZJeHNoxgR"
      },
      "source": [
        "**9. SOLUTION :**"
      ]
    },
    {
      "cell_type": "code",
      "metadata": {
        "colab": {
          "base_uri": "https://localhost:8080/"
        },
        "id": "Bu04W81vZZiV",
        "outputId": "9944be92-7fce-4b82-9729-9ab61ba2b26b"
      },
      "source": [
        "# The behavior of gradient descent algorithm (without scaling) with backtracking line search for different alpha values.\r\n",
        "\r\n",
        "alpha_list = [1.0, 0.9, 0.75, 0.6, 0.5, 0.4, 0.25, 0.1, 0.01]  # alpha values vary over this list.\r\n",
        "itr_without_scaling = []\r\n",
        "print(\"Backtracking line search (WITHOUT SCALING) for different alpha values\\n\")\r\n",
        "for alpha_start in alpha_list:\r\n",
        "  x_opt_bls, k, f_value = find_minimizer_gd(my_start_x, my_tol, BACKTRACKING_LINE_SEARCH, alpha_start, 0.5, 0.5)\r\n",
        "  itr_without_scaling.append(k)\r\n",
        "  print('for alpha = ',alpha_start, ',  iter:', k, ',  x: ',x_opt_bls, ',  f(x): ', f_value)"
      ],
      "execution_count": 13,
      "outputs": [
        {
          "output_type": "stream",
          "text": [
            "Backtracking line search (WITHOUT SCALING) for different alpha values\n",
            "\n",
            "for alpha =  1.0 ,  iter: 540 ,  x:  [-1.28341493e-11  6.33239185e-10] ,  f(x):  2.4062380391510793e-19\n",
            "for alpha =  0.9 ,  iter: 6063 ,  x:  [-1.62487293e-11  8.15947699e-10] ,  f(x):  3.9946732039019958e-19\n",
            "for alpha =  0.75 ,  iter: 19009 ,  x:  [-1.49664095e-11  7.57182200e-10] ,  f(x):  3.440263427821263e-19\n",
            "for alpha =  0.6 ,  iter: 8984 ,  x:  [-1.64533910e-11  8.17946468e-10] ,  f(x):  4.0143077796289474e-19\n",
            "for alpha =  0.5 ,  iter: 540 ,  x:  [-1.28341493e-11  6.33239185e-10] ,  f(x):  2.4062380391510793e-19\n",
            "for alpha =  0.4 ,  iter: 16947 ,  x:  [-1.56859877e-11  7.76719887e-10] ,  f(x):  3.619992489950034e-19\n",
            "for alpha =  0.25 ,  iter: 540 ,  x:  [-1.28341493e-11  6.33239185e-10] ,  f(x):  2.4062380391510793e-19\n",
            "for alpha =  0.1 ,  iter: 16947 ,  x:  [-1.56859877e-11  7.76719887e-10] ,  f(x):  3.619992489950034e-19\n",
            "for alpha =  0.01 ,  iter: 14604 ,  x:  [-1.56028553e-11  7.70236115e-10] ,  f(x):  3.5599746083183443e-19\n"
          ],
          "name": "stdout"
        }
      ]
    },
    {
      "cell_type": "code",
      "metadata": {
        "colab": {
          "base_uri": "https://localhost:8080/"
        },
        "id": "N_6wbtiTcV9y",
        "outputId": "fcc52787-55b6-492f-97c6-0aa1c73741e7"
      },
      "source": [
        "# The behavior of gradient descent algorithm (with scaling) with backtracking line search for different alpha values.\r\n",
        "\r\n",
        "alpha_list = [1.0, 0.9, 0.75, 0.6, 0.5, 0.4, 0.25, 0.1, 0.01]  # alpha values vary over this list.\r\n",
        "itr_with_scaling = []\r\n",
        "print(\"Backtracking line search (WITH SCALING) for different alpha values\\n\")\r\n",
        "for alpha_start in alpha_list:\r\n",
        "  x_opt_bls, k, f_value = find_minimizer_gdscaling(my_start_x, my_tol, BACKTRACKING_LINE_SEARCH_SCALING, alpha_start, 0.5, 0.5)\r\n",
        "  itr_with_scaling.append(k)\r\n",
        "  print('for alpha = ',alpha_start, ',  iter:', k, ',  x: ',x_opt_bls, ',  f(x): ', f_value)"
      ],
      "execution_count": 14,
      "outputs": [
        {
          "output_type": "stream",
          "text": [
            "Backtracking line search (WITH SCALING) for different alpha values\n",
            "\n",
            "for alpha =  1.0 ,  iter: 68 ,  x:  [-1.44991408e-12  5.09130136e-11] ,  f(x):  1.7416059877853944e-21\n",
            "for alpha =  0.9 ,  iter: 78 ,  x:  [-1.19890098e-12  3.79125780e-11] ,  f(x):  1.0565900559456152e-21\n",
            "for alpha =  0.75 ,  iter: 97 ,  x:  [-1.14523191e-12  3.62154129e-11] ,  f(x):  9.641104001989231e-22\n",
            "for alpha =  0.6 ,  iter: 124 ,  x:  [-1.19243265e-12  3.77080312e-11] ,  f(x):  1.0452197339503545e-21\n",
            "for alpha =  0.5 ,  iter: 152 ,  x:  [-1.22576074e-12  3.87619581e-11] ,  f(x):  1.1044633336540175e-21\n",
            "for alpha =  0.4 ,  iter: 194 ,  x:  [-1.24575740e-12  3.93943079e-11] ,  f(x):  1.1407929685514457e-21\n",
            "for alpha =  0.25 ,  iter: 320 ,  x:  [-1.25308107e-12  3.96259028e-11] ,  f(x):  1.1542455952635261e-21\n",
            "for alpha =  0.1 ,  iter: 822 ,  x:  [-1.33322314e-12  4.21602174e-11] ,  f(x):  1.3066087705365873e-21\n",
            "for alpha =  0.01 ,  iter: 8355 ,  x:  [-1.35533502e-12  4.28594566e-11] ,  f(x):  1.350309137065601e-21\n"
          ],
          "name": "stdout"
        }
      ]
    },
    {
      "cell_type": "code",
      "metadata": {
        "colab": {
          "base_uri": "https://localhost:8080/",
          "height": 404
        },
        "id": "7gpo1CMaypuH",
        "outputId": "20b21018-5305-479b-bc8a-4007afb6522d"
      },
      "source": [
        "#plotting the number of iterations against alpha values.\r\n",
        "import matplotlib.pyplot as plt\r\n",
        "plt.figure(figsize=(7,6))  #plt.figure(figsize=(width,height))\r\n",
        "plt.plot(alpha_list, itr_without_scaling,label ='iterations_without_scaling',color='orange')\r\n",
        "plt.plot(alpha_list, itr_with_scaling,label ='iterationns_with_scaling',color='green')\r\n",
        "plt.xlabel(\"alpha values\",color='b')\r\n",
        "plt.ylabel('ITERATIONS',color='b')\r\n",
        "plt.title('Iterations Vs alpha',color='r')\r\n",
        "plt.legend(loc='upper left')\r\n",
        "plt.show()"
      ],
      "execution_count": 15,
      "outputs": [
        {
          "output_type": "display_data",
          "data": {
            "image/png": "[encoded data removed]",
            "text/plain": [
              "<Figure size 504x432 with 1 Axes>"
            ]
          },
          "metadata": {
            "tags": [],
            "needs_background": "light"
          }
        }
      ]
    },
    {
      "cell_type": "markdown",
      "metadata": {
        "id": "BzRl9ceTpWYI"
      },
      "source": [
        "**Comments:** \\\\\r\n",
        "1. Here, from the above graph it is clear that, In case of Backtracking line search (with scaling) the number of iterations gradually increases for decreasing value of alpha till alpha = 0.1 after this value tne number of iterations increases suddenly to a large value. \\\\\r\n",
        "2. In case of Backtracking line search (without scaling) the number of iterations keeps fluctuating with a wave like pattern for increasing alpha values. \r\n",
        "In other words, the number of iterations corresponding to increasing aplha value keeps increasing and decreasing alternatively.\r\n",
        "3. Also, the Objective value and the minimizers are more accurate in case of scaling than without scaling."
      ]
    },
    {
      "cell_type": "markdown",
      "metadata": {
        "id": "Hyi4S8Iz0N20"
      },
      "source": [
        "**10. SOLUTION**"
      ]
    },
    {
      "cell_type": "code",
      "metadata": {
        "colab": {
          "base_uri": "https://localhost:8080/"
        },
        "id": "q7qF5mc20M90",
        "outputId": "024c6a63-93b9-4f01-b372-009976de36a0"
      },
      "source": [
        "# The behavior of gradient descent algorithm (without scaling) with Backtracking line search for different rho values.\r\n",
        "\r\n",
        "rho_list = [0.9, 0.8, 0.75, 0.6, 0.5, 0.4, 0.25, 0.1, 0.01]\r\n",
        "itr_without_scaling = []\r\n",
        "\r\n",
        "print(\"Backtracking line search (WITHOUT SCALING) for different rho values\\n\")\r\n",
        "for rho in rho_list:\r\n",
        "  x_opt_bls, k, f_value = find_minimizer_gd(my_start_x, my_tol, BACKTRACKING_LINE_SEARCH, 1.0, rho, 0.5)\r\n",
        "  itr_without_scaling.append(k)\r\n",
        "  print('for rho = ',rho, ',  iterations = ', k, ',  minimizer = ',x_opt_bls,',  f(x) = ', f_value) "
      ],
      "execution_count": 16,
      "outputs": [
        {
          "output_type": "stream",
          "text": [
            "Backtracking line search (WITHOUT SCALING) for different rho values\n",
            "\n",
            "for rho =  0.9 ,  iterations =  1538 ,  minimizer =  [-1.65502929e-11  8.25783852e-10] ,  f(x) =  4.091525808330713e-19\n",
            "for rho =  0.8 ,  iterations =  488 ,  minimizer =  [-1.47244035e-11  7.33938202e-10] ,  f(x) =  3.232012539766754e-19\n",
            "for rho =  0.75 ,  iterations =  14649 ,  minimizer =  [-1.62459008e-11  8.07115533e-10] ,  f(x) =  3.908720214135941e-19\n",
            "for rho =  0.6 ,  iterations =  3304 ,  minimizer =  [-1.62998612e-11  8.09904139e-10] ,  f(x) =  3.935771874360295e-19\n",
            "for rho =  0.5 ,  iterations =  540 ,  minimizer =  [-1.28341493e-11  6.33239185e-10] ,  f(x) =  2.4062380391510793e-19\n",
            "for rho =  0.4 ,  iterations =  14772 ,  minimizer =  [-1.60008884e-11  7.93014638e-10] ,  f(x) =  3.7734309694707333e-19\n",
            "for rho =  0.25 ,  iterations =  22258 ,  minimizer =  [-1.51867622e-11  7.68127199e-10] ,  f(x) =  3.540425355690308e-19\n",
            "for rho =  0.1 ,  iterations =  24232 ,  minimizer =  [-1.17309013e-11  6.00603239e-10] ,  f(x) =  2.1651360353624171e-19\n",
            "for rho =  0.01 ,  iterations =  29796 ,  minimizer =  [-1.63358527e-11  8.11050422e-10] ,  f(x) =  3.9469486113303954e-19\n"
          ],
          "name": "stdout"
        }
      ]
    },
    {
      "cell_type": "code",
      "metadata": {
        "colab": {
          "base_uri": "https://localhost:8080/"
        },
        "id": "L_tVdC8l3lpy",
        "outputId": "8424e4a1-9051-488c-e25b-54d9e59c1052"
      },
      "source": [
        "# The behavior of gradient descent algorithm (with scaling) with Backtracking line search for different rho values.\r\n",
        "\r\n",
        "rho_list = [0.9, 0.8, 0.75, 0.6, 0.5, 0.4, 0.25, 0.1, 0.01]\r\n",
        "itr_with_scaling = []\r\n",
        "\r\n",
        "print(\"Backtracking line search (WITH SCALING) for different rho values\\n\")\r\n",
        "for rho in rho_list:\r\n",
        "  x_opt_bls, k, f_value = find_minimizer_gdscaling(my_start_x, my_tol, BACKTRACKING_LINE_SEARCH_SCALING, 1.0, rho, 0.5)\r\n",
        "  itr_with_scaling.append(k)\r\n",
        "  print('for rho = ',rho, ',  iterations = ', k, ',  minimizer = ',x_opt_bls,',  f(x) = ', f_value) "
      ],
      "execution_count": 17,
      "outputs": [
        {
          "output_type": "stream",
          "text": [
            "Backtracking line search (WITH SCALING) for different rho values\n",
            "\n",
            "for rho =  0.9 ,  iterations =  69 ,  minimizer =  [-6.85040944e-13  2.38246400e-11] ,  f(x) =  3.8406041027703896e-22\n",
            "for rho =  0.8 ,  iterations =  63 ,  minimizer =  [-9.21968269e-12  4.45378189e-10] ,  f(x) =  1.1911445691087616e-19\n",
            "for rho =  0.75 ,  iterations =  67 ,  minimizer =  [-1.62792516e-12  6.37335008e-11] ,  f(x) =  2.5619646728998122e-21\n",
            "for rho =  0.6 ,  iterations =  68 ,  minimizer =  [-1.16288275e-12  3.48274528e-11] ,  f(x) =  9.452379921883421e-22\n",
            "for rho =  0.5 ,  iterations =  68 ,  minimizer =  [-1.44991408e-12  5.09130136e-11] ,  f(x) =  1.7416059877853944e-21\n",
            "for rho =  0.4 ,  iterations =  66 ,  minimizer =  [-3.46356067e-12  1.54657502e-10] ,  f(x) =  1.4488569841349075e-20\n",
            "for rho =  0.25 ,  iterations =  68 ,  minimizer =  [-3.17719226e-12  1.46467148e-10] ,  f(x) =  1.2933004532065098e-20\n",
            "for rho =  0.1 ,  iterations =  73 ,  minimizer =  [-7.42134093e-12  3.66594440e-10] ,  f(x) =  8.064289173257396e-20\n",
            "for rho =  0.01 ,  iterations =  182 ,  minimizer =  [-7.17114322e-12  3.56765201e-10] ,  f(x) =  7.637012951857e-20\n"
          ],
          "name": "stdout"
        }
      ]
    },
    {
      "cell_type": "code",
      "metadata": {
        "colab": {
          "base_uri": "https://localhost:8080/",
          "height": 404
        },
        "id": "o0ml6y-U42hY",
        "outputId": "b0250d81-df87-4aaa-f9fc-58ad918493e8"
      },
      "source": [
        "#plotting the number of iterations against rho values.\r\n",
        "import matplotlib.pyplot as plt\r\n",
        "plt.figure(figsize=(7,6))  #plt.figure(figsize=(width,height))\r\n",
        "plt.plot(rho_list, itr_without_scaling, label ='iterations_without_scaling', color='purple')\r\n",
        "plt.plot(rho_list, itr_with_scaling, label ='iterationns_with_scaling', color='red')\r\n",
        "plt.xlabel(\"rho values\",color='b')\r\n",
        "plt.ylabel('ITERATIONS',color='b')\r\n",
        "plt.title('Iterations Vs rho',color='g')\r\n",
        "plt.legend(loc='upper right')\r\n",
        "plt.show()"
      ],
      "execution_count": 18,
      "outputs": [
        {
          "output_type": "display_data",
          "data": {
            "image/png": "[encoded data removed]",
            "text/plain": [
              "<Figure size 504x432 with 1 Axes>"
            ]
          },
          "metadata": {
            "tags": [],
            "needs_background": "light"
          }
        }
      ]
    },
    {
      "cell_type": "markdown",
      "metadata": {
        "id": "UCYiAhq2_Wxi"
      },
      "source": [
        "**Comments :** \\\\\r\n",
        "1. Here, from the above graph it is clear that In the case of **Backtracking line search (without scaling)** as the value of rho increases, starting from value rho= 0.01, the number of iterations first decreases till rho = 0.5 and then increases till rho = 0.75 after that it again decreases.\r\n",
        "2. In case of **Backtracking line search (with scaling)** the number of iterations remains constant to some extent (that is there is no huge difference in the number of iterations corresponding to distinct rho values).\r\n",
        "3. Also, the Objective value and the minimizers are more accurate in case of scaling than without scaling."
      ]
    },
    {
      "cell_type": "markdown",
      "metadata": {
        "id": "BYJaACtKMIGH"
      },
      "source": [
        "${\\Large\\text{Do not forget to rename the file before submission.}}$"
      ]
    }
  ]
}