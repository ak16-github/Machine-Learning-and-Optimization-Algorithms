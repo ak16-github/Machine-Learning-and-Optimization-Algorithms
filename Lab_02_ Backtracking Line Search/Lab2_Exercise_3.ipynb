{
  "nbformat": 4,
  "nbformat_minor": 0,
  "metadata": {
    "colab": {
      "name": "20i190011_IE684_Lab2_Ex3",
      "provenance": [],
      "collapsed_sections": []
    },
    "kernelspec": {
      "display_name": "Python 3",
      "name": "python3"
    }
  },
  "cells": [
    {
      "cell_type": "markdown",
      "metadata": {
        "id": "zSJGryOEgbY7"
      },
      "source": [
        "Given function is: \\\\\r\n",
        "\\begin{align}\r\n",
        "q(x) = 1000(x_2 - x_1^2)^2 + (2 - x_1)^2\r\n",
        "\\end{align}"
      ]
    },
    {
      "cell_type": "markdown",
      "metadata": {
        "id": "Z7i59XeZhivw"
      },
      "source": [
        "**1 SOLUTION :**"
      ]
    },
    {
      "cell_type": "code",
      "metadata": {
        "id": "xRdIyuY1bt55"
      },
      "source": [
        "import numpy as np "
      ],
      "execution_count": null,
      "outputs": []
    },
    {
      "cell_type": "code",
      "metadata": {
        "id": "t-3jCpuUhyO5"
      },
      "source": [
        "def evalf(x):  \r\n",
        "  #Input: x is a numpy array of size 2 \r\n",
        "  assert type(x) is np.ndarray and len(x) == 2 #do not allow arbitrary arguments \r\n",
        "  #after checking if the argument is valid, we can compute the objective function value\r\n",
        "  #compute the function value and return it \r\n",
        "  return 1000*(x[1]-(x[0])**2)**2 + (2-x[0])**2"
      ],
      "execution_count": null,
      "outputs": []
    },
    {
      "cell_type": "code",
      "metadata": {
        "id": "fGNpWoHgiVUP"
      },
      "source": [
        "def evalg(x):  \r\n",
        "  #Input: x is a numpy array of size 2 \r\n",
        "  assert type(x) is np.ndarray and len(x) == 2 #do not allow arbitrary arguments \r\n",
        "  #after checking if the argument is valid, we can compute the gradient value\r\n",
        "  #compute the gradient value and return it \r\n",
        "  return np.array([-4000*x[0]*x[1]+4000*x[0]**3+2*x[0]-4, 2000*(x[1]-x[0]**2)])"
      ],
      "execution_count": null,
      "outputs": []
    },
    {
      "cell_type": "code",
      "metadata": {
        "id": "O5jhFDhTkrSG"
      },
      "source": [
        "# module to compute the steplength by using the backtracking line search\r\n",
        "def compute_steplength_backtracking(x, gradf, alpha_start, rho, gamma): \r\n",
        "  assert type(x) is np.ndarray and len(x) == 2 \r\n",
        "  assert type(gradf) is np.ndarray and len(gradf) == 2 \r\n",
        "  \r\n",
        "  alpha = alpha_start\r\n",
        "  gr_t = np.matrix.transpose(gradf)\r\n",
        "  #implement the backtracking line search\r\n",
        "  while evalf(np.add(x,-alpha*gradf)) > evalf(x)-gamma*alpha*np.matmul(gr_t, gradf):\r\n",
        "    alpha = rho*alpha\r\n",
        "  #print('final step length:',alpha)\r\n",
        "  return alpha"
      ],
      "execution_count": null,
      "outputs": []
    },
    {
      "cell_type": "code",
      "metadata": {
        "id": "BvFv2N60-ShK"
      },
      "source": [
        "#we define the types of line search methods that we have implemented\r\n",
        "EXACT_LINE_SEARCH = 1\r\n",
        "BACKTRACKING_LINE_SEARCH = 2\r\n",
        "CONSTANT_STEP_LENGTH = 3"
      ],
      "execution_count": null,
      "outputs": []
    },
    {
      "cell_type": "code",
      "metadata": {
        "id": "_xMxhMuSlWcP"
      },
      "source": [
        "def find_minimizer(start_x, tol, line_search_type, *args):\r\n",
        "  #Input: start_x is a numpy array of size 2, tol denotes the tolerance and is a positive float value\r\n",
        "  assert type(start_x) is np.ndarray and len(start_x) == 2 #do not allow arbitrary arguments \r\n",
        "  assert type(tol) is float and tol>=0 \r\n",
        "  # construct a suitable A matrix for the quadratic function \r\n",
        "  A = np.array([[1, 0],[0,1]])\r\n",
        "  x = start_x\r\n",
        "  g_x = evalg(x)\r\n",
        "\r\n",
        "  #initialization for backtracking line search\r\n",
        "  if(line_search_type == BACKTRACKING_LINE_SEARCH):\r\n",
        "    alpha_start = args[0]\r\n",
        "    rho = args[1]\r\n",
        "    gamma = args[2]\r\n",
        "    #print('Params for Backtracking LS: alpha start:', alpha_start, 'rho:', rho,' gamma:', gamma)\r\n",
        "\r\n",
        "  k = 0\r\n",
        "  #print('iter:',k, ' x:', x, ' f(x):', evalf(x), ' grad at x:', g_x, ' gradient norm:', np.linalg.norm(g_x))\r\n",
        "\r\n",
        "  while (np.linalg.norm(g_x) > tol): #continue as long as the norm of gradient is not close to zero upto a tolerance tol\r\n",
        "  \r\n",
        "    if line_search_type == EXACT_LINE_SEARCH:\r\n",
        "      step_length = compute_steplength_exact(g_x, A) #call the new function you wrote to compute the steplength\r\n",
        "      #raise ValueError('EXACT LINE SEARCH NOT YET IMPLEMENTED')\r\n",
        "    elif line_search_type == BACKTRACKING_LINE_SEARCH:\r\n",
        "      step_length = compute_steplength_backtracking(x,g_x, alpha_start,rho, gamma) #call the new function you wrote to compute the steplength\r\n",
        "      #raise ValueError('BACKTRACKING LINE SEARCH NOT YET IMPLEMENTED')\r\n",
        "    elif line_search_type == CONSTANT_STEP_LENGTH: #do a gradient descent with constant step length\r\n",
        "      step_length = 0.1\r\n",
        "    else:  \r\n",
        "      raise ValueError('Line search type unknown. Please check!')\r\n",
        "    \r\n",
        "    #implement the gradient descent steps here   \r\n",
        "    x = np.subtract(x, np.multiply(step_length,g_x)) #update x = x - step_length*g_x\r\n",
        "    k += 1 #increment iteration\r\n",
        "    g_x = evalg(x) #compute gradient at new point\r\n",
        "\r\n",
        "    #print('iter:',k, ' x:', x, ' f(x):', evalf(x), ' grad at x:', g_x, ' gradient norm:', np.linalg.norm(g_x))\r\n",
        "  return x , k , evalf(x)\r\n"
      ],
      "execution_count": null,
      "outputs": []
    },
    {
      "cell_type": "code",
      "metadata": {
        "colab": {
          "base_uri": "https://localhost:8080/"
        },
        "id": "0fwizEQD9UdH",
        "outputId": "6bfdf5f4-77b0-409e-ab94-18a138ac15b3"
      },
      "source": [
        "my_start_x = np.array([5.0,5.0])\r\n",
        "my_tol= 1e-9\r\n",
        "\r\n",
        "x_opt, k, f_value = find_minimizer(my_start_x, my_tol, BACKTRACKING_LINE_SEARCH, 1.0, 0.5,0.5)\r\n",
        "print(x_opt, k , f_value)"
      ],
      "execution_count": null,
      "outputs": [
        {
          "output_type": "stream",
          "text": [
            "[2.         4.00000001] 428277 4.2042719010748794e-18\n"
          ],
          "name": "stdout"
        }
      ]
    },
    {
      "cell_type": "markdown",
      "metadata": {
        "id": "uhVHpZwnoqhU"
      },
      "source": [
        "**1. ANSWER :** \\\\\r\n",
        "**Minimizer = [2.   ,      4.00000001]** \\\\\r\n",
        "**Interations = 428277** \\\\\r\n",
        "**Function value = 4.2042719010748794e-18**"
      ]
    },
    {
      "cell_type": "markdown",
      "metadata": {
        "id": "7QUJmyXSxDZR"
      },
      "source": [
        "**2. ANSWER :** \\\\\r\n",
        "Yes, we can use the exact line search idea to to find a closed form expression for optimal value of ita. \\\\"
      ]
    },
    {
      "cell_type": "markdown",
      "metadata": {
        "id": "UyYpzaFyOsvm"
      },
      "source": [
        "**5 SOLUTION:** \\\\\r\n"
      ]
    },
    {
      "cell_type": "code",
      "metadata": {
        "colab": {
          "base_uri": "https://localhost:8080/"
        },
        "id": "Hu4S1s2WOsOu",
        "outputId": "d0f78a0d-3416-4901-800e-0fa392190d09"
      },
      "source": [
        "# Backtracking line search for different alpha values.\r\n",
        "\r\n",
        "my_start_x = np.array([5.0,5.0])\r\n",
        "my_tol= 1e-9\r\n",
        "alpha_list = [1, 0.9, 0.75, 0.6, 0.5, 0.4, 0.25, 0.1, 0.01]  # alpha values vary over this list.\r\n",
        "iterations_bls = []\r\n",
        "\r\n",
        "for alpha_start in alpha_list:\r\n",
        "  x_opt_bls, k, f_value = find_minimizer(my_start_x, my_tol, BACKTRACKING_LINE_SEARCH, alpha_start, 0.5, 0.5)\r\n",
        "  iterations_bls.append(k)\r\n",
        "  print('for alpha = ',alpha_start, ', iter:', k, ', x: ',x_opt_bls, 'f(x): ', f_value)"
      ],
      "execution_count": null,
      "outputs": [
        {
          "output_type": "stream",
          "text": [
            "for alpha =  1 , iter: 428277 , x:  [2.         4.00000001] f(x):  4.2042719010748794e-18\n",
            "for alpha =  0.9 , iter: 337016 , x:  [2.         4.00000001] f(x):  4.221854270889351e-18\n",
            "for alpha =  0.75 , iter: 1854242 , x:  [2.         4.00000001] f(x):  3.894106435316049e-18\n",
            "for alpha =  0.6 , iter: 1548125 , x:  [2.         4.00000001] f(x):  4.079051493600871e-18\n",
            "for alpha =  0.5 , iter: 428277 , x:  [2.         4.00000001] f(x):  4.2042719010748794e-18\n",
            "for alpha =  0.4 , iter: 1977018 , x:  [2.         4.00000001] f(x):  4.070322448056296e-18\n",
            "for alpha =  0.25 , iter: 428277 , x:  [2.         4.00000001] f(x):  4.2042719010748794e-18\n",
            "for alpha =  0.1 , iter: 1977018 , x:  [2.         4.00000001] f(x):  4.070322448056296e-18\n",
            "for alpha =  0.01 , iter: 1696427 , x:  [2.         4.00000001] f(x):  3.959883122148357e-18\n"
          ],
          "name": "stdout"
        }
      ]
    },
    {
      "cell_type": "code",
      "metadata": {
        "colab": {
          "base_uri": "https://localhost:8080/"
        },
        "id": "FiaeBxG1OhN6",
        "outputId": "1dbe4892-c603-4792-fcc5-6ad817014040"
      },
      "source": [
        "iterations_bls"
      ],
      "execution_count": null,
      "outputs": [
        {
          "output_type": "execute_result",
          "data": {
            "text/plain": [
              "[428277, 337016, 1854242, 1548125, 428277, 1977018, 428277, 1977018, 1696427]"
            ]
          },
          "metadata": {
            "tags": []
          },
          "execution_count": 33
        }
      ]
    },
    {
      "cell_type": "code",
      "metadata": {
        "colab": {
          "base_uri": "https://localhost:8080/",
          "height": 295
        },
        "id": "3jaWxmiMYlHc",
        "outputId": "8be232a9-e15c-41f9-e310-96512298cd10"
      },
      "source": [
        "#plotting the number of iterations against alpha values.\r\n",
        "import matplotlib.pyplot as plt\r\n",
        "#plt.figure(figsize=(width,height))\r\n",
        "plt.plot(alpha_list, iterations_bls)\r\n",
        "plt.xlabel('alpha values',color='b')\r\n",
        "plt.ylabel('Iterations',color='b')\r\n",
        "plt.title('Iterations against alpha',color='r')\r\n",
        "plt.show()"
      ],
      "execution_count": null,
      "outputs": [
        {
          "output_type": "display_data",
          "data": {
            "image/png": "[encoded data removed]",
            "text/plain": [
              "<Figure size 432x288 with 1 Axes>"
            ]
          },
          "metadata": {
            "tags": []
          }
        }
      ]
    },
    {
      "cell_type": "markdown",
      "metadata": {
        "id": "pItOSagusokm"
      },
      "source": [
        "**Comments :** \\\\\r\n",
        "1. from the above graph it is obvious that the number of iterations corresponding to increasing aplha value keeps increasing and decreasing alternatively. \\\\\r\n",
        "2. Minimizers remain same for all alpha values.\r\n",
        "3. function value keeps increasing and decreasing alternatively for increasing alpha values."
      ]
    },
    {
      "cell_type": "markdown",
      "metadata": {
        "id": "qeXE8slmsIcc"
      },
      "source": [
        "**6. SOLUTION :**"
      ]
    },
    {
      "cell_type": "code",
      "metadata": {
        "colab": {
          "background_save": true,
          "base_uri": "https://localhost:8080/"
        },
        "id": "nUoDyBNnZ35K",
        "outputId": "be4c1e61-98bd-40b1-a90c-6678bd283855"
      },
      "source": [
        "# Backtracking line search for different rho values.\r\n",
        "\r\n",
        "my_start_x = np.array([5.0,5.0])\r\n",
        "my_tol= 1e-9\r\n",
        "rho_list = [0.9, 0.8, 0.75, 0.6, 0.5, 0.4, 0.25, 0.1, 0.01]\r\n",
        "iterat_bls = []\r\n",
        "\r\n",
        "for rho in rho_list:\r\n",
        "  x_opt_bls, k, f_value = find_minimizer(my_start_x, my_tol, BACKTRACKING_LINE_SEARCH, 1.0, rho, 0.5)\r\n",
        "  iterat_bls.append(k)\r\n",
        "  print('for rho = ',rho, ', iterations = ', k, ', minimizer = ',x_opt_bls,', f(x) = ', f_value)"
      ],
      "execution_count": null,
      "outputs": [
        {
          "output_type": "stream",
          "text": [
            "for rho =  0.9 , iterations =  90958 , minimizer =  [2.         4.00000001] , f(x) =  3.986423330282162e-18\n",
            "for rho =  0.8 , iterations =  448754 , minimizer =  [2.         4.00000001] , f(x) =  4.178490608612969e-18\n",
            "for rho =  0.75 , iterations =  1098963 , minimizer =  [2.         4.00000001] , f(x) =  4.163475306424951e-18\n",
            "for rho =  0.6 , iterations =  1220979 , minimizer =  [2.         4.00000001] , f(x) =  4.019097494976119e-18\n",
            "for rho =  0.5 , iterations =  428277 , minimizer =  [2.         4.00000001] , f(x) =  4.2042719010748794e-18\n",
            "for rho =  0.4 , iterations =  2141802 , minimizer =  [2.         4.00000001] , f(x) =  3.9783933047262895e-18\n",
            "for rho =  0.25 , iterations =  2900826 , minimizer =  [2.         4.00000001] , f(x) =  3.507994818997934e-18\n",
            "for rho =  0.1 , iterations =  4201581 , minimizer =  [2.         4.00000001] , f(x) =  3.613085439337652e-18\n",
            "for rho =  0.01 , iterations =  34710646 , minimizer =  [2.         4.00000001] , f(x) =  3.0920230644740037e-18\n"
          ],
          "name": "stdout"
        }
      ]
    },
    {
      "cell_type": "code",
      "metadata": {
        "id": "NgqFrG00jKEj",
        "colab": {
          "base_uri": "https://localhost:8080/",
          "height": 295
        },
        "outputId": "4c80f6fc-3e76-41b5-a3c6-9c2ed506c864"
      },
      "source": [
        "#Plotting Iterations against rho value.\r\n",
        "import matplotlib.pyplot as plt\r\n",
        "#plt.figure(figsize=(width,height))\r\n",
        "plt.plot(rho_list, iterat_bls)\r\n",
        "plt.xlabel('rho values',color='b')\r\n",
        "plt.ylabel('Iterations',color='b')\r\n",
        "plt.title('Iterations against rho',color='r')\r\n",
        "plt.show()"
      ],
      "execution_count": null,
      "outputs": [
        {
          "output_type": "display_data",
          "data": {
            "image/png": "[encoded data removed]",
            "text/plain": [
              "<Figure size 432x288 with 1 Axes>"
            ]
          },
          "metadata": {
            "tags": [],
            "needs_background": "light"
          }
        }
      ]
    },
    {
      "cell_type": "markdown",
      "metadata": {
        "id": "ZO-G6Gk5y_V4"
      },
      "source": [
        "**Comments :** \\\\\r\n",
        "1. from the above graph it is clear that for rho value close to zero the number of iterations is very large and the number of iterations decreases as the rho value increases.\r\n",
        "2. Minimizers remain same for all rho values whereas the function value keeps fluctuating (i.e. it is not fixed)."
      ]
    },
    {
      "cell_type": "code",
      "metadata": {
        "id": "YmUryBGO19GG"
      },
      "source": [
        ""
      ],
      "execution_count": null,
      "outputs": []
    }
  ]
}