{
  "nbformat": 4,
  "nbformat_minor": 0,
  "metadata": {
    "colab": {
      "name": "20i190011_IE 684_Lab 2_Ex 1.ipynb",
      "provenance": [],
      "collapsed_sections": []
    },
    "kernelspec": {
      "name": "python3",
      "display_name": "Python 3"
    }
  },
  "cells": [
    {
      "cell_type": "markdown",
      "metadata": {
        "id": "nVE0Xoa0Q5wE"
      },
      "source": [
        "$\\Large\\textbf{Lab 2. Exercise 1. }$\r\n",
        "\r\n"
      ]
    },
    {
      "cell_type": "markdown",
      "metadata": {
        "id": "YVkab74DJsRL"
      },
      "source": [
        "Recall that we implemented the gradient descent algorithm to solve $\\min_{\\mathbf{x} \\in {\\mathbb{R}}^n} f(\\mathbf{x})$. The main ingredients in the gradient descent iterations are the descent direction $\\mathbf{p}^k$ which is set to $-\\nabla f(\\mathbf{x}^k)$, and the step length $\\eta^k$ which is found by solving an optimization problem (or sometimes taken as a constant value over all iterations). We used the following procedure in the previous lab:\r\n",
        "\r\n",
        "\\begin{align}\r\n",
        "& \\textbf{Input:} \\text{ Starting point $x^0$, Stopping tolerance $\\tau$}  \\\\\r\n",
        "& \\textbf{Initialize } k=0 \\\\ \r\n",
        "& \\mathbf{p}^k =-\\nabla f(\\mathbf{x}^k) \\\\ \r\n",
        "&\\textbf{While } \\| \\mathbf{p}^k \\|_2 > \\tau \\text{ do:}  \\\\   \r\n",
        "&\\quad \\quad \\eta^k = \\arg\\min_{\\eta\\geq 0} f(\\mathbf{x}^k + \\eta  \\mathbf{p}^k) = \\arg\\min_{\\eta\\geq 0} f(\\mathbf{x}^k - \\eta  \\nabla f(\\mathbf{x}^k)) \\\\\r\n",
        "&\\quad \\quad \\mathbf{x}^{k+1} = \\mathbf{x}^k + \\eta^k \\mathbf{p}^k = \\mathbf{x}^k - \\eta^k \\nabla f (\\mathbf{x}^k)  \\\\ \r\n",
        "&\\quad \\quad k = {k+1} \\\\ \r\n",
        "&\\textbf{End While} \\\\\r\n",
        "&\\textbf{Output: } \\mathbf{x}^k\r\n",
        "\\end{align}"
      ]
    },
    {
      "cell_type": "markdown",
      "metadata": {
        "id": "g7ivDCuJRP9b"
      },
      "source": [
        "We saw that for quadratic functions, a closed form analytical solution for the minimizer of the optimization problem $\\min_{\\eta \\geq 0} f({\\mathbf{x}}^k + \\eta {\\mathbf{p}}^k)$ exists. However finding a closed form expression as a solution to this optimization problem to find a suitable step length might not always be possible. To tackle general situations, we will try to devise a different procedure in this lab. \r\n",
        "\r\n",
        "To find the step length, we will use the following property: \r\n",
        "Suppose a non-zero $\\mathbf{p} \\in {\\mathbb{R}}^n$ is a descent direction at point $\\mathbf{x}$, and let $\\gamma \\in (0,1)$. Then there exists $\\varepsilon >0$ such that  \r\n",
        "\\begin{align}\r\n",
        "f(\\mathbf{x}+\\alpha \\mathbf{p}) \\leq f(\\mathbf{x}) + \\gamma \\alpha \\nabla f(\\mathbf{x})^\\top \\mathbf{p}, \\ \\forall \\alpha \\in (0,\\varepsilon].  \r\n",
        "\\end{align}\r\n",
        "\r\n",
        "This condition is called a $\\textbf{sufficient decrease condition}$. \\\\\r\n",
        "The step length $\\eta^k$ can be found using a backtracking procedure illustrated below to find appropriate value of $\\varepsilon$.  \r\n",
        "\r\n"
      ]
    },
    {
      "cell_type": "markdown",
      "metadata": {
        "id": "WV6OddaNAmpA"
      },
      "source": [
        "\r\n",
        "\\begin{align}\r\n",
        "& \\textbf{Input:}  \\text{ $\\mathbf{x}^k$, $\\mathbf{p}^k$, $\\alpha^0$, $\\rho \\in (0,1)$, $\\gamma \\in (0,1)$ }  \\\\\r\n",
        "& \\textbf{Initialize } \\alpha=\\alpha^0 \\\\ \r\n",
        "&\\textbf{While } f(\\mathbf{x}^k + \\alpha \\mathbf{p}^k)   > f(\\mathbf{x}^k) + \\gamma \\alpha \\nabla f(\\mathbf{x}^k)^\\top \\mathbf{p}^k \\text{ do:}  \\\\   \r\n",
        "&\\quad \\quad \\alpha = \\rho \\alpha  \\\\\r\n",
        "&\\textbf{End While} \\\\\r\n",
        "&\\textbf{Output: } \\alpha\r\n",
        "\\end{align}"
      ]
    },
    {
      "cell_type": "markdown",
      "metadata": {
        "id": "iW-xcDISWmGR"
      },
      "source": [
        "In this exercise, we will check if finding the steplength using the backtracking procedure is advantageous for some quadratic functions. In this sample code we consider $f(\\mathbf{x})=f(x_1,x_2) = (x_1-2)^2 + (x_2 + 3)^2$."
      ]
    },
    {
      "cell_type": "code",
      "metadata": {
        "id": "KJq7tIgIRroP"
      },
      "source": [
        "#numpy package will be used for most of our lab exercises. Please have a look at https://numpy.org/doc/1.19/ for numpy documentation\r\n",
        "#we will first import the numpy package and name it as np\r\n",
        "import numpy as np \r\n",
        "#Henceforth, we can lazily use np to denote the much longer numpy !! "
      ],
      "execution_count": 16,
      "outputs": []
    },
    {
      "cell_type": "code",
      "metadata": {
        "id": "GZjX2IwOR8_X"
      },
      "source": [
        "#Now we will define a function which will compute and return the function value \r\n",
        "def evalf(x):  \r\n",
        "  #Input: x is a numpy array of size 2 \r\n",
        "  assert type(x) is np.ndarray and len(x) == 2 #do not allow arbitrary arguments \r\n",
        "  #after checking if the argument is valid, we can compute the objective function value\r\n",
        "  #compute the function value and return it \r\n",
        "  return (x[1]+3)**2 + (-2+x[0])**2\r\n"
      ],
      "execution_count": 17,
      "outputs": []
    },
    {
      "cell_type": "code",
      "metadata": {
        "id": "6klpwtDra_I8"
      },
      "source": [
        "#Now we will define a function which will compute and return the gradient value as a numpy array \r\n",
        "def evalg(x):  \r\n",
        "  #Input: x is a numpy array of size 2 \r\n",
        "  assert type(x) is np.ndarray and len(x) == 2 #do not allow arbitrary arguments \r\n",
        "  #after checking if the argument is valid, we can compute the gradient value\r\n",
        "  #compute the gradient value and return it \r\n",
        "  return np.array([2*(x[0]-2), 2*(x[1]+3)])"
      ],
      "execution_count": 18,
      "outputs": []
    },
    {
      "cell_type": "code",
      "metadata": {
        "id": "f3blM08V0HOl"
      },
      "source": [
        "#Complete the module to compute the steplength by using the closed-form expression\r\n",
        "def compute_steplength_exact(gradf, A): #add appropriate arguments to the function \r\n",
        "  assert type(gradf) is np.ndarray and len(gradf) == 2 \r\n",
        "  assert type(A) is np.ndarray and A.shape[0] == 2 and  A.shape[1] == 2 #allow only a 2x2 array \r\n",
        "  #Complete the code to compute step length\r\n",
        "  #A = np.identity(2)    #we have already taken A as np.array([[1, 0],[0,1]]) in the lower cell.\r\n",
        "  #gradf = evalg(x)\r\n",
        "  gr_t = np.matrix.transpose(gradf)\r\n",
        "  step_length = np.matmul(gr_t, gradf)/(2*np.matmul(np.matmul(gr_t, A), gradf))\r\n",
        "  return step_length"
      ],
      "execution_count": 19,
      "outputs": []
    },
    {
      "cell_type": "code",
      "metadata": {
        "id": "PGunDYy6Q21S"
      },
      "source": [
        "#Complete the module to compute the steplength by using the backtracking line search\r\n",
        "def compute_steplength_backtracking(x, gradf, alpha_start, rho, gamma): #add appropriate arguments to the function \r\n",
        "  assert type(x) is np.ndarray and len(x) == 2 \r\n",
        "  assert type(gradf) is np.ndarray and len(gradf) == 2 \r\n",
        "  \r\n",
        "  alpha = alpha_start\r\n",
        "  gr_t = np.matrix.transpose(gradf)\r\n",
        "  #implement the backtracking line search\r\n",
        "  while evalf(np.add(x,-alpha*gradf)) > evalf(x)-gamma*alpha*np.matmul(gr_t, gradf):\r\n",
        "    alpha = rho*alpha\r\n",
        "  #print('final step length:',alpha)\r\n",
        "  return alpha"
      ],
      "execution_count": 20,
      "outputs": []
    },
    {
      "cell_type": "code",
      "metadata": {
        "id": "WaUUdzLtVSCl"
      },
      "source": [
        "#we define the types of line search methods that we have implemented\r\n",
        "EXACT_LINE_SEARCH = 1\r\n",
        "BACKTRACKING_LINE_SEARCH = 2\r\n",
        "CONSTANT_STEP_LENGTH = 3"
      ],
      "execution_count": 21,
      "outputs": []
    },
    {
      "cell_type": "code",
      "metadata": {
        "id": "3SCJdqivdpxx"
      },
      "source": [
        "def find_minimizer(start_x, tol, line_search_type, *args):\r\n",
        "  #Input: start_x is a numpy array of size 2, tol denotes the tolerance and is a positive float value\r\n",
        "  assert type(start_x) is np.ndarray and len(start_x) == 2 #do not allow arbitrary arguments \r\n",
        "  assert type(tol) is float and tol>=0 \r\n",
        "  # construct a suitable A matrix for the quadratic function \r\n",
        "  A = np.array([[1, 0],[0,1]])\r\n",
        "  x = start_x\r\n",
        "  g_x = evalg(x)\r\n",
        "\r\n",
        "  #initialization for backtracking line search\r\n",
        "  if(line_search_type == BACKTRACKING_LINE_SEARCH):\r\n",
        "    alpha_start = args[0]\r\n",
        "    rho = args[1]\r\n",
        "    gamma = args[2]\r\n",
        "    #print('Params for Backtracking LS: alpha start:', alpha_start, 'rho:', rho,' gamma:', gamma)\r\n",
        "\r\n",
        "  k = 0\r\n",
        "  #print('iter:',k, ' x:', x, ' f(x):', evalf(x), ' grad at x:', g_x, ' gradient norm:', np.linalg.norm(g_x))\r\n",
        "\r\n",
        "  while (np.linalg.norm(g_x) > tol): #continue as long as the norm of gradient is not close to zero upto a tolerance tol\r\n",
        "  \r\n",
        "    if line_search_type == EXACT_LINE_SEARCH:\r\n",
        "      step_length = compute_steplength_exact(g_x, A) #call the new function you wrote to compute the steplength\r\n",
        "      #raise ValueError('EXACT LINE SEARCH NOT YET IMPLEMENTED')\r\n",
        "    elif line_search_type == BACKTRACKING_LINE_SEARCH:\r\n",
        "      step_length = compute_steplength_backtracking(x,g_x, alpha_start,rho, gamma) #call the new function you wrote to compute the steplength\r\n",
        "      #raise ValueError('BACKTRACKING LINE SEARCH NOT YET IMPLEMENTED')\r\n",
        "    elif line_search_type == CONSTANT_STEP_LENGTH: #do a gradient descent with constant step length\r\n",
        "      step_length = 0.1\r\n",
        "    else:  \r\n",
        "      raise ValueError('Line search type unknown. Please check!')\r\n",
        "    \r\n",
        "    #implement the gradient descent steps here   \r\n",
        "    x = np.subtract(x, np.multiply(step_length,g_x)) #update x = x - step_length*g_x\r\n",
        "    k += 1 #increment iteration\r\n",
        "    g_x = evalg(x) #compute gradient at new point\r\n",
        "\r\n",
        "    #print('iter:',k, ' x:', x, ' f(x):', evalf(x), ' grad at x:', g_x, ' gradient norm:', np.linalg.norm(g_x))\r\n",
        "  return x , k , evalf(x)\r\n"
      ],
      "execution_count": 22,
      "outputs": []
    },
    {
      "cell_type": "markdown",
      "metadata": {
        "id": "RIQTRJbq05wj"
      },
      "source": [
        "**3 ANSWER:**"
      ]
    },
    {
      "cell_type": "code",
      "metadata": {
        "id": "n-kHCkbwe-M4",
        "colab": {
          "base_uri": "https://localhost:8080/"
        },
        "outputId": "ada6a662-4fd0-4aa1-e4b5-1693d87ee8ca"
      },
      "source": [
        "\r\n",
        "my_start_x = np.array([5,5])\r\n",
        "my_tol= 1e-5\r\n",
        "\r\n",
        "print(\"For CONSTANT_STEP_LENGTH procedure :\")\r\n",
        "x_opt, k, f_value = find_minimizer(my_start_x, my_tol, CONSTANT_STEP_LENGTH)\r\n",
        "print(\"Minimizer = \",x_opt,\",Iteration = \",k,\", Minimum function value = \", f_value) \r\n",
        "\r\n",
        "print(\"\\nFor EXACT_LINE_SEARCH procedure :\")\r\n",
        "x_opt_els, k, f_value = find_minimizer(my_start_x, my_tol, EXACT_LINE_SEARCH)\r\n",
        "print(\"Minimizer = \",x_opt_els,\",Iteration = \", k,\", Minimum function value = \", f_value)\r\n",
        "\r\n",
        "print(\"\\nFor BACKTRACKING_LINE_SEARCH procedure :\")\r\n",
        "x_opt_bls, k, f_value = find_minimizer(my_start_x, my_tol, BACKTRACKING_LINE_SEARCH, 1, 0.5,0.5)\r\n",
        "print(\"Minimizer = \",x_opt_bls,\",Iteration = \", k , \", Minimum function value = \",f_value)"
      ],
      "execution_count": 23,
      "outputs": [
        {
          "output_type": "stream",
          "text": [
            "For CONSTANT_STEP_LENGTH procedure :\n",
            "Minimizer =  [ 2.00000151 -2.99999598] ,Iteration =  65 , Minimum function value =  1.8408617293418483e-11\n",
            "\n",
            "For EXACT_LINE_SEARCH procedure :\n",
            "Minimizer =  [ 2. -3.] ,Iteration =  1 , Minimum function value =  0.0\n",
            "\n",
            "For BACKTRACKING_LINE_SEARCH procedure :\n",
            "Minimizer =  [ 2. -3.] ,Iteration =  1 , Minimum function value =  0.0\n"
          ],
          "name": "stdout"
        }
      ]
    },
    {
      "cell_type": "markdown",
      "metadata": {
        "id": "MIAc53JV1J_Y"
      },
      "source": [
        "**4 SOLUTION:**"
      ]
    },
    {
      "cell_type": "code",
      "metadata": {
        "colab": {
          "base_uri": "https://localhost:8080/"
        },
        "id": "ieARv4kn1Rud",
        "outputId": "c69a2cb8-7682-479c-a438-fc3d64886254"
      },
      "source": [
        "my_start_x = np.array([10,10])\r\n",
        "my_tol= 1e-12\r\n",
        "\r\n",
        "print(\"For Exact line search:\")\r\n",
        "x_opt_els, k, f_value = find_minimizer(my_start_x, my_tol, EXACT_LINE_SEARCH)\r\n",
        "print(\"Minimizer = \",x_opt_els,\",Iterations = \", k,\",f(x) = \", f_value)\r\n",
        "\r\n",
        "print(\"\\nFor Backtracking_line_search:\")\r\n",
        "x_opt_bls, k, f_value = find_minimizer(my_start_x, my_tol, BACKTRACKING_LINE_SEARCH, 1, 0.5,0.5)\r\n",
        "print(\"Minimizer = \",x_opt_bls,\",Iterations = \", k ,\",f(x) = \", f_value)"
      ],
      "execution_count": 24,
      "outputs": [
        {
          "output_type": "stream",
          "text": [
            "For Exact line search:\n",
            "Minimizer =  [ 2. -3.] ,Iterations =  1 ,f(x) =  0.0\n",
            "\n",
            "For Backtracking_line_search:\n",
            "Minimizer =  [ 2. -3.] ,Iterations =  1 ,f(x) =  0.0\n"
          ],
          "name": "stdout"
        }
      ]
    },
    {
      "cell_type": "markdown",
      "metadata": {
        "id": "cuNwgE2A9Fqf"
      },
      "source": [
        "**Comment :** \\\\\r\n",
        "Here, from the above result we can say that the number of iterations required to obtain the minimizer is same (equal to 1) for both the exact line search and the backtracking line search procedure. Also the minimizer and the corresponding function value is same in both cases. "
      ]
    },
    {
      "cell_type": "markdown",
      "metadata": {
        "id": "kt_7PxGG_vnA"
      },
      "source": [
        "**5 SOLUTION:**"
      ]
    },
    {
      "cell_type": "code",
      "metadata": {
        "colab": {
          "base_uri": "https://localhost:8080/"
        },
        "id": "F8ItL-zU1SOg",
        "outputId": "e8f564df-0832-4cca-9a7c-26cdaaeca68a"
      },
      "source": [
        "# Backtracking line search for different values of alpha\r\n",
        "my_start_x = np.array([10,10])\r\n",
        "my_tol= 1e-9\r\n",
        "alpha_list = [1, 0.9, 0.75, 0.6, 0.5, 0.4, 0.25, 0.1, 0.01]\r\n",
        "iterations_bls = []\r\n",
        "\r\n",
        "for alpha_start in alpha_list:\r\n",
        "  x_opt_bls, k, f_value = find_minimizer(my_start_x, my_tol, BACKTRACKING_LINE_SEARCH, alpha_start, 0.5, 0.5)\r\n",
        "  iterations_bls.append(k)\r\n",
        "  print('for alpha = ',alpha_start, ', iter:', k, ', x: ',x_opt_bls, ', f(x): ', f_value)"
      ],
      "execution_count": 25,
      "outputs": [
        {
          "output_type": "stream",
          "text": [
            "for alpha =  1 , iter: 1 , x:  [ 2. -3.] , f(x):  0.0\n",
            "for alpha =  0.9 , iter: 11 , x:  [ 2. -3.] , f(x):  2.3300003855701448e-20\n",
            "for alpha =  0.75 , iter: 18 , x:  [ 2. -3.] , f(x):  4.9339669177562995e-20\n",
            "for alpha =  0.6 , iter: 27 , x:  [ 2. -3.] , f(x):  7.561282499767123e-20\n",
            "for alpha =  0.5 , iter: 1 , x:  [ 2. -3.] , f(x):  0.0\n",
            "for alpha =  0.4 , iter: 16 , x:  [ 2. -3.] , f(x):  1.0007255782441984e-20\n",
            "for alpha =  0.25 , iter: 35 , x:  [ 2. -3.] , f(x):  1.9735867671025198e-19\n",
            "for alpha =  0.1 , iter: 109 , x:  [ 2. -3.] , f(x):  1.7417011453747528e-19\n",
            "for alpha =  0.01 , iter: 1195 , x:  [ 2. -3.] , f(x):  2.498486159829666e-19\n"
          ],
          "name": "stdout"
        }
      ]
    },
    {
      "cell_type": "code",
      "metadata": {
        "colab": {
          "base_uri": "https://localhost:8080/"
        },
        "id": "0C-kGUJ31SmZ",
        "outputId": "981cf9c3-0a9b-467a-d425-1f7b74294206"
      },
      "source": [
        "iterations_bls"
      ],
      "execution_count": 26,
      "outputs": [
        {
          "output_type": "execute_result",
          "data": {
            "text/plain": [
              "[1, 11, 18, 27, 1, 16, 35, 109, 1195]"
            ]
          },
          "metadata": {
            "tags": []
          },
          "execution_count": 26
        }
      ]
    },
    {
      "cell_type": "code",
      "metadata": {
        "id": "GcsCIAntMNdb",
        "colab": {
          "base_uri": "https://localhost:8080/",
          "height": 295
        },
        "outputId": "6bdd41ef-e6c3-40ba-98f9-00612352f53e"
      },
      "source": [
        "#Plotting Iterations against alpha values\r\n",
        "import matplotlib.pyplot as plt\r\n",
        "#plt.figure(figsize=(width,height))\r\n",
        "plt.plot(alpha_list, iterations_bls)\r\n",
        "plt.xlabel('alpha values',color='b')\r\n",
        "plt.ylabel('Iterations',color='b')\r\n",
        "plt.title('Iterations against alpha',color='r')\r\n",
        "plt.show()"
      ],
      "execution_count": 27,
      "outputs": [
        {
          "output_type": "display_data",
          "data": {
            "image/png": "[encoded data removed]",
            "text/plain": [
              "<Figure size 432x288 with 1 Axes>"
            ]
          },
          "metadata": {
            "tags": [],
            "needs_background": "light"
          }
        }
      ]
    },
    {
      "cell_type": "markdown",
      "metadata": {
        "id": "myV8q0eOI2mL"
      },
      "source": [
        "**Comments :** \\\\\r\n",
        "**1.** It is obvious from the above graph that as the alpha value decreases from 1, the number of iterations increases gradually till alpha = 0.6, after that  iteration decreases to its minimum value 1 at alpha = 0.5 . \\\\\r\n",
        "**2.** Further decrease in alpha value leads to a rapid increase in the number of iterations. \\\\\r\n",
        "**3.** The minimizer remains same(i.e. [2, -3]) corresponding to every alpha value in the list [1, 0.9, 0.75, 0.6, 0.5, 0.4, 0.25, 0.1, 0.01] whereas the function value starts from 0 (for alpha = 1 ), then increasing for decreasing alpha till alpha = 0.6, then suddenly falling to 0 at alpha = 0.5 . \\\r\n",
        "After that, again there is an increase in the function value. \r\n"
      ]
    },
    {
      "cell_type": "code",
      "metadata": {
        "colab": {
          "base_uri": "https://localhost:8080/"
        },
        "id": "5Wq7p2usOq0i",
        "outputId": "67f11b63-02f6-4636-e4e7-4d77c300c0b9"
      },
      "source": [
        "my_start_x = np.array([10,10])\r\n",
        "my_tol= 1e-9\r\n",
        "\r\n",
        "iterations_els = []\r\n",
        "\r\n",
        "x_opt_els, k, f_value = find_minimizer(my_start_x, my_tol, EXACT_LINE_SEARCH)\r\n",
        "print(\"Number of iterations in exact line search = \", k)\r\n"
      ],
      "execution_count": 28,
      "outputs": [
        {
          "output_type": "stream",
          "text": [
            "Number of iterations in exact line search =  1\n"
          ],
          "name": "stdout"
        }
      ]
    },
    {
      "cell_type": "markdown",
      "metadata": {
        "id": "O6oJ8Oh5OHfX"
      },
      "source": [
        "**Comment 4 :** \\\\\r\n",
        "for **no** alpha value, gradient descent with backtracking line search takes lesser number of iterations when compared to the\r\n",
        "gradient descent procedure with exact line search"
      ]
    },
    {
      "cell_type": "markdown",
      "metadata": {
        "id": "Udy8VHuBREKN"
      },
      "source": [
        "**6 SOLUTION :**"
      ]
    },
    {
      "cell_type": "code",
      "metadata": {
        "colab": {
          "base_uri": "https://localhost:8080/"
        },
        "id": "SIVWoM1LRQmZ",
        "outputId": "a7a571fc-40bb-43a1-b14d-e6a019a7f0a1"
      },
      "source": [
        "my_start_x = np.array([10,10])\r\n",
        "my_tol= 1e-9\r\n",
        "rho_list = [0.9, 0.8, 0.75, 0.6, 0.5, 0.4, 0.25, 0.1, 0.01]\r\n",
        "iterat_bls = []\r\n",
        "\r\n",
        "for rho in rho_list:\r\n",
        "  x_opt_bls, k, f_value = find_minimizer(my_start_x, my_tol, BACKTRACKING_LINE_SEARCH, 1, rho, 0.5)\r\n",
        "  iterat_bls.append(k)\r\n",
        "  print('for rho = ',rho, ', iter:', k, ', x: ',x_opt_bls, 'f(x): ', f_value)"
      ],
      "execution_count": 29,
      "outputs": [
        {
          "output_type": "stream",
          "text": [
            "for rho =  0.9 , iter: 8 , x:  [ 2. -3.] f(x):  3.6998512426496585e-20\n",
            "for rho =  0.8 , iter: 15 , x:  [ 2. -3.] f(x):  1.2114568353050201e-20\n",
            "for rho =  0.75 , iter: 14 , x:  [ 2. -3.] f(x):  6.227537189331739e-21\n",
            "for rho =  0.6 , iter: 19 , x:  [ 2. -3.] f(x):  2.287501357495847e-19\n",
            "for rho =  0.5 , iter: 1 , x:  [ 2. -3.] f(x):  0.0\n",
            "for rho =  0.4 , iter: 16 , x:  [ 2. -3.] f(x):  1.0007255782441984e-20\n",
            "for rho =  0.25 , iter: 35 , x:  [ 2. -3.] f(x):  1.9735867671025198e-19\n",
            "for rho =  0.1 , iter: 109 , x:  [ 2. -3.] f(x):  1.7417011453747528e-19\n",
            "for rho =  0.01 , iter: 1195 , x:  [ 2. -3.] f(x):  2.498486159829666e-19\n"
          ],
          "name": "stdout"
        }
      ]
    },
    {
      "cell_type": "code",
      "metadata": {
        "colab": {
          "base_uri": "https://localhost:8080/",
          "height": 295
        },
        "id": "2yEy7OlTTCdu",
        "outputId": "5e158bb4-110e-4a29-fafb-c01b8bda017b"
      },
      "source": [
        "import matplotlib.pyplot as plt\r\n",
        "#plt.figure(figsize=(width,height))\r\n",
        "plt.plot(rho_list, iterat_bls)\r\n",
        "plt.xlabel('rho values',color='b')\r\n",
        "plt.ylabel('Iterations',color='b')\r\n",
        "plt.title('Iterations against rho',color='r')\r\n",
        "plt.show()"
      ],
      "execution_count": 30,
      "outputs": [
        {
          "output_type": "display_data",
          "data": {
            "image/png": "[encoded data removed]",
            "text/plain": [
              "<Figure size 432x288 with 1 Axes>"
            ]
          },
          "metadata": {
            "tags": [],
            "needs_background": "light"
          }
        }
      ]
    },
    {
      "cell_type": "markdown",
      "metadata": {
        "id": "XFBP8D3xwt3Y"
      },
      "source": [
        "**Comments:** \\\\\r\n",
        "**1.** here for decreasing value of $rho$ the number of iterations first increases then decreases to 1 at $rho = 0.5$ . After that number of iterations starts increasing rapidly for rho $>$ 0.5 . \\\\\r\n",
        "**2.** for decreasing **rho** value first the function value decreases reaching value 0 at **rho** = 0.5 . Further decrease in **rho** value leads to an increase in the function value. \\\\\r\n",
        "**3.** for **no** rho value, gradient descent with backtracking line search takes lesser number of iterations when compared to the gradient descent procedure with exact line search"
      ]
    }
  ]
}