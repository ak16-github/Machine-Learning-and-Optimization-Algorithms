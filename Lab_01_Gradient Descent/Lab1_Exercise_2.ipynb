{
  "nbformat": 4,
  "nbformat_minor": 0,
  "metadata": {
    "colab": {
      "name": "20i190011_IE684_Lab1_Ex2.ipynb",
      "provenance": [],
      "collapsed_sections": []
    },
    "kernelspec": {
      "name": "python3",
      "display_name": "Python 3"
    }
  },
  "cells": [
    {
      "cell_type": "markdown",
      "metadata": {
        "id": "nVE0Xoa0Q5wE"
      },
      "source": [
        "$\\Large\\textbf{Lab 1. Exercise 2. }$\r\n",
        "\r\n",
        "Now we will consider a slightly different algorithm which can be used to find a minimizer of the function $f(\\mathbf{x})=f(x_1,x_2)= (x_1-10)^2 + (x_2+2)^2$. "
      ]
    },
    {
      "cell_type": "markdown",
      "metadata": {
        "id": "0gpe6eGRLvSh"
      },
      "source": [
        "$\\textbf{[R]}$ Write the function $f(\\mathbf{x})$ in the form $\\mathbf{x}^\\top \\mathbf{A} \\mathbf{x} + 2 \\mathbf{b}^\\top \\mathbf{x} + c$, where $\\mathbf{x}\\in {\\mathbb{R}}^2$, $\\mathbf{A}$ is a symmetric matrix of size $2 \\times 2$, $\\mathbf{b}\\in{\\mathbb{R}}^2$ and $c\\in\\mathbb{R}$. \r\n",
        "\r\n"
      ]
    },
    {
      "cell_type": "markdown",
      "metadata": {
        "id": "CTPeLBt0L7F7"
      },
      "source": [
        "Write your answer here: \r\n",
        "\r\n",
        "**1.ANSWER:** \\\\\r\n",
        "$f(\\mathbf{x})=f(x_1,x_2)= (x_1-10)^2 + (x_2+2)^2$ \\\\\r\n",
        "$\\hspace{4cm}=\\ x_{1}^2 - 2*x_{1}*10 \\ +  \\ 10^2\\ + \\ x_{2}^2 \\ + \\ 2*2*x_{2} + \\ 4$ \\\\\r\n",
        "$\\hspace{4cm}=\\ (x_{1}^2 \\ + \\ x_{2}^2)\\ + \\ (- 2*x_{1}*10 \\   \\ + \\ 2*2*x_{2}+ \\ 10^2\\ + \\ 4)$ \\\\\r\n",
        "$  $ \\\\\r\n",
        "$\\hspace{4cm}= \\ \\begin{bmatrix}x_{1} & x_{2}\r\n",
        "\\end{bmatrix}\\ \\begin{bmatrix} 1 & 0 \\\\ 0 & 1 \\end{bmatrix}\\begin{bmatrix}x_{1}\\\\x_{2} \\end{bmatrix} + 2\\begin{bmatrix}-10 & 2\\end{bmatrix}\\begin{bmatrix}\r\n",
        "x_{1} \\\\ x_{2}\\end{bmatrix} + 104$ \\\\\r\n",
        "$  $ \\\\\r\n",
        "$\\hspace{4cm}=\\ \\mathbf{x}^\\top \\mathbf{A} \\mathbf{x} + 2 \\mathbf{b}^\\top \\mathbf{x} + c$  \\\\\r\n",
        "$ where ,\\ \\mathbf{x} = \\begin{bmatrix}x_{1} \\\\ x_{2}\r\n",
        "\\end{bmatrix}\\\\\r\n",
        "\\hspace{1.5cm} \\mathbf{A} = \\begin{bmatrix} 1 & 0 \\\\ 0 & 1 \\end{bmatrix} \\ , \\ \\ \\mathbf{b} = \\begin{bmatrix}-10 \\\\ 2\\end{bmatrix}\\  \\ , \\ c = \\ 104 $\r\n"
      ]
    },
    {
      "cell_type": "markdown",
      "metadata": {
        "id": "sqZygsmiLZZl"
      },
      "source": [
        "**2. QUESTION :**"
      ]
    },
    {
      "cell_type": "markdown",
      "metadata": {
        "id": "PjANnIQ3L39D"
      },
      "source": [
        "\r\n",
        "$\\textbf{[R]}$ It turns out that for a function $f:{\\mathbb{R}}^n\\rightarrow \\mathbb{R}$ of the form $f(\\mathbf{x})=\\mathbf{x}^\\top \\mathbf{A} \\mathbf{x} + 2 \\mathbf{b}^\\top \\mathbf{x} + c$, where $\\mathbf{A}\\in{\\mathbb{R}}^{n \\times n}$ is a symmetric matrix, $\\mathbf{b} \\in {\\mathbb{R}}^n$ and $c\\in \\mathbb{R}$, the analytical solution to $\\min_{\\alpha \\geq 0} f(\\mathbf{x} - \\alpha \\nabla f(\\mathbf{x}))$ can be found in closed form. Find the solution. "
      ]
    },
    {
      "cell_type": "markdown",
      "metadata": {
        "id": "4jU-adJ0L-P1"
      },
      "source": [
        "**Write your answer here:** \\\\\r\n",
        "$ \\ Let ,\\\\\r\n",
        " g(\\alpha) = f(\\mathbf{x} - \\alpha \\nabla f(\\mathbf{x})) $\r\n",
        "\r\n",
        " $ \\  g^{'}(\\alpha) = (-\\nabla f(\\mathbf{x})^{T}) (f(\\mathbf{x} - \\alpha \\nabla f(\\mathbf{x}))$\r\n",
        " \r\n",
        "   $= (-\\nabla f(\\mathbf{x})^{T}) (2A(\\mathbf{x} - \\alpha \\nabla f(\\mathbf{x})+2b)$\r\n",
        "\r\n",
        "   $= -2 [-\\nabla f(\\mathbf{x})^{T}AX-\\alpha\\nabla f(\\mathbf{x})^{T}A\\nabla f(\\mathbf{x})+\\nabla f(\\mathbf{x})^{T}b]$\r\n",
        "\r\n",
        "   $Now \\ for \\ extreme \\ values \\ (i.e. minima \\ or \\ maxima)$ \\\\\r\n",
        "   $ we \\ must \\ have \\ $\r\n",
        "    $ \\ g^{'}(\\alpha) = 0$\r\n",
        "\r\n",
        "\r\n",
        "$=> \\alpha\\nabla f(\\mathbf{x})^{T}A\\nabla f(\\mathbf{x}) = \\nabla f(\\mathbf{x})^{T}(Ax+b)$\r\n",
        "\r\n",
        "$=> \\alpha(\\nabla f(\\mathbf{x})^{T}A\\nabla f(\\mathbf{x})) = (\\nabla f(\\mathbf{x})^{T}\\nabla f(\\mathbf{x}))/2$\r\n",
        "\r\n",
        "$=> \\alpha = \\ (1/2) [(\\nabla f(\\mathbf{x})^{T}\\nabla f(\\mathbf{x})) / (\\nabla f(\\mathbf{x})^{T}A\\nabla f(\\mathbf{x}))]$ \\\\\r\n",
        "$ \\  \\ $ \\\\\r\n",
        "$This \\ is \\ the \\ required \\ solution.$\r\n"
      ]
    },
    {
      "cell_type": "markdown",
      "metadata": {
        "id": "YVkab74DJsRL"
      },
      "source": [
        "We will use this idea to construct a suitable step length finding procedure for our modified algorithm given below: \r\n",
        "\r\n",
        "\r\n",
        "\\begin{align}\r\n",
        "& \\textbf{Input:} \\text{ Starting point $x^0$, Stopping tolerance $\\tau$}  \\\\\r\n",
        "& \\textbf{Initialize } k=0 \\\\ \r\n",
        "&\\textbf{While } \\| \\nabla f(\\mathbf{x}^k) \\|_2 > \\tau \\text{ do:}  \\\\   \r\n",
        "&\\quad \\quad \\eta^k = \\arg\\min_{\\eta\\geq 0} f(\\mathbf{x}^k - \\eta  \\nabla f(\\mathbf{x}^k)) \\\\\r\n",
        "&\\quad \\quad \\mathbf{x}^{k+1} \\leftarrow \\mathbf{x}^k - \\eta^k \\nabla f(\\mathbf{x}^k)  \\\\ \r\n",
        "&\\quad \\quad k = {k+1} \\\\ \r\n",
        "&\\textbf{End While} \\\\\r\n",
        "&\\textbf{Output: } \\mathbf{x}^k\r\n",
        "\\end{align}"
      ]
    },
    {
      "cell_type": "code",
      "metadata": {
        "id": "KJq7tIgIRroP"
      },
      "source": [
        "#numpy package will be used for most of our lab exercises. Please have a look at https://numpy.org/doc/1.19/ for numpy documentation\r\n",
        "#we will first import the numpy package and name it as np\r\n",
        "import numpy as np \r\n",
        "#Henceforth, we can lazily use np to denote the much longer numpy !! "
      ],
      "execution_count": 87,
      "outputs": []
    },
    {
      "cell_type": "code",
      "metadata": {
        "id": "GZjX2IwOR8_X"
      },
      "source": [
        "#Now we will define a function which will compute and return the function value \r\n",
        "def evalf(x):  \r\n",
        "  #Input: x is a numpy array of size 2 \r\n",
        "  assert type(x) is np.ndarray and len(x) == 2 #do not allow arbitrary arguments \r\n",
        "  #after checking if the argument is valid, we can compute the objective function value\r\n",
        "  return (x[0]-10)**2 + (x[1]+2)**2\r\n"
      ],
      "execution_count": 88,
      "outputs": []
    },
    {
      "cell_type": "code",
      "metadata": {
        "id": "6klpwtDra_I8"
      },
      "source": [
        "#Now we will define a function which will compute and return the gradient value as a numpy array \r\n",
        "def evalg(x):  \r\n",
        "  #Input: x is a numpy array of size 2 \r\n",
        "  assert type(x) is np.ndarray and len(x) == 2 #do not allow arbitrary arguments \r\n",
        "  #after checking if the argument is valid, we can compute the gradient value\r\n",
        "  return np.array([2*(x[0]-10),2*(x[1]+2)])"
      ],
      "execution_count": 89,
      "outputs": []
    },
    {
      "cell_type": "code",
      "metadata": {
        "id": "f3blM08V0HOl"
      },
      "source": [
        "#Complete the module to compute the steplength\r\n",
        "def compute_steplength(x): #add appropriate arguments to the function \r\n",
        "  #Complete the code \r\n",
        "  A = np.identity(2)\r\n",
        "  gr = evalg(x)\r\n",
        "  gr_t = np.matrix.transpose(gr)\r\n",
        "  step_length = np.matmul(gr_t, gr)/(2*np.matmul(np.matmul(gr_t, A), gr))\r\n",
        "  return step_length"
      ],
      "execution_count": 90,
      "outputs": []
    },
    {
      "cell_type": "code",
      "metadata": {
        "id": "3SCJdqivdpxx"
      },
      "source": [
        "def find_minimizer(start_x, tol):\r\n",
        "  #Input: start_x is a numpy array of size 2, tol denotes the tolerance and is a positive float value\r\n",
        "  assert type(start_x) is np.ndarray and len(start_x) == 2 #do not allow arbitrary arguments \r\n",
        "  assert type(tol) is float and tol>=0 \r\n",
        "  x = start_x\r\n",
        "  g_x = evalg(x)\r\n",
        "  k = 0\r\n",
        "  #print('iter:',k, ' x:', x, ' f(x):', evalf(x), ' grad at x:', g_x, ' gradient norm:', np.linalg.norm(g_x))\r\n",
        "\r\n",
        "  while (np.linalg.norm(g_x) > tol): #continue as long as the norm of gradient is not close to zero upto a tolerance tol\r\n",
        "    step_length = compute_steplength(x) #call the new function you wrote to compute the steplength\r\n",
        "    x = np.subtract(x, np.multiply(step_length,g_x)) #update x = x - step_length*g_x\r\n",
        "    k += 1 #increment iteration\r\n",
        "    g_x = evalg(x) #compute gradient at new point\r\n",
        "    #print('iter:',k, ' x:', x, ' f(x):', evalf(x), ' grad at x:', g_x, ' gradient norm:', np.linalg.norm(g_x))\r\n",
        "  return x, k\r\n"
      ],
      "execution_count": 91,
      "outputs": []
    },
    {
      "cell_type": "code",
      "metadata": {
        "id": "n-kHCkbwe-M4",
        "colab": {
          "base_uri": "https://localhost:8080/"
        },
        "outputId": "19f242b5-75e8-477b-da55-b9c5b8fc3ee6"
      },
      "source": [
        "my_start_x = np.array([0,0])  \r\n",
        "tol_list = [10**(-j) for j in range(1,13)]\r\n",
        "iterations_list = []\r\n",
        "for my_tol in tol_list:\r\n",
        "  opt_x, k = find_minimizer(my_start_x, my_tol)\r\n",
        "  iterations_list.append(k)\r\n",
        "  print('for tolerance = ',my_tol,', iter:',k)\r\n"
      ],
      "execution_count": 92,
      "outputs": [
        {
          "output_type": "stream",
          "text": [
            "for tolerance =  0.1 , iter: 1\n",
            "for tolerance =  0.01 , iter: 1\n",
            "for tolerance =  0.001 , iter: 1\n",
            "for tolerance =  0.0001 , iter: 1\n",
            "for tolerance =  1e-05 , iter: 1\n",
            "for tolerance =  1e-06 , iter: 1\n",
            "for tolerance =  1e-07 , iter: 1\n",
            "for tolerance =  1e-08 , iter: 1\n",
            "for tolerance =  1e-09 , iter: 1\n",
            "for tolerance =  1e-10 , iter: 1\n",
            "for tolerance =  1e-11 , iter: 1\n",
            "for tolerance =  1e-12 , iter: 1\n"
          ],
          "name": "stdout"
        }
      ]
    },
    {
      "cell_type": "code",
      "metadata": {
        "colab": {
          "base_uri": "https://localhost:8080/",
          "height": 294
        },
        "id": "0WhbYxMOIQlF",
        "outputId": "87c7ca44-91b6-48e9-d93b-62bd9279a50c"
      },
      "source": [
        "import matplotlib.pyplot as plt\r\n",
        "#plt.figure(figsize=(width,height))\r\n",
        "plt.plot(tol_list, iterations_list)\r\n",
        "plt.xlabel('tolerance values',color='b')\r\n",
        "plt.ylabel('Iterations',color='b')\r\n",
        "plt.title('Iterations against Tolerance',color='r')\r\n",
        "plt.show()"
      ],
      "execution_count": 93,
      "outputs": [
        {
          "output_type": "display_data",
          "data": {
            "image/png": "[encoded data removed]",
            "text/plain": [
              "<Figure size 432x288 with 1 Axes>"
            ]
          },
          "metadata": {
            "tags": [],
            "needs_background": "light"
          }
        }
      ]
    },
    {
      "cell_type": "markdown",
      "metadata": {
        "id": "CjrDEwzQMEiL"
      },
      "source": [
        "**Comments :** \\\\\r\n",
        "**1.Here it is obvious from the above graph that the Iterations for each value of tolerance remains constant whereas  in the Exerxise 1 for constant  step length the number of Iterations  for increasing values of tolerance decreases.** \\\\\r\n",
        "**2.And this so because we are using exact line search for finding the minima.**"
      ]
    },
    {
      "cell_type": "markdown",
      "metadata": {
        "id": "BYJaACtKMIGH"
      },
      "source": [
        "${\\Large\\text{Do not forget to rename the file before submission.}}$"
      ]
    },
    {
      "cell_type": "code",
      "metadata": {
        "id": "GcsCIAntMNdb"
      },
      "source": [
        ""
      ],
      "execution_count": 93,
      "outputs": []
    }
  ]
}