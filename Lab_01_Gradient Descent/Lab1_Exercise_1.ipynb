{
  "nbformat": 4,
  "nbformat_minor": 0,
  "metadata": {
    "colab": {
      "name": "20i190011_IE684_Lab1_Ex1.ipynb",
      "provenance": [],
      "collapsed_sections": []
    },
    "kernelspec": {
      "name": "python3",
      "display_name": "Python 3"
    }
  },
  "cells": [
    {
      "cell_type": "code",
      "metadata": {
        "id": "73szPIM6-d-0"
      },
      "source": [
        "import numpy as np"
      ],
      "execution_count": 1,
      "outputs": []
    },
    {
      "cell_type": "code",
      "metadata": {
        "id": "51FurIlzAoFI"
      },
      "source": [
        "def evalf(x):\r\n",
        "  assert type(x) is np.ndarray \r\n",
        "  assert len(x) == 2 #do not allow arbitrary arguments\r\n",
        "  return (x[0]-10)**2 + (x[1]+2)**2"
      ],
      "execution_count": 2,
      "outputs": []
    },
    {
      "cell_type": "code",
      "metadata": {
        "id": "kvB4LbldEZYQ"
      },
      "source": [
        "#Now we will define a function which will compute and return the gradient value as a numpy array \r\n",
        "def evalg(x):  \r\n",
        "  #Input: x is a numpy array of size 2 \r\n",
        "  assert type(x) is np.ndarray and len(x) == 2 #do not allow arbitrary arguments \r\n",
        "  #after checking if the argument is valid, we can compute the gradient value\r\n",
        "  return np.array([2*(x[0]-10),2*(x[1]+2)])"
      ],
      "execution_count": 3,
      "outputs": []
    },
    {
      "cell_type": "code",
      "metadata": {
        "id": "3SCJdqivdpxx"
      },
      "source": [
        "def find_minimizer(start_x, tol, step_length):\r\n",
        "  #Input: start_x is a numpy array of size 2, tol denotes the tolerance and is a positive float value\r\n",
        "  assert type(start_x) is np.ndarray and len(start_x) == 2 #do not allow arbitrary arguments \r\n",
        "  assert type(tol) is float and tol>=0 \r\n",
        "  assert type(step_length) is float and step_length>=0 \r\n",
        "  x = start_x\r\n",
        "  g_x = evalg(x)\r\n",
        "  k = 0\r\n",
        "\r\n",
        "  #we can manage a list to store the function values, might be useful for plotting \r\n",
        "  fvals = [evalf(x)]\r\n",
        "  #print('iter:',k, ' x:', x, ' f(x):', evalf(x), ' grad at x:', g_x, ' gradient norm:', np.linalg.norm(g_x))\r\n",
        "\r\n",
        "  while (np.linalg.norm(g_x) > tol): #continue as long as the norm of gradient is not close to zero upto a tolerance tol\r\n",
        "    x = np.subtract(x, np.multiply(step_length,g_x)) #update x = x - step_length*g_x\r\n",
        "    k += 1 #increment iteration\r\n",
        "    g_x = evalg(x) #compute gradient at new point\r\n",
        "\r\n",
        "    #append the current function value to the list containing function values\r\n",
        "    fvals.append(evalf(x))\r\n",
        "    #print('iter:',k, ' x:', x, ' f(x):', evalf(x), ' grad at x:', g_x, ' gradient norm:', np.linalg.norm(g_x))\r\n",
        "  return x, k, fvals "
      ],
      "execution_count": 4,
      "outputs": []
    },
    {
      "cell_type": "code",
      "metadata": {
        "id": "ioamdwbAEnbm",
        "colab": {
          "base_uri": "https://localhost:8080/"
        },
        "outputId": "9d827d6d-d5e5-4662-c80d-2e9eea74b2cb"
      },
      "source": [
        "## 2.ANSWER:\r\n",
        "\r\n",
        "my_start_x = np.array([0,0])\r\n",
        "my_steplength = 0.1\r\n",
        "my_tol= 1e-3 #10^{-3} or 0.001\r\n",
        "opt_x, k, fvals_ret = find_minimizer(my_start_x, my_tol, my_steplength)\r\n",
        "print(\"\\nfvals_ret = \",fvals_ret)\r\n",
        "print(\"\\nRequired minimizer is = \", opt_x)\r\n",
        "print(\"\\nMinimum value of the function f(x) = \", fvals_ret[-1])"
      ],
      "execution_count": 5,
      "outputs": [
        {
          "output_type": "stream",
          "text": [
            "\n",
            "fvals_ret =  [104, 66.56, 42.598400000000005, 27.26297599999999, 17.448304639999993, 11.166914969599999, 7.146825580543998, 4.573968371548158, 2.927339757790822, 1.8734974449861252, 1.1990383647911187, 0.7673845534663153, 0.49112611421844227, 0.3143207130998035, 0.20116525638387422, 0.12874576408567975, 0.08239728901483524, 0.05273426496949439, 0.033749929580476165, 0.021599954931504538, 0.013823971156162988, 0.008847341539944315, 0.005662298585564255, 0.00362387109476104, 0.0023192775006471342, 0.0014843376004141109, 0.0009499760642649876, 0.0006079846811296092, 0.0003891101959229774, 0.0002490305253907061, 0.00015937953625006111, 0.00010200290320004633, 6.528185804801811e-05, 4.17803891507361e-05, 2.6739449056471013e-05, 1.711324739614714e-05, 1.0952478333534284e-05, 7.00958613346019e-06, 4.486135125415997e-06, 2.8711264802662087e-06, 1.8375209473723096e-06, 1.1760134063175602e-06, 7.526485800438734e-07, 4.816950912285504e-07, 3.0828485838706536e-07, 1.9730230936739685e-07]\n",
            "\n",
            "Required minimizer is =  [ 9.99956444 -1.99991289]\n",
            "\n",
            "Minimum value of the function f(x) =  1.9730230936739685e-07\n"
          ],
          "name": "stdout"
        }
      ]
    },
    {
      "cell_type": "markdown",
      "metadata": {
        "id": "6n8E9gg8HI2V"
      },
      "source": [
        "**2. ANSWER:** \\\r\n",
        "**Required minimizer is =  ( 9.99956444 ,  -1.99991289)** \\\r\n",
        "\r\n",
        "**Minimum value of the function f(x) =  1.9730230936739685e-07**"
      ]
    },
    {
      "cell_type": "markdown",
      "metadata": {
        "id": "TzEfhG14hfAI"
      },
      "source": [
        "**3. SOLUTION:**"
      ]
    },
    {
      "cell_type": "code",
      "metadata": {
        "colab": {
          "base_uri": "https://localhost:8080/"
        },
        "id": "N_seOl7GL4uB",
        "outputId": "f9ac56ee-a788-4fd5-928a-3f238aa1a1c6"
      },
      "source": [
        "my_start_x = np.array([0,0])\r\n",
        "my_steplength = 0.1\r\n",
        "tol_list = [10**(-j) for j in range(1,13)]\r\n",
        "#minimizer_list = []\r\n",
        "#object_val_list = [] \r\n",
        "iterations_list = []\r\n",
        "for my_tol in tol_list:\r\n",
        "  opt_x, k, fvals_ret = find_minimizer(my_start_x, my_tol, my_steplength)\r\n",
        "  #minimizer_list.append(opt_x)\r\n",
        "  #object_val_list.append(fvals_ret[-1])\r\n",
        "  iterations_list.append(k)\r\n",
        "  print('for tolerance = ',my_tol,', iter:',k, ', final minimizer: ',opt_x, ', final objective function value = : ',fvals_ret[-1]) \r\n",
        "\r\n",
        "#print(minimizer_list)\r\n",
        "#print(len(minimizer_list))\r\n",
        "#print(object_val_list) \r\n",
        "#print(len(object_val_list)) "
      ],
      "execution_count": 6,
      "outputs": [
        {
          "output_type": "stream",
          "text": [
            "for tolerance =  0.1 , iter: 24 , final minimizer:  [ 9.95277634 -1.99055527] , final objective function value = :  0.0023192775006471342\n",
            "for tolerance =  0.01 , iter: 35 , final minimizer:  [ 9.99594352 -1.9991887 ] , final objective function value = :  1.711324739614714e-05\n",
            "for tolerance =  0.001 , iter: 45 , final minimizer:  [ 9.99956444 -1.99991289] , final objective function value = :  1.9730230936739685e-07\n",
            "for tolerance =  0.0001 , iter: 55 , final minimizer:  [ 9.99995323 -1.99999065] , final objective function value = :  2.2747407537494312e-09\n",
            "for tolerance =  1e-05 , iter: 66 , final minimizer:  [ 9.99999598 -1.9999992 ] , final objective function value = :  1.6784624208878184e-11\n",
            "for tolerance =  1e-06 , iter: 76 , final minimizer:  [ 9.99999957 -1.99999991] , final objective function value = :  1.9351354112991892e-13\n",
            "for tolerance =  1e-07 , iter: 86 , final minimizer:  [ 9.99999995 -1.99999999] , final objective function value = :  2.2310591544756755e-15\n",
            "for tolerance =  1e-08 , iter: 97 , final minimizer:  [10. -2.] , final objective function value = :  1.646231531207954e-17\n",
            "for tolerance =  1e-09 , iter: 107 , final minimizer:  [10. -2.] , final objective function value = :  1.8979792293943815e-19\n",
            "for tolerance =  1e-10 , iter: 117 , final minimizer:  [10. -2.] , final objective function value = :  2.1881352610100947e-21\n",
            "for tolerance =  1e-11 , iter: 128 , final minimizer:  [10. -2.] , final objective function value = :  1.6144281838241074e-23\n",
            "for tolerance =  1e-12 , iter: 138 , final minimizer:  [10. -2.] , final objective function value = :  1.8589393832778018e-25\n"
          ],
          "name": "stdout"
        }
      ]
    },
    {
      "cell_type": "code",
      "metadata": {
        "colab": {
          "base_uri": "https://localhost:8080/",
          "height": 294
        },
        "id": "SvoGSZzNhply",
        "outputId": "4157d884-56c3-41f4-bfd1-73e307c61c13"
      },
      "source": [
        "import matplotlib.pyplot as plt\r\n",
        "#plt.figure(figsize=(width,height))\r\n",
        "plt.plot(tol_list, iterations_list)\r\n",
        "plt.xlabel('tou values',color='b')\r\n",
        "plt.ylabel('Iterations',color='b')\r\n",
        "plt.title('Iterations against Tou',color='r')\r\n",
        "plt.show()"
      ],
      "execution_count": 7,
      "outputs": [
        {
          "output_type": "display_data",
          "data": {
            "image/png": "[encoded data removed]",
            "text/plain": [
              "<Figure size 432x288 with 1 Axes>"
            ]
          },
          "metadata": {
            "tags": [],
            "needs_background": "light"
          }
        }
      ]
    },
    {
      "cell_type": "markdown",
      "metadata": {
        "id": "OcFOpLHlAF7-"
      },
      "source": [
        "**Comments :** \\\\\r\n",
        "**1.** Here it is obvious from the above graph that as the value of tolerance \\  \\ increases the number of iterations required to achieve the minmizer decreases. \\\\\r\n",
        "**2.** here for the decreasing values of tolerance the objective function value also decreases."
      ]
    },
    {
      "cell_type": "markdown",
      "metadata": {
        "id": "AzGcxUa_hP0Z"
      },
      "source": [
        "**4. SOLUTION:**"
      ]
    },
    {
      "cell_type": "code",
      "metadata": {
        "id": "MTYHroEFeRN1",
        "colab": {
          "base_uri": "https://localhost:8080/"
        },
        "outputId": "8eb595a3-b3a6-4020-a3a5-2ee49e257db2"
      },
      "source": [
        "my_start_x = np.array([0,0])\r\n",
        "my_tol= 1e-5 #10^{-5} or 0.00001\r\n",
        "step_len_list = [0.001, 0.01, 0.05, 0.1, 0.2, 0.3, 0.4, 0.5, 0.6, 0.7, 0.8, 0.9]\r\n",
        "iterations_list = []\r\n",
        "\r\n",
        "for my_steplength in step_len_list:\r\n",
        "  opt_x, k, fvals_ret = find_minimizer(my_start_x, my_tol, my_steplength)\r\n",
        "  iterations_list.append(k)\r\n",
        "  print('for step length = ',my_steplength,', iter:',k, ', final minimizer: ',opt_x, ', final objective function value = : ',fvals_ret[-1]) "
      ],
      "execution_count": 8,
      "outputs": [
        {
          "output_type": "stream",
          "text": [
            "for step length =  0.001 , iter: 7257 , final minimizer:  [ 9.9999951  -1.99999902] , final objective function value = :  2.498673920657803e-11\n",
            "for step length =  0.01 , iter: 720 , final minimizer:  [ 9.99999518 -1.99999904] , final objective function value = :  2.413138986248596e-11\n",
            "for step length =  0.05 , iter: 138 , final minimizer:  [ 9.99999515 -1.99999903] , final objective function value = :  2.443238955704627e-11\n",
            "for step length =  0.1 , iter: 66 , final minimizer:  [ 9.99999598 -1.9999992 ] , final objective function value = :  1.6784624208878184e-11\n",
            "for step length =  0.2 , iter: 29 , final minimizer:  [ 9.99999632 -1.99999926] , final objective function value = :  1.4119062525609656e-11\n",
            "for step length =  0.3 , iter: 16 , final minimizer:  [ 9.99999571 -1.99999914] , final objective function value = :  1.9184613833248683e-11\n",
            "for step length =  0.4 , iter: 10 , final minimizer:  [ 9.99999898 -1.9999998 ] , final objective function value = :  1.0905190389247573e-12\n",
            "for step length =  0.5 , iter: 1 , final minimizer:  [10. -2.] , final objective function value = :  0.0\n",
            "for step length =  0.6 , iter: 10 , final minimizer:  [ 9.99999898 -1.9999998 ] , final objective function value = :  1.0905190389247573e-12\n",
            "for step length =  0.7 , iter: 16 , final minimizer:  [ 9.99999571 -1.99999914] , final objective function value = :  1.9184613832867213e-11\n",
            "for step length =  0.8 , iter: 29 , final minimizer:  [10.00000368 -2.00000074] , final objective function value = :  1.4119062525609656e-11\n",
            "for step length =  0.9 , iter: 66 , final minimizer:  [ 9.99999598 -1.9999992 ] , final objective function value = :  1.6784624208878184e-11\n"
          ],
          "name": "stdout"
        }
      ]
    },
    {
      "cell_type": "code",
      "metadata": {
        "colab": {
          "base_uri": "https://localhost:8080/",
          "height": 294
        },
        "id": "EO2jHwBxWLR1",
        "outputId": "40d0bcbe-0bd9-4691-9d2e-fe81db51d9be"
      },
      "source": [
        "import matplotlib.pyplot as plt\r\n",
        "#plt.figure(figsize=(width,height))\r\n",
        "plt.plot(step_len_list , iterations_list)\r\n",
        "plt.xlabel('step lengths',color='g')\r\n",
        "plt.ylabel('Iterations',color='g')\r\n",
        "plt.title('Iterations Vs StepLengths',color='b')\r\n",
        "plt.show()"
      ],
      "execution_count": 9,
      "outputs": [
        {
          "output_type": "display_data",
          "data": {
            "image/png": "[encoded data removed]",
            "text/plain": [
              "<Figure size 432x288 with 1 Axes>"
            ]
          },
          "metadata": {
            "tags": [],
            "needs_background": "light"
          }
        }
      ]
    },
    {
      "cell_type": "markdown",
      "metadata": {
        "id": "oITisgc9P9gx"
      },
      "source": [
        "**Comments :**\\\\\r\n",
        "1. here for increasing step lengths the number of iterations decreases \\\\\r\n",
        "2.also as the step length increases the objectivefunction value first decreases to 0  then increases."
      ]
    },
    {
      "cell_type": "markdown",
      "metadata": {
        "id": "9WkUsqYIg8qp"
      },
      "source": [
        "**5. SOLUTION:**"
      ]
    },
    {
      "cell_type": "code",
      "metadata": {
        "id": "pfwNCJxIXkkk"
      },
      "source": [
        "import pandas as pd"
      ],
      "execution_count": 10,
      "outputs": []
    },
    {
      "cell_type": "code",
      "metadata": {
        "colab": {
          "base_uri": "https://localhost:8080/",
          "height": 197
        },
        "id": "OfXO3zgxZS2F",
        "outputId": "d7952039-7601-444b-8488-1bb19e736f7b"
      },
      "source": [
        "start_x_list = [(1000, 1000), (500, 100), (50, 50), (10, 50), (50, -2)]\r\n",
        "my_steplength = 0.1\r\n",
        "my_tol= 1e-5 #10^{-5} or 0.00001\r\n",
        "\r\n",
        "iterations_list = []\r\n",
        "minimizer_list = []\r\n",
        "object_val_list = [] \r\n",
        "\r\n",
        "for my_start_x in start_x_list:\r\n",
        "  opt_x, k, fvals_ret = find_minimizer(np.array(my_start_x), my_tol, my_steplength)\r\n",
        "  minimizer_list.append(opt_x)\r\n",
        "  object_val_list.append(fvals_ret[-1])\r\n",
        "  iterations_list.append(k)\r\n",
        "\r\n",
        "dataframe = pd.DataFrame({'Start_Points':start_x_list,  'Iteration_No.':iterations_list, 'minimizer':minimizer_list, 'Obj_func_val':object_val_list})\r\n",
        "dataframe"
      ],
      "execution_count": 11,
      "outputs": [
        {
          "output_type": "execute_result",
          "data": {
            "text/html": [
              "<div>\n",
              "<style scoped>\n",
              "    .dataframe tbody tr th:only-of-type {\n",
              "        vertical-align: middle;\n",
              "    }\n",
              "\n",
              "    .dataframe tbody tr th {\n",
              "        vertical-align: top;\n",
              "    }\n",
              "\n",
              "    .dataframe thead th {\n",
              "        text-align: right;\n",
              "    }\n",
              "</style>\n",
              "<table border=\"1\" class=\"dataframe\">\n",
              "  <thead>\n",
              "    <tr style=\"text-align: right;\">\n",
              "      <th></th>\n",
              "      <th>Start_Points</th>\n",
              "      <th>Iteration_No.</th>\n",
              "      <th>minimizer</th>\n",
              "      <th>Obj_func_val</th>\n",
              "    </tr>\n",
              "  </thead>\n",
              "  <tbody>\n",
              "    <tr>\n",
              "      <th>0</th>\n",
              "      <td>(1000, 1000)</td>\n",
              "      <td>88</td>\n",
              "      <td>[10.000002934634711, -1.9999970297939607]</td>\n",
              "      <td>1.743420e-11</td>\n",
              "    </tr>\n",
              "    <tr>\n",
              "      <th>1</th>\n",
              "      <td>(500, 100)</td>\n",
              "      <td>83</td>\n",
              "      <td>[10.000004432665916, -1.999999077281789]</td>\n",
              "      <td>2.049994e-11</td>\n",
              "    </tr>\n",
              "    <tr>\n",
              "      <th>2</th>\n",
              "      <td>(50, 50)</td>\n",
              "      <td>74</td>\n",
              "      <td>[10.000002695994667, -1.9999964952069333]</td>\n",
              "      <td>1.955196e-11</td>\n",
              "    </tr>\n",
              "    <tr>\n",
              "      <th>3</th>\n",
              "      <td>(10, 50)</td>\n",
              "      <td>73</td>\n",
              "      <td>[10.0, -1.9999956190086667]</td>\n",
              "      <td>1.919309e-11</td>\n",
              "    </tr>\n",
              "    <tr>\n",
              "      <th>4</th>\n",
              "      <td>(50, -2)</td>\n",
              "      <td>72</td>\n",
              "      <td>[10.000004212491667, -2.0]</td>\n",
              "      <td>1.774509e-11</td>\n",
              "    </tr>\n",
              "  </tbody>\n",
              "</table>\n",
              "</div>"
            ],
            "text/plain": [
              "   Start_Points  ...  Obj_func_val\n",
              "0  (1000, 1000)  ...  1.743420e-11\n",
              "1    (500, 100)  ...  2.049994e-11\n",
              "2      (50, 50)  ...  1.955196e-11\n",
              "3      (10, 50)  ...  1.919309e-11\n",
              "4      (50, -2)  ...  1.774509e-11\n",
              "\n",
              "[5 rows x 4 columns]"
            ]
          },
          "metadata": {
            "tags": []
          },
          "execution_count": 11
        }
      ]
    },
    {
      "cell_type": "markdown",
      "metadata": {
        "id": "jyMJaxRfQzAf"
      },
      "source": [
        "**Comments:** \\\\\r\n",
        "1.here the number of iterations is small if we are close to the minimizer of the function and as we go away from the minimizer the number of iterations increases."
      ]
    },
    {
      "cell_type": "code",
      "metadata": {
        "id": "Wid36tlCgJrU"
      },
      "source": [
        ""
      ],
      "execution_count": 11,
      "outputs": []
    }
  ]
}